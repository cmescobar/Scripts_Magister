{
 "cells": [
  {
   "cell_type": "code",
   "execution_count": 1,
   "metadata": {
    "ExecuteTime": {
     "end_time": "2021-04-18T17:53:42.866359Z",
     "start_time": "2021-04-18T17:53:32.870443Z"
    }
   },
   "outputs": [],
   "source": [
    "# Imports\n",
    "import os, warnings\n",
    "import librosa\n",
    "import numpy as np\n",
    "import tensorflow as tf\n",
    "import soundfile as sf\n",
    "import matplotlib.pyplot as plt\n",
    "from scipy.io import wavfile\n",
    "from scipy import signal, fftpack\n",
    "from collections import defaultdict\n",
    "from testing_functions import test_hss\n",
    "from process_functions import preprocessing_audio\n",
    "from utils import find_and_open_audio, signal_segmentation, get_resp_segments\n",
    "from heart_sound_segmentation.filter_and_sampling import downsampling_signal, \\\n",
    "    upsampling_signal\n",
    "from source_separation.descriptor_functions import get_spectrogram\n",
    "from IPython.display import Audio\n",
    "from sklearn.feature_selection import SequentialFeatureSelector\n",
    "from sklearn.neighbors import KNeighborsClassifier\n",
    "from sklearn.decomposition import PCA\n",
    "from sklearn import preprocessing, linear_model, svm\n",
    "from sklearn.metrics import confusion_matrix, accuracy_score\n",
    "from pybalu.feature_selection import sfs\n",
    "from pybalu.feature_transformation import normalize"
   ]
  },
  {
   "cell_type": "markdown",
   "metadata": {},
   "source": [
    "# Funciones previas"
   ]
  },
  {
   "cell_type": "code",
   "execution_count": 2,
   "metadata": {
    "ExecuteTime": {
     "end_time": "2021-04-18T17:53:42.930192Z",
     "start_time": "2021-04-18T17:53:42.900270Z"
    },
    "code_folding": [
     1,
     166,
     242,
     306
    ]
   },
   "outputs": [],
   "source": [
    "# Funciones de características\n",
    "def get_filterbanks(N, samplerate, freq_lim, n_filters, norm_exp=1,\n",
    "                    scale_type='mel', filter_type='triangular',\n",
    "                    norm_filters=True, plot_filterbank=False):\n",
    "    '''Función que permite obtener un banco de filtros linealmente\n",
    "    espaciados o espaciados en frecuencia de mel para calcular\n",
    "    coeficientes cepstrales.\n",
    "    \n",
    "    Parameters\n",
    "    ----------\n",
    "    N : ndarray\n",
    "        Largo de la señal.\n",
    "    samplerate : float\n",
    "        Tasa de muestreo de la señal de entrada.\n",
    "    freq_lim : float\n",
    "        Frecuencia límite para calcular los coeficientes cepstrales.\n",
    "    n_filters : int\n",
    "        Cantidad de filtros a obtener.\n",
    "    scale_type : {'mel', 'linear'}, optional\n",
    "        Tipo de espaciado entre los bancos de filtros para el cálculo\n",
    "        de los coeficientes cepstrales. Por defecto es 'mel' (MFCC). \n",
    "    filter_type : {'triangular', 'hanning', 'squared'}, optional\n",
    "        Forma del filtro a utilizar para el cálculo de la energía en \n",
    "        cada banda. Por defecto es 'triangular'.\n",
    "    inverse_func : {'dct', 'idft'}, optional\n",
    "        Función a utilizar para obtener los coeficientes cepstrales.\n",
    "        Por defecto es 'dct'.\n",
    "    plot_filterbank : bool, optional\n",
    "        Booleano que indica si se grafica el banco de filtros. Por \n",
    "        defecto es False.\n",
    "    \n",
    "    References\n",
    "    ----------\n",
    "    [1] http://practicalcryptography.com/miscellaneous/machine-learning/\n",
    "        guide-mel-frequency-cepstral-coefficients-mfccs/\n",
    "    [2] Xuedong Huang, Alex Acero, Hsiao-Wuen Hon - Spoken Language \n",
    "        Processing A Guide to Theory, Algorithm and System \n",
    "        Development-Prentice Hall PTR (2001)\n",
    "    '''\n",
    "    def _freq_to_bin(f):\n",
    "        # Definición del bin correspondiente en la definición\n",
    "        # del intervalo de cálculo. Se usa (N - 1) ya que los bins\n",
    "        # se definen entre 0 y (N - 1) (largo N)\n",
    "        return np.rint(f / samplerate * (N - 1)).astype(int)\n",
    "    \n",
    "    \n",
    "    def _triangular_filter(bins_points):\n",
    "        # Definición del banco de filtros\n",
    "        filter_bank = np.zeros((n_filters, N))\n",
    "        \n",
    "        for i in range(1, n_filters + 1):\n",
    "            # Tramo ascendente del filtro triangular\n",
    "            filter_bank[i - 1][bins_points[i - 1]:bins_points[i] + 1] = \\\n",
    "                np.linspace(0, 1, abs(bins_points[i] - bins_points[i - 1] + 1))\n",
    "            \n",
    "            # Tramo descendente del filtro triangular\n",
    "            filter_bank[i - 1][bins_points[i]:bins_points[i + 1] + 1] = \\\n",
    "                np.linspace(1, 0, abs(bins_points[i + 1] - bins_points[i] + 1))\n",
    "            \n",
    "        return filter_bank\n",
    "    \n",
    "    \n",
    "    def _hanning_filter(bins_points):\n",
    "        # Definición del banco de filtros\n",
    "        filter_bank = np.zeros((n_filters, N))\n",
    "        \n",
    "        for i in range(1, n_filters + 1):\n",
    "            # Tramo ascendente del filtro triangular\n",
    "            filter_bank[i - 1][bins_points[i - 1]:bins_points[i + 1] + 1] = \\\n",
    "                np.hanning(abs(bins_points[i + 1] - bins_points[i - 1] + 1))\n",
    "        \n",
    "        return filter_bank\n",
    "    \n",
    "    \n",
    "    def _squared_filter(bins_points):\n",
    "        # Definición del banco de filtros\n",
    "        filter_bank = np.zeros((n_filters, N))\n",
    "        \n",
    "        for i in range(1, n_filters + 1):\n",
    "            # Tramo ascendente del filtro triangular\n",
    "            filter_bank[i - 1][bins_points[i - 1]:bins_points[i + 1] + 1] = 1\n",
    "        \n",
    "        return filter_bank\n",
    "    \n",
    "    \n",
    "    def _norm_filterbank(filter_bank):\n",
    "        # Definición del banco de filtros de salida\n",
    "        filter_bank_out = np.zeros((n_filters, N))\n",
    "        \n",
    "        # Normalizar los filtros a energía 1\n",
    "        for i in range(n_filters):\n",
    "            filter_bank_out[i] = filter_bank[i] / \\\n",
    "                                 sum(filter_bank[i] ** norm_exp)\n",
    "            \n",
    "        return filter_bank_out\n",
    "    \n",
    "    \n",
    "    # Definición de los bines en base a las frecuencias de cada filtro\n",
    "    if scale_type == 'linear':\n",
    "        # Definición de las \"n_filters\" frecuencias equiespaciadas entre\n",
    "        # 0 y freq_lim. Se le agregan 2 puntos (0 y el freq_lim) ya que se \n",
    "        # necesitan para definir los límites de los filtros.\n",
    "        freqs = np.arange(0, (n_filters + 1) + 1) * freq_lim / (n_filters + 1)\n",
    "    \n",
    "    \n",
    "    elif scale_type == 'mel':\n",
    "        # Definición del límite en frecuencias de mel (para no pasarse del\n",
    "        # freq_lim al devolverse)\n",
    "        mel_freq_lim = 2595 * np.log10(1 + freq_lim / 700)\n",
    "        \n",
    "        # Definición de las \"n_filters\" frecuencias espaciadas en escala mel \n",
    "        # entre 0 y freq_lim. Se le agregan 2 puntos (0 y el freq_lim) ya \n",
    "        # que se necesitan para definir los límites de los filtros.\n",
    "        mel_freqs = np.arange(0, (n_filters + 1) + 1) * mel_freq_lim / (n_filters + 1)\n",
    "        \n",
    "        # Transformando de intervalos equi espaciados usando la escala\n",
    "        # de mel. Es necesario hacer la transformación inversa ya que\n",
    "        # en este caso se dice que lo equi espaciado viene de mel\n",
    "        freqs = 700 * (10 ** (mel_freqs / 2595) - 1)\n",
    "    \n",
    "    else:\n",
    "        raise Exception('Opción de tipo de coeficiente cepstral no válido.')\n",
    "    \n",
    "    \n",
    "    # Transformando a bins\n",
    "    bins_to = _freq_to_bin(freqs)\n",
    "    \n",
    "    \n",
    "    # Obtención del banco de filtros\n",
    "    if filter_type == 'triangular':\n",
    "        filter_bank = _triangular_filter(bins_to)\n",
    "        \n",
    "    if filter_type == 'hanning':\n",
    "        filter_bank = _hanning_filter(bins_to)\n",
    "    \n",
    "    elif filter_type == 'squared':\n",
    "        filter_bank = _squared_filter(bins_to)\n",
    "    \n",
    "    # Normalizar por la energía de la señal\n",
    "    if norm_filters:\n",
    "        filter_bank = _norm_filterbank(filter_bank)\n",
    "    \n",
    "    \n",
    "    # Gráfico del banco de filtros\n",
    "    if plot_filterbank:\n",
    "        plt.figure()\n",
    "        \n",
    "        # Definición del vector de frecuencias\n",
    "        f_plot = np.arange(N) * samplerate / N\n",
    "        \n",
    "        for i in range(n_filters):\n",
    "            plt.plot(filter_bank[i])\n",
    "            # plt.plot(f_plot, filter_bank[i])\n",
    "\n",
    "        for i in bins_to:\n",
    "            # plt.axvline(i * samplerate / N, c='silver', linestyle=':')\n",
    "            plt.axvline(i, c='silver', linestyle=':')\n",
    "            \n",
    "        # plt.xlim([0, freq_lim])\n",
    "        plt.xlim([0, bins_to[-1]])\n",
    "        plt.show()\n",
    "    \n",
    "    \n",
    "    return filter_bank\n",
    "\n",
    "\n",
    "def get_cepstral_coefficients(signal_in, samplerate, spectrogram_params,\n",
    "                              freq_lim, n_filters, n_coefs, scale_type='mel', \n",
    "                              filter_type='triangular', inverse_func='dct', \n",
    "                              norm_filters=True, plot_filterbank=False, \n",
    "                              power=2):\n",
    "    '''Función que permite obtener los coeficientes cepstrales a partir de \n",
    "    un banco de filtros.\n",
    "    \n",
    "    Parameters\n",
    "    ----------\n",
    "    signal_in : ndarray\n",
    "        Señal de entrada.\n",
    "    samplerate : float\n",
    "        Tasa de muestreo de la señal de entrada.\n",
    "    freq_lim : float\n",
    "        Frecuencia límite para calcular los coeficientes cepstrales.\n",
    "    n_coefs : int\n",
    "        Cantidad de coeficientes a obtener.\n",
    "    scale_type : {'mel', 'linear'}, optional\n",
    "        Tipo de espaciado entre los bancos de filtros para el cálculo\n",
    "        de los coeficientes cepstrales. Por defecto es 'mel' (MFCC). \n",
    "    filter_type : {'triangular', 'hanning', 'squared'}, optional\n",
    "        Forma del filtro a utilizar para el cálculo de la energía en \n",
    "        cada banda. Por defecto es 'triangular'.\n",
    "    inverse_func : {'dct', 'idft'}, optional\n",
    "        Función a utilizar para obtener los coeficientes cepstrales.\n",
    "        Por defecto es 'dct'.\n",
    "    plot_filterbank : bool, optional\n",
    "        Booleano que indica si se grafica el banco de filtros. Por \n",
    "        defecto es False.\n",
    "    \n",
    "    References\n",
    "    ----------\n",
    "    [1] http://practicalcryptography.com/miscellaneous/machine-learning/\n",
    "        guide-mel-frequency-cepstral-coefficients-mfccs/\n",
    "    [2] Xuedong Huang, Alex Acero, Hsiao-Wuen Hon - Spoken Language \n",
    "        Processing A Guide to Theory, Algorithm and System \n",
    "        Development-Prentice Hall PTR (2001)\n",
    "    '''    \n",
    "    # Definición de la cantidad de puntos a considerar\n",
    "    filter_bank = get_filterbanks(spectrogram_params['N'], samplerate, \n",
    "                                  freq_lim=freq_lim, n_filters=n_filters, \n",
    "                                  scale_type=scale_type, \n",
    "                                  filter_type=filter_type,\n",
    "                                  norm_filters=norm_filters, \n",
    "                                  plot_filterbank=plot_filterbank)\n",
    "    \n",
    "    # Obtener el espectrograma de la señal\n",
    "    t, f, S = get_spectrogram(signal_in, samplerate, N=spectrogram_params['N'], \n",
    "                              padding=spectrogram_params['padding'], \n",
    "                              repeat=spectrogram_params['repeat'], \n",
    "                              noverlap=spectrogram_params['noverlap'], \n",
    "                              window=spectrogram_params['window'], \n",
    "                              whole=True)\n",
    "    \n",
    "    # Definición del espectro de la señal\n",
    "    energy_spectrum = np.abs(S) ** power\n",
    "    \n",
    "    # Se aplica el banco de filtros sobre el espectro de la señal\n",
    "    energy_coefs = np.dot(filter_bank, energy_spectrum)\n",
    "    \n",
    "    # Aplicando el logaritmo\n",
    "    energy_coefs = np.log(energy_coefs + 1e-10)\n",
    "    \n",
    "    # Calculando los coeficientes cepstrales\n",
    "    if inverse_func == 'dct':\n",
    "        cepstral_coefs = fftpack.dct(energy_coefs, norm='ortho', axis=0)\n",
    "    elif inverse_func == 'idft':\n",
    "        cepstral_coefs = np.fft.ifft(energy_coefs, axis=-1).real\n",
    "    else:\n",
    "        raise Exception('Opción de tipo de función inversa no válida.')\n",
    "    \n",
    "    \n",
    "    return cepstral_coefs[:n_coefs]\n",
    "\n",
    "\n",
    "def get_bands_coefficients(signal_in, samplerate, spectrogram_params,\n",
    "                           freq_lim, n_coefs, scale_type='mel', \n",
    "                           filter_type='triangular', norm_filters=True, \n",
    "                           plot_filterbank=False, \n",
    "                           power=2):\n",
    "    '''Función que permite obtener la energía por bandas de frecuencia\n",
    "    a partir de un banco de filtros.\n",
    "    \n",
    "    Parameters\n",
    "    ----------\n",
    "    signal_in : ndarray\n",
    "        Señal de entrada.\n",
    "    samplerate : float\n",
    "        Tasa de muestreo de la señal de entrada.\n",
    "    freq_lim : float\n",
    "        Frecuencia límite para calcular los coeficientes cepstrales.\n",
    "    n_coefs : int\n",
    "        Cantidad de coeficientes a obtener.\n",
    "    scale_type : {'mel', 'linear'}, optional\n",
    "        Tipo de espaciado entre los bancos de filtros para el cálculo\n",
    "        de los coeficientes cepstrales. Por defecto es 'mel' (MFCC). \n",
    "    filter_type : {'triangular', 'hanning', 'squared'}, optional\n",
    "        Forma del filtro a utilizar para el cálculo de la energía en \n",
    "        cada banda. Por defecto es 'triangular'.\n",
    "    inverse_func : {'dct', 'idft'}, optional\n",
    "        Función a utilizar para obtener los coeficientes cepstrales.\n",
    "        Por defecto es 'dct'.\n",
    "    plot_filterbank : bool, optional\n",
    "        Booleano que indica si se grafica el banco de filtros. Por \n",
    "        defecto es False.\n",
    "    \n",
    "    References\n",
    "    ----------\n",
    "    [1] http://practicalcryptography.com/miscellaneous/machine-learning/\n",
    "        guide-mel-frequency-cepstral-coefficients-mfccs/\n",
    "    [2] Xuedong Huang, Alex Acero, Hsiao-Wuen Hon - Spoken Language \n",
    "        Processing A Guide to Theory, Algorithm and System \n",
    "        Development-Prentice Hall PTR (2001)\n",
    "    '''    \n",
    "    # Definición de la cantidad de puntos a considerar\n",
    "    filter_bank = get_filterbanks(spectrogram_params['N'], samplerate, \n",
    "                                  freq_lim=freq_lim, \n",
    "                                  n_coefs=n_coefs, scale_type=scale_type, \n",
    "                                  filter_type=filter_type,\n",
    "                                  norm_filters=norm_filters, \n",
    "                                  plot_filterbank=plot_filterbank)\n",
    "    \n",
    "    # Obtener el espectrograma de la señal\n",
    "    t, f, S = get_spectrogram(signal_in, samplerate, N=spectrogram_params['N'], \n",
    "                              padding=spectrogram_params['padding'], \n",
    "                              repeat=spectrogram_params['repeat'], \n",
    "                              noverlap=spectrogram_params['noverlap'], \n",
    "                              window=spectrogram_params['window'], \n",
    "                              whole=True)\n",
    "    \n",
    "    # Definición del espectro de la señal\n",
    "    energy_spectrum = np.abs(S) ** power\n",
    "    \n",
    "    # Se aplica el banco de filtros sobre el espectro de la señal\n",
    "    energy_coefs = np.dot(filter_bank, energy_spectrum)\n",
    "    \n",
    "    return energy_coefs\n",
    "\n",
    "\n",
    "def get_energy_bands(signal_in, samplerate, spectrogram_params, \n",
    "                     fmin=0, fmax=1000, fband=20, power=2):\n",
    "    '''Función que permite definir un espectrograma en bandas de \n",
    "    energía.\n",
    "    \n",
    "    \n",
    "    Parameters\n",
    "    ----------\n",
    "    signal_in : ndarray\n",
    "        Señal de entrada.\n",
    "    samplerate : float\n",
    "        Tasa de muestreo de la señal de entrada.\n",
    "    spectrogram_params : dict\n",
    "        Parámetros del espectrograma.\n",
    "    fmin : float, optional\n",
    "        Frecuencia mínima a considerar en el intervalo de interés.\n",
    "        Por defecto es 0.\n",
    "    fmax : float, optional\n",
    "        Frecuencia máxima a considerar en el intervalo de interés.\n",
    "        Este valor no puede mayor a samplerate / 2. Por defecto \n",
    "        es 1000.\n",
    "    fband : float, optional\n",
    "        Ancho de cada banda de frecuencia entre fmin y fmax. Por \n",
    "        defecto es 20.\n",
    "    power : float, optional\n",
    "        Exponente con el que se calcula la energía.\n",
    "    \n",
    "    Returns\n",
    "    -------\n",
    "    energy_S : ndarray\n",
    "        Bandas de energía a través del tiempo (formato \n",
    "        espectrograma) con dimensión (#bandas x #bins de tiempo \n",
    "        del espectrograma).     \n",
    "    '''\n",
    "    # Obtener el espectrograma\n",
    "    t, f, S = get_spectrogram(signal_in, samplerate, \n",
    "                              N=spectrogram_params['N'], \n",
    "                              padding=spectrogram_params['padding'], \n",
    "                              repeat=spectrogram_params['repeat'], \n",
    "                              noverlap=spectrogram_params['noverlap'], \n",
    "                              window=spectrogram_params['window'], \n",
    "                              whole=False)\n",
    "    \n",
    "    # Definición de los intervalos\n",
    "    f_intervals = np.arange(fmin, fmax, fband)\n",
    "\n",
    "    # Definición de la lista que almacenará los datos\n",
    "    energy_band = np.zeros(len(f_intervals) - 1)\n",
    "    energy_S = np.zeros((len(energy_band), len(t)))\n",
    "\n",
    "    for i in range(len(f_intervals) - 1):\n",
    "        lower_lim = f_intervals[i]\n",
    "        upper_lim = f_intervals[i + 1]\n",
    "\n",
    "        # Definición de los índices de interés\n",
    "        indexes = np.where((lower_lim <= f) & (f <= upper_lim))[0]\n",
    "\n",
    "        # Definiendo el valor\n",
    "        energy_S[i] = np.sum(abs(S[indexes,:]) ** power, axis=0)\n",
    "    \n",
    "    return energy_S\n"
   ]
  },
  {
   "cell_type": "code",
   "execution_count": 3,
   "metadata": {
    "ExecuteTime": {
     "end_time": "2021-04-18T17:53:42.977161Z",
     "start_time": "2021-04-18T17:53:42.963200Z"
    },
    "code_folding": [
     0
    ]
   },
   "outputs": [],
   "source": [
    "def _conditioning_signal(signal_in, samplerate, samplerate_to):\n",
    "    # Acondicionando en caso de que no tenga samplerate de 1000 Hz.\n",
    "    if samplerate < samplerate_to:\n",
    "        print(f'Upsampling de la señal de fs = {samplerate} Hz '\n",
    "              f'a fs = {samplerate_to} Hz.') \n",
    "        new_rate = samplerate_to           \n",
    "        audio_to = upsampling_signal(signal_in, samplerate, new_samplerate=new_rate)\n",
    "\n",
    "    elif samplerate > samplerate_to:\n",
    "        print(f'Downsampling de la señal de fs = {samplerate} Hz '\n",
    "              f'a fs = {samplerate_to} Hz.')\n",
    "        new_rate, audio_to = downsampling_signal(signal_in, samplerate, \n",
    "                                                 freq_pass=samplerate_to//2-100, \n",
    "                                                 freq_stop=samplerate_to//2)\n",
    "\n",
    "    else:\n",
    "        print(f'Samplerate adecuado a fs = {samplerate} Hz.')\n",
    "        audio_to = signal_in\n",
    "        new_rate = samplerate_to\n",
    "\n",
    "    # Mensaje para asegurar\n",
    "    print(f'Señal acondicionada a {new_rate} Hz para la separación de fuentes.')\n",
    "\n",
    "    # Asegurándose de que el largo de la señal sea par\n",
    "    if len(audio_to) % 2 != 0:\n",
    "        audio_to = np.concatenate((audio_to, [0]))\n",
    "\n",
    "    return audio_to, new_rate"
   ]
  },
  {
   "cell_type": "code",
   "execution_count": 4,
   "metadata": {
    "ExecuteTime": {
     "end_time": "2021-04-18T17:53:43.024254Z",
     "start_time": "2021-04-18T17:53:43.009295Z"
    },
    "code_folding": [
     0
    ]
   },
   "outputs": [],
   "source": [
    "def pybalu_clean(features, tol=1e-8, show=False):\n",
    "    n_features = features.shape[1]\n",
    "    ip = np.ones(n_features, dtype=int)\n",
    "\n",
    "    # cleaning correlated features\n",
    "    warnings.filterwarnings('ignore')\n",
    "    C = np.abs(np.corrcoef(features, rowvar=False))\n",
    "    idxs = np.vstack(np.where(C > .99))\n",
    "    \n",
    "    # remove pairs of same feature ( feature i will have a correlation of 1 whit itself )\n",
    "    idxs = idxs[:, idxs[0,:] != idxs[1,:]]\n",
    "    \n",
    "    # remove correlated features\n",
    "    if idxs.size > 0:\n",
    "        ip[np.max(idxs, 0)] = 0\n",
    "    \n",
    "    # remove constant features\n",
    "    s = features.std(axis=0, ddof=1)\n",
    "    ip[s < tol] = 0\n",
    "    p = np.where(ip.astype(bool))[0]\n",
    "\n",
    "    if show:\n",
    "        print(f'Clean: number of features reduced from {n_features} to {p.size}.')\n",
    "\n",
    "    return p"
   ]
  },
  {
   "cell_type": "markdown",
   "metadata": {},
   "source": [
    "# Parámetros de los descriptores"
   ]
  },
  {
   "cell_type": "code",
   "execution_count": 5,
   "metadata": {
    "ExecuteTime": {
     "end_time": "2021-04-18T17:55:43.600135Z",
     "start_time": "2021-04-18T17:55:43.582182Z"
    }
   },
   "outputs": [],
   "source": [
    "# Parámetro base de datos\n",
    "preprocess = True\n",
    "\n",
    "# Parámetros de los espectrogramas generales\n",
    "N = 1024\n",
    "noverlap = int(0.9 * N)\n",
    "spec_params = {'N': N, 'noverlap': noverlap, 'window': 'hann', \n",
    "               'padding': 0, 'repeat': 0}\n",
    "\n",
    "# Parámetros MFCC\n",
    "mfcc_params = {'n_mfcc': 50, 'n_filters': 50, 'spec_params': spec_params,\n",
    "               'freq_lim': 2000, 'norm_filters': True, 'power': 2}\n",
    "lfcc_params = {'n_mfcc': 50, 'n_filters': 50, 'spec_params': spec_params,\n",
    "               'freq_lim': 2000, 'norm_filters': True, 'power': 2}\n",
    "energy_params = {'spec_params': spec_params, 'fmin': 0, 'fmax': 1000, \n",
    "                 'fband': 20}\n",
    "\n",
    "# Parámetros de extracción de características\n",
    "collapse_mfcc = 'mean'\n",
    "func_type = 'cepstral_coefficients'"
   ]
  },
  {
   "cell_type": "code",
   "execution_count": 6,
   "metadata": {
    "ExecuteTime": {
     "end_time": "2021-04-18T17:55:44.020907Z",
     "start_time": "2021-04-18T17:55:43.950557Z"
    }
   },
   "outputs": [],
   "source": [
    "# Dirección de la base de datos\n",
    "db_original = 'C:/Users/Chris/Desktop/Scripts_Magister/Respiratory_Sound_Database/audio_and_txt_files'\n",
    "db_folder = 'preprocessed_signals_OLD'\n",
    "\n",
    "# Nombres de los archivos\n",
    "filenames = [i[:-4] for i in os.listdir(db_folder) if i.endswith('.wav') and not 'Tc' in i]"
   ]
  },
  {
   "cell_type": "markdown",
   "metadata": {},
   "source": [
    "# Extracción de características"
   ]
  },
  {
   "cell_type": "code",
   "execution_count": 7,
   "metadata": {
    "ExecuteTime": {
     "end_time": "2021-04-18T17:59:02.412569Z",
     "start_time": "2021-04-18T17:55:47.236410Z"
    },
    "code_folding": [],
    "scrolled": true
   },
   "outputs": [
    {
     "name": "stdout",
     "output_type": "stream",
     "text": [
      "Iteración 1: 101_1b1_Al_sc_Meditron\n",
      "--------------------------\n",
      "Samplerate = 4000, largo = (80182,)\n",
      "Iteración 2: 101_1b1_Pr_sc_Meditron\n",
      "--------------------------\n",
      "Samplerate = 4000, largo = (80182,)\n",
      "Iteración 3: 102_1b1_Ar_sc_Meditron\n",
      "--------------------------\n",
      "Samplerate = 4000, largo = (80182,)\n",
      "Iteración 4: 103_2b2_Ar_mc_LittC2SE\n",
      "--------------------------\n",
      "Samplerate = 4000, largo = (80182,)\n",
      "Iteración 5: 106_2b1_Pl_mc_LittC2SE\n",
      "--------------------------\n",
      "Samplerate = 4000, largo = (80182,)\n",
      "Iteración 6: 106_2b1_Pr_mc_LittC2SE\n",
      "--------------------------\n",
      "Samplerate = 4000, largo = (80182,)\n",
      "Iteración 7: 107_2b3_Al_mc_AKGC417L\n",
      "--------------------------\n",
      "Samplerate = 4000, largo = (80182,)\n",
      "Iteración 8: 107_2b3_Ar_mc_AKGC417L\n",
      "--------------------------\n",
      "Samplerate = 4000, largo = (80182,)\n",
      "Iteración 9: 107_2b3_Ll_mc_AKGC417L\n",
      "--------------------------\n",
      "Samplerate = 4000, largo = (80182,)\n",
      "Iteración 10: 107_2b3_Lr_mc_AKGC417L\n",
      "--------------------------\n",
      "Samplerate = 4000, largo = (80182,)\n",
      "Iteración 11: 107_2b3_Pl_mc_AKGC417L\n",
      "--------------------------\n",
      "Samplerate = 4000, largo = (80182,)\n",
      "Iteración 12: 107_2b3_Pr_mc_AKGC417L\n",
      "--------------------------\n",
      "Samplerate = 4000, largo = (80182,)\n",
      "Iteración 13: 107_2b4_Al_mc_AKGC417L\n",
      "--------------------------\n",
      "Samplerate = 4000, largo = (80182,)\n",
      "Iteración 14: 107_2b4_Ar_mc_AKGC417L\n",
      "--------------------------\n",
      "Samplerate = 4000, largo = (80182,)\n",
      "Iteración 15: 107_2b4_Ll_mc_AKGC417L\n",
      "--------------------------\n",
      "Samplerate = 4000, largo = (80182,)\n",
      "Iteración 16: 107_2b4_Lr_mc_AKGC417L\n",
      "--------------------------\n",
      "Samplerate = 4000, largo = (80182,)\n",
      "Iteración 17: 107_2b4_Pl_mc_AKGC417L\n",
      "--------------------------\n",
      "Samplerate = 4000, largo = (80182,)\n",
      "Iteración 18: 107_2b4_Pr_mc_AKGC417L\n",
      "--------------------------\n",
      "Samplerate = 4000, largo = (80182,)\n",
      "Iteración 19: 107_2b5_Al_mc_AKGC417L\n",
      "--------------------------\n",
      "Samplerate = 4000, largo = (80182,)\n",
      "Iteración 20: 107_2b5_Ar_mc_AKGC417L\n",
      "--------------------------\n",
      "Samplerate = 4000, largo = (80182,)\n",
      "Iteración 21: 107_2b5_Ll_mc_AKGC417L\n",
      "--------------------------\n",
      "Samplerate = 4000, largo = (80182,)\n",
      "Iteración 22: 107_2b5_Lr_mc_AKGC417L\n",
      "--------------------------\n",
      "Samplerate = 4000, largo = (80182,)\n",
      "Iteración 23: 107_2b5_Pl_mc_AKGC417L\n",
      "--------------------------\n",
      "Samplerate = 4000, largo = (80182,)\n",
      "Iteración 24: 107_2b5_Pr_mc_AKGC417L\n",
      "--------------------------\n",
      "Samplerate = 4000, largo = (80182,)\n",
      "Iteración 25: 107_3p2_Al_mc_AKGC417L\n",
      "--------------------------\n",
      "Samplerate = 4000, largo = (80182,)\n",
      "Iteración 26: 107_3p2_Ar_mc_AKGC417L\n",
      "--------------------------\n",
      "Samplerate = 4000, largo = (80182,)\n",
      "Iteración 27: 107_3p2_Ll_mc_AKGC417L\n",
      "--------------------------\n",
      "Samplerate = 4000, largo = (80182,)\n",
      "Iteración 28: 107_3p2_Lr_mc_AKGC417L\n",
      "--------------------------\n",
      "Samplerate = 4000, largo = (80182,)\n",
      "Iteración 29: 107_3p2_Pl_mc_AKGC417L\n",
      "--------------------------\n",
      "Samplerate = 4000, largo = (80182,)\n",
      "Iteración 30: 107_3p2_Pr_mc_AKGC417L\n",
      "--------------------------\n",
      "Samplerate = 4000, largo = (80182,)\n",
      "Iteración 31: 108_1b1_Al_sc_Meditron\n",
      "--------------------------\n",
      "Samplerate = 4000, largo = (80182,)\n",
      "Iteración 32: 114_1b4_Al_mc_AKGC417L\n",
      "--------------------------\n",
      "Samplerate = 4000, largo = (80182,)\n",
      "Iteración 33: 114_1b4_Ar_mc_AKGC417L\n",
      "--------------------------\n",
      "Samplerate = 4000, largo = (80182,)\n",
      "Iteración 34: 114_1b4_Lr_mc_AKGC417L\n",
      "--------------------------\n",
      "Samplerate = 4000, largo = (80182,)\n",
      "Iteración 35: 114_1b4_Pl_mc_AKGC417L\n",
      "--------------------------\n",
      "Samplerate = 4000, largo = (80182,)\n",
      "Iteración 36: 114_1b4_Pr_mc_AKGC417L\n",
      "--------------------------\n",
      "Samplerate = 4000, largo = (80182,)\n",
      "Iteración 37: 115_1b1_Ar_sc_Meditron\n",
      "--------------------------\n",
      "Samplerate = 4000, largo = (80182,)\n",
      "Iteración 38: 116_1b2_Pl_sc_Meditron\n",
      "--------------------------\n",
      "Samplerate = 4000, largo = (80182,)\n",
      "Iteración 39: 119_1b1_Ar_sc_Meditron\n",
      "--------------------------\n",
      "Samplerate = 4000, largo = (80182,)\n",
      "Iteración 40: 122_2b1_Al_mc_LittC2SE\n",
      "--------------------------\n",
      "Samplerate = 4000, largo = (80182,)\n",
      "Iteración 41: 122_2b1_Ar_mc_LittC2SE\n",
      "--------------------------\n",
      "Samplerate = 4000, largo = (80182,)\n",
      "Iteración 42: 122_2b2_Al_mc_LittC2SE\n",
      "--------------------------\n",
      "Samplerate = 4000, largo = (80182,)\n",
      "Iteración 43: 122_2b2_Ar_mc_LittC2SE\n",
      "--------------------------\n",
      "Samplerate = 4000, largo = (80182,)\n",
      "Iteración 44: 122_2b3_Al_mc_LittC2SE\n",
      "--------------------------\n",
      "Samplerate = 4000, largo = (80182,)\n",
      "Iteración 45: 122_2b3_Ar_mc_LittC2SE\n",
      "--------------------------\n",
      "Samplerate = 4000, largo = (80182,)\n",
      "Iteración 46: 123_1b1_Al_sc_Meditron\n",
      "--------------------------\n",
      "Samplerate = 4000, largo = (80182,)\n",
      "Iteración 47: 126_1b1_Al_sc_Meditron\n",
      "--------------------------\n",
      "Samplerate = 4000, largo = (80182,)\n",
      "Iteración 48: 127_1b1_Ar_sc_Meditron\n",
      "--------------------------\n",
      "Samplerate = 4000, largo = (80062,)\n",
      "Iteración 49: 129_1b1_Ar_sc_Meditron\n",
      "--------------------------\n",
      "Samplerate = 4000, largo = (80182,)\n",
      "Iteración 50: 130_1p2_Al_mc_AKGC417L\n",
      "--------------------------\n",
      "Samplerate = 4000, largo = (80182,)\n",
      "Iteración 51: 130_1p2_Ar_mc_AKGC417L\n",
      "--------------------------\n",
      "Samplerate = 4000, largo = (80182,)\n",
      "Iteración 52: 130_1p2_Ll_mc_AKGC417L\n",
      "--------------------------\n",
      "Samplerate = 4000, largo = (80182,)\n",
      "Iteración 53: 130_1p2_Lr_mc_AKGC417L\n",
      "--------------------------\n",
      "Samplerate = 4000, largo = (80182,)\n",
      "Iteración 54: 130_1p2_Pl_mc_AKGC417L\n",
      "--------------------------\n",
      "Samplerate = 4000, largo = (80182,)\n",
      "Iteración 55: 130_1p2_Pr_mc_AKGC417L\n",
      "--------------------------\n",
      "Samplerate = 4000, largo = (80182,)\n",
      "Iteración 56: 130_1p3_Al_mc_AKGC417L\n",
      "--------------------------\n",
      "Samplerate = 4000, largo = (80182,)\n",
      "Iteración 57: 130_1p3_Ar_mc_AKGC417L\n",
      "--------------------------\n",
      "Samplerate = 4000, largo = (80182,)\n",
      "Iteración 58: 130_1p3_Ll_mc_AKGC417L\n",
      "--------------------------\n",
      "Samplerate = 4000, largo = (80182,)\n",
      "Iteración 59: 130_1p3_Lr_mc_AKGC417L\n",
      "--------------------------\n",
      "Samplerate = 4000, largo = (80182,)\n",
      "Iteración 60: 130_1p3_Pl_mc_AKGC417L\n",
      "--------------------------\n",
      "Samplerate = 4000, largo = (80182,)\n",
      "Iteración 61: 130_1p3_Pr_mc_AKGC417L\n",
      "--------------------------\n",
      "Samplerate = 4000, largo = (80182,)\n",
      "Iteración 62: 130_1p4_Al_mc_AKGC417L\n",
      "--------------------------\n",
      "Samplerate = 4000, largo = (80182,)\n",
      "Iteración 63: 130_1p4_Ar_mc_AKGC417L\n",
      "--------------------------\n",
      "Samplerate = 4000, largo = (80182,)\n",
      "Iteración 64: 130_1p4_Ll_mc_AKGC417L\n",
      "--------------------------\n",
      "Samplerate = 4000, largo = (80182,)\n",
      "Iteración 65: 130_1p4_Lr_mc_AKGC417L\n",
      "--------------------------\n",
      "Samplerate = 4000, largo = (80182,)\n",
      "Iteración 66: 130_1p4_Pl_mc_AKGC417L\n",
      "--------------------------\n",
      "Samplerate = 4000, largo = (80182,)\n",
      "Iteración 67: 130_1p4_Pr_mc_AKGC417L\n",
      "--------------------------\n",
      "Samplerate = 4000, largo = (80182,)\n",
      "Iteración 68: 130_2b2_Al_mc_AKGC417L\n",
      "--------------------------\n",
      "Samplerate = 4000, largo = (80182,)\n",
      "Iteración 69: 130_2b2_Ar_mc_AKGC417L\n",
      "--------------------------\n",
      "Samplerate = 4000, largo = (80182,)\n",
      "Iteración 70: 130_2b2_Ll_mc_AKGC417L\n",
      "--------------------------\n",
      "Samplerate = 4000, largo = (80182,)\n",
      "Iteración 71: 130_2b2_Lr_mc_AKGC417L\n",
      "--------------------------\n",
      "Samplerate = 4000, largo = (80182,)\n",
      "Iteración 72: 130_2b2_Pl_mc_AKGC417L\n",
      "--------------------------\n",
      "Samplerate = 4000, largo = (80182,)\n",
      "Iteración 73: 130_2b2_Pr_mc_AKGC417L\n",
      "--------------------------\n",
      "Samplerate = 4000, largo = (80182,)\n",
      "Iteración 74: 130_2b3_Al_mc_AKGC417L\n",
      "--------------------------\n",
      "Samplerate = 4000, largo = (80182,)\n",
      "Iteración 75: 130_2b3_Ar_mc_AKGC417L\n",
      "--------------------------\n",
      "Samplerate = 4000, largo = (80182,)\n",
      "Iteración 76: 130_2b3_Ll_mc_AKGC417L\n",
      "--------------------------\n",
      "Samplerate = 4000, largo = (80182,)\n",
      "Iteración 77: 130_2b3_Lr_mc_AKGC417L\n",
      "--------------------------\n",
      "Samplerate = 4000, largo = (80182,)\n",
      "Iteración 78: 130_2b3_Pl_mc_AKGC417L\n",
      "--------------------------\n",
      "Samplerate = 4000, largo = (80182,)\n",
      "Iteración 79: 130_2b3_Pr_mc_AKGC417L\n",
      "--------------------------\n",
      "Samplerate = 4000, largo = (80182,)\n",
      "Iteración 80: 130_2b4_Al_mc_AKGC417L\n",
      "--------------------------\n",
      "Samplerate = 4000, largo = (80182,)\n",
      "Iteración 81: 130_2b4_Ar_mc_AKGC417L\n",
      "--------------------------\n",
      "Samplerate = 4000, largo = (80182,)\n",
      "Iteración 82: 130_2b4_Ll_mc_AKGC417L\n",
      "--------------------------\n",
      "Samplerate = 4000, largo = (80182,)\n"
     ]
    },
    {
     "name": "stdout",
     "output_type": "stream",
     "text": [
      "Iteración 83: 130_2b4_Lr_mc_AKGC417L\n",
      "--------------------------\n",
      "Samplerate = 4000, largo = (80182,)\n",
      "Iteración 84: 130_2b4_Pl_mc_AKGC417L\n",
      "--------------------------\n",
      "Samplerate = 4000, largo = (80182,)\n",
      "Iteración 85: 130_2p3_Pl_mc_AKGC417L\n",
      "--------------------------\n",
      "Samplerate = 4000, largo = (80182,)\n",
      "Iteración 86: 130_2p5_Al_mc_AKGC417L\n",
      "--------------------------\n",
      "Samplerate = 4000, largo = (80182,)\n",
      "Iteración 87: 130_2p5_Ar_mc_AKGC417L\n",
      "--------------------------\n",
      "Samplerate = 4000, largo = (80182,)\n",
      "Iteración 88: 130_2p5_Lr_mc_AKGC417L\n",
      "--------------------------\n",
      "Samplerate = 4000, largo = (80182,)\n",
      "Iteración 89: 130_2p5_Pl_mc_AKGC417L\n",
      "--------------------------\n",
      "Samplerate = 4000, largo = (80182,)\n",
      "Iteración 90: 130_2p5_Pr_mc_AKGC417L\n",
      "--------------------------\n",
      "Samplerate = 4000, largo = (80182,)\n",
      "Iteración 91: 130_3b3_Ll_mc_AKGC417L\n",
      "--------------------------\n",
      "Samplerate = 4000, largo = (80182,)\n",
      "Iteración 92: 130_3b4_Al_mc_AKGC417L\n",
      "--------------------------\n",
      "Samplerate = 4000, largo = (80182,)\n",
      "Iteración 93: 130_3b4_Ar_mc_AKGC417L\n",
      "--------------------------\n",
      "Samplerate = 4000, largo = (80182,)\n",
      "Iteración 94: 130_3b4_Lr_mc_AKGC417L\n",
      "--------------------------\n",
      "Samplerate = 4000, largo = (80182,)\n",
      "Iteración 95: 130_3b4_Pl_mc_AKGC417L\n",
      "--------------------------\n",
      "Samplerate = 4000, largo = (80182,)\n",
      "Iteración 96: 130_3b4_Pr_mc_AKGC417L\n",
      "--------------------------\n",
      "Samplerate = 4000, largo = (80182,)\n",
      "Iteración 97: 130_3p2_Al_mc_AKGC417L\n",
      "--------------------------\n",
      "Samplerate = 4000, largo = (80182,)\n",
      "Iteración 98: 130_3p2_Ar_mc_AKGC417L\n",
      "--------------------------\n",
      "Samplerate = 4000, largo = (80182,)\n",
      "Iteración 99: 130_3p2_Pl_mc_AKGC417L\n",
      "--------------------------\n",
      "Samplerate = 4000, largo = (80182,)\n",
      "Iteración 100: 130_3p2_Pr_mc_AKGC417L\n",
      "--------------------------\n",
      "Samplerate = 4000, largo = (80182,)\n",
      "Iteración 101: 130_3p3_Al_mc_AKGC417L\n",
      "--------------------------\n",
      "Samplerate = 4000, largo = (80182,)\n",
      "Iteración 102: 130_3p3_Pl_mc_AKGC417L\n",
      "--------------------------\n",
      "Samplerate = 4000, largo = (80182,)\n",
      "Iteración 103: 130_3p3_Pr_mc_AKGC417L\n",
      "--------------------------\n",
      "Samplerate = 4000, largo = (80182,)\n",
      "Iteración 104: 130_3p4_Al_mc_AKGC417L\n",
      "--------------------------\n",
      "Samplerate = 4000, largo = (80182,)\n",
      "Iteración 105: 130_3p4_Pl_mc_AKGC417L\n",
      "--------------------------\n",
      "Samplerate = 4000, largo = (80182,)\n",
      "Iteración 106: 130_3p4_Pr_mc_AKGC417L\n",
      "--------------------------\n",
      "Samplerate = 4000, largo = (80182,)\n",
      "Iteración 107: 131_1b1_Al_sc_Meditron\n",
      "--------------------------\n",
      "Samplerate = 4000, largo = (80182,)\n",
      "Iteración 108: 132_2b1_Lr_mc_LittC2SE\n",
      "--------------------------\n",
      "Samplerate = 4000, largo = (80182,)\n",
      "Iteración 109: 132_2b2_Lr_mc_LittC2SE\n",
      "--------------------------\n",
      "Samplerate = 4000, largo = (80182,)\n",
      "Iteración 110: 133_2p2_Al_mc_AKGC417L\n",
      "--------------------------\n",
      "Samplerate = 4000, largo = (80182,)\n",
      "Iteración 111: 133_2p2_Ar_mc_AKGC417L\n",
      "--------------------------\n",
      "Samplerate = 4000, largo = (80182,)\n",
      "Iteración 112: 133_2p2_Pl_mc_AKGC417L\n",
      "--------------------------\n",
      "Samplerate = 4000, largo = (80182,)\n",
      "Iteración 113: 133_2p3_Al_mc_AKGC417L\n",
      "--------------------------\n",
      "Samplerate = 4000, largo = (80182,)\n",
      "Iteración 114: 133_2p3_Ar_mc_AKGC417L\n",
      "--------------------------\n",
      "Samplerate = 4000, largo = (80182,)\n",
      "Iteración 115: 133_2p3_Pl_mc_AKGC417L\n",
      "--------------------------\n",
      "Samplerate = 4000, largo = (80182,)\n",
      "Iteración 116: 133_2p3_Pr_mc_AKGC417L\n",
      "--------------------------\n",
      "Samplerate = 4000, largo = (80182,)\n",
      "Iteración 117: 133_2p4_Al_mc_AKGC417L\n",
      "--------------------------\n",
      "Samplerate = 4000, largo = (80182,)\n",
      "Iteración 118: 133_2p4_Ar_mc_AKGC417L\n",
      "--------------------------\n",
      "Samplerate = 4000, largo = (80182,)\n",
      "Iteración 119: 133_2p4_Pl_mc_AKGC417L\n",
      "--------------------------\n",
      "Samplerate = 4000, largo = (80182,)\n",
      "Iteración 120: 133_2p4_Pr_mc_AKGC417L\n",
      "--------------------------\n",
      "Samplerate = 4000, largo = (80182,)\n",
      "Iteración 121: 133_3p2_Al_mc_AKGC417L\n",
      "--------------------------\n",
      "Samplerate = 4000, largo = (80182,)\n",
      "Iteración 122: 133_3p2_Ar_mc_AKGC417L\n",
      "--------------------------\n",
      "Samplerate = 4000, largo = (80182,)\n",
      "Iteración 123: 133_3p2_Pl_mc_AKGC417L\n",
      "--------------------------\n",
      "Samplerate = 4000, largo = (80182,)\n",
      "Iteración 124: 133_3p2_Pr_mc_AKGC417L\n",
      "--------------------------\n",
      "Samplerate = 4000, largo = (80182,)\n",
      "Iteración 125: 134_2b1_Al_mc_LittC2SE\n",
      "--------------------------\n",
      "Samplerate = 4000, largo = (80182,)\n",
      "Iteración 126: 134_2b1_Ar_mc_LittC2SE\n",
      "--------------------------\n",
      "Samplerate = 4000, largo = (80182,)\n",
      "Iteración 127: 134_2b2_Al_mc_LittC2SE\n",
      "--------------------------\n",
      "Samplerate = 4000, largo = (80182,)\n",
      "Iteración 128: 134_2b2_Ar_mc_LittC2SE\n",
      "--------------------------\n",
      "Samplerate = 4000, largo = (80182,)\n",
      "Iteración 129: 134_2b3_Ar_mc_LittC2SE\n",
      "--------------------------\n",
      "Samplerate = 4000, largo = (80182,)\n",
      "Iteración 130: 135_2b1_Al_mc_LittC2SE\n",
      "--------------------------\n",
      "Samplerate = 4000, largo = (80182,)\n",
      "Iteración 131: 135_2b1_Ar_mc_LittC2SE\n",
      "--------------------------\n",
      "Samplerate = 4000, largo = (80182,)\n",
      "Iteración 132: 135_2b1_Pl_mc_LittC2SE\n",
      "--------------------------\n",
      "Samplerate = 4000, largo = (80182,)\n",
      "Iteración 133: 135_2b2_Al_mc_LittC2SE\n",
      "--------------------------\n",
      "Samplerate = 4000, largo = (80182,)\n",
      "Iteración 134: 135_2b2_Ar_mc_LittC2SE\n",
      "--------------------------\n",
      "Samplerate = 4000, largo = (80182,)\n",
      "Iteración 135: 135_2b2_Pl_mc_LittC2SE\n",
      "--------------------------\n",
      "Samplerate = 4000, largo = (80182,)\n",
      "Iteración 136: 135_2b3_Al_mc_LittC2SE\n",
      "--------------------------\n",
      "Samplerate = 4000, largo = (80182,)\n",
      "Iteración 137: 135_2b3_Ar_mc_LittC2SE\n",
      "--------------------------\n",
      "Samplerate = 4000, largo = (80182,)\n",
      "Iteración 138: 135_2b3_Pl_mc_LittC2SE\n",
      "--------------------------\n",
      "Samplerate = 4000, largo = (80182,)\n",
      "Iteración 139: 135_2b3_Pr_mc_LittC2SE\n",
      "--------------------------\n",
      "Samplerate = 4000, largo = (80182,)\n",
      "Iteración 140: 136_1b1_Ar_sc_Meditron\n",
      "--------------------------\n",
      "Samplerate = 4000, largo = (80182,)\n",
      "Iteración 141: 137_1b1_Ar_sc_Meditron\n",
      "--------------------------\n",
      "Samplerate = 4000, largo = (80182,)\n",
      "Iteración 142: 137_1b1_Ll_sc_Meditron\n",
      "--------------------------\n",
      "Samplerate = 4000, largo = (80182,)\n",
      "Iteración 143: 138_1p2_Al_mc_AKGC417L\n",
      "--------------------------\n",
      "Samplerate = 4000, largo = (80182,)\n",
      "Iteración 144: 138_1p2_Ar_mc_AKGC417L\n",
      "--------------------------\n",
      "Samplerate = 4000, largo = (80182,)\n",
      "Iteración 145: 138_1p2_Ll_mc_AKGC417L\n",
      "--------------------------\n",
      "Samplerate = 4000, largo = (80182,)\n",
      "Iteración 146: 138_1p2_Lr_mc_AKGC417L\n",
      "--------------------------\n",
      "Samplerate = 4000, largo = (80182,)\n",
      "Iteración 147: 138_1p2_Pl_mc_AKGC417L\n",
      "--------------------------\n",
      "Samplerate = 4000, largo = (80182,)\n",
      "Iteración 148: 138_1p2_Pr_mc_AKGC417L\n",
      "--------------------------\n",
      "Samplerate = 4000, largo = (80182,)\n",
      "Iteración 149: 138_1p3_Al_mc_AKGC417L\n",
      "--------------------------\n",
      "Samplerate = 4000, largo = (80182,)\n",
      "Iteración 150: 138_1p3_Ar_mc_AKGC417L\n",
      "--------------------------\n",
      "Samplerate = 4000, largo = (80182,)\n",
      "Iteración 151: 138_1p3_Ll_mc_AKGC417L\n",
      "--------------------------\n",
      "Samplerate = 4000, largo = (80182,)\n",
      "Iteración 152: 138_1p3_Lr_mc_AKGC417L\n",
      "--------------------------\n",
      "Samplerate = 4000, largo = (80182,)\n",
      "Iteración 153: 138_1p3_Pl_mc_AKGC417L\n",
      "--------------------------\n",
      "Samplerate = 4000, largo = (80182,)\n",
      "Iteración 154: 138_1p3_Pr_mc_AKGC417L\n",
      "--------------------------\n",
      "Samplerate = 4000, largo = (80182,)\n",
      "Iteración 155: 138_1p4_Ar_mc_AKGC417L\n",
      "--------------------------\n",
      "Samplerate = 4000, largo = (80182,)\n",
      "Iteración 156: 138_1p4_Ll_mc_AKGC417L\n",
      "--------------------------\n",
      "Samplerate = 4000, largo = (80182,)\n",
      "Iteración 157: 138_1p4_Lr_mc_AKGC417L\n",
      "--------------------------\n",
      "Samplerate = 4000, largo = (80182,)\n",
      "Iteración 158: 138_1p4_Pl_mc_AKGC417L\n",
      "--------------------------\n",
      "Samplerate = 4000, largo = (80182,)\n",
      "Iteración 159: 138_1p4_Pr_mc_AKGC417L\n",
      "--------------------------\n",
      "Samplerate = 4000, largo = (80182,)\n",
      "Iteración 160: 138_2p2_Al_mc_AKGC417L\n",
      "--------------------------\n",
      "Samplerate = 4000, largo = (80182,)\n",
      "Iteración 161: 138_2p2_Ar_mc_AKGC417L\n",
      "--------------------------\n",
      "Samplerate = 4000, largo = (80182,)\n",
      "Iteración 162: 138_2p2_Ll_mc_AKGC417L\n",
      "--------------------------\n",
      "Samplerate = 4000, largo = (80182,)\n",
      "Iteración 163: 138_2p2_Lr_mc_AKGC417L\n",
      "--------------------------\n",
      "Samplerate = 4000, largo = (80182,)\n"
     ]
    },
    {
     "name": "stdout",
     "output_type": "stream",
     "text": [
      "Iteración 164: 138_2p2_Pl_mc_AKGC417L\n",
      "--------------------------\n",
      "Samplerate = 4000, largo = (80182,)\n",
      "Iteración 165: 138_2p2_Pr_mc_AKGC417L\n",
      "--------------------------\n",
      "Samplerate = 4000, largo = (80182,)\n",
      "Iteración 166: 140_2b2_Ll_mc_LittC2SE\n",
      "--------------------------\n",
      "Samplerate = 4000, largo = (80182,)\n",
      "Iteración 167: 140_2b3_Ll_mc_LittC2SE\n",
      "--------------------------\n",
      "Samplerate = 4000, largo = (80182,)\n",
      "Iteración 168: 141_1b1_Pr_mc_LittC2SE\n",
      "--------------------------\n",
      "Samplerate = 4000, largo = (80182,)\n",
      "Iteración 169: 141_1b2_Ar_mc_LittC2SE\n",
      "--------------------------\n",
      "Samplerate = 4000, largo = (80182,)\n",
      "Iteración 170: 141_1b2_Lr_mc_LittC2SE\n",
      "--------------------------\n",
      "Samplerate = 4000, largo = (80182,)\n",
      "Iteración 171: 141_1b2_Pr_mc_LittC2SE\n",
      "--------------------------\n",
      "Samplerate = 4000, largo = (80182,)\n",
      "Iteración 172: 141_1b3_Al_mc_LittC2SE\n",
      "--------------------------\n",
      "Samplerate = 4000, largo = (80182,)\n",
      "Iteración 173: 141_1b3_Ar_mc_LittC2SE\n",
      "--------------------------\n",
      "Samplerate = 4000, largo = (80182,)\n",
      "Iteración 174: 141_1b3_Pr_mc_LittC2SE\n",
      "--------------------------\n",
      "Samplerate = 4000, largo = (80182,)\n",
      "Iteración 175: 142_1b1_Pl_mc_LittC2SE\n",
      "--------------------------\n",
      "Samplerate = 4000, largo = (80182,)\n",
      "Iteración 176: 143_1b1_Al_sc_Meditron\n",
      "--------------------------\n",
      "Samplerate = 4000, largo = (80182,)\n",
      "Iteración 177: 144_1b1_Al_sc_Meditron\n",
      "--------------------------\n",
      "Samplerate = 4000, largo = (80102,)\n",
      "Iteración 178: 145_2b2_Al_mc_AKGC417L\n",
      "--------------------------\n",
      "Samplerate = 4000, largo = (80182,)\n",
      "Iteración 179: 145_2b2_Ar_mc_AKGC417L\n",
      "--------------------------\n",
      "Samplerate = 4000, largo = (80182,)\n",
      "Iteración 180: 145_2b2_Lr_mc_AKGC417L\n",
      "--------------------------\n",
      "Samplerate = 4000, largo = (80182,)\n",
      "Iteración 181: 145_2b2_Pr_mc_AKGC417L\n",
      "--------------------------\n",
      "Samplerate = 4000, largo = (80182,)\n",
      "Iteración 182: 145_3b2_Ar_mc_AKGC417L\n",
      "--------------------------\n",
      "Samplerate = 4000, largo = (80182,)\n",
      "Iteración 183: 145_3b2_Lr_mc_AKGC417L\n",
      "--------------------------\n",
      "Samplerate = 4000, largo = (80182,)\n",
      "Iteración 184: 145_3b4_Pl_mc_AKGC417L\n",
      "--------------------------\n",
      "Samplerate = 4000, largo = (80182,)\n",
      "Iteración 185: 146_2b2_Pl_mc_AKGC417L\n",
      "--------------------------\n",
      "Samplerate = 4000, largo = (80182,)\n",
      "Iteración 186: 146_2b4_Al_mc_AKGC417L\n",
      "--------------------------\n",
      "Samplerate = 4000, largo = (80182,)\n",
      "Iteración 187: 146_2b4_Ar_mc_AKGC417L\n",
      "--------------------------\n",
      "Samplerate = 4000, largo = (80182,)\n",
      "Iteración 188: 146_2b4_Ll_mc_AKGC417L\n",
      "--------------------------\n",
      "Samplerate = 4000, largo = (80182,)\n",
      "Iteración 189: 146_2b4_Lr_mc_AKGC417L\n",
      "--------------------------\n",
      "Samplerate = 4000, largo = (80182,)\n",
      "Iteración 190: 146_2b4_Pr_mc_AKGC417L\n",
      "--------------------------\n",
      "Samplerate = 4000, largo = (80182,)\n",
      "Iteración 191: 146_8p3_Al_mc_AKGC417L\n",
      "--------------------------\n",
      "Samplerate = 4000, largo = (80182,)\n",
      "Iteración 192: 146_8p3_Ar_mc_AKGC417L\n",
      "--------------------------\n",
      "Samplerate = 4000, largo = (80182,)\n",
      "Iteración 193: 146_8p3_Lr_mc_AKGC417L\n",
      "--------------------------\n",
      "Samplerate = 4000, largo = (80182,)\n",
      "Iteración 194: 146_8p3_Pl_mc_AKGC417L\n",
      "--------------------------\n",
      "Samplerate = 4000, largo = (80182,)\n",
      "Iteración 195: 146_8p3_Pr_mc_AKGC417L\n",
      "--------------------------\n",
      "Samplerate = 4000, largo = (80182,)\n",
      "Iteración 196: 147_2b2_Al_mc_AKGC417L\n",
      "--------------------------\n",
      "Samplerate = 4000, largo = (80182,)\n",
      "Iteración 197: 147_2b2_Ar_mc_AKGC417L\n",
      "--------------------------\n",
      "Samplerate = 4000, largo = (80182,)\n",
      "Iteración 198: 147_2b2_Pl_mc_AKGC417L\n",
      "--------------------------\n",
      "Samplerate = 4000, largo = (80182,)\n",
      "Iteración 199: 147_2b3_Al_mc_AKGC417L\n",
      "--------------------------\n",
      "Samplerate = 4000, largo = (80182,)\n",
      "Iteración 200: 147_2b3_Ar_mc_AKGC417L\n",
      "--------------------------\n",
      "Samplerate = 4000, largo = (80182,)\n",
      "Iteración 201: 147_2b3_Ll_mc_AKGC417L\n",
      "--------------------------\n",
      "Samplerate = 4000, largo = (80182,)\n",
      "Iteración 202: 147_2b3_Lr_mc_AKGC417L\n",
      "--------------------------\n",
      "Samplerate = 4000, largo = (80182,)\n",
      "Iteración 203: 147_2b3_Pl_mc_AKGC417L\n",
      "--------------------------\n",
      "Samplerate = 4000, largo = (80182,)\n",
      "Iteración 204: 147_2b4_Al_mc_AKGC417L\n",
      "--------------------------\n",
      "Samplerate = 4000, largo = (80182,)\n",
      "Iteración 205: 147_2b4_Ar_mc_AKGC417L\n",
      "--------------------------\n",
      "Samplerate = 4000, largo = (80182,)\n",
      "Iteración 206: 147_2b4_Ll_mc_AKGC417L\n",
      "--------------------------\n",
      "Samplerate = 4000, largo = (80182,)\n",
      "Iteración 207: 147_2b4_Lr_mc_AKGC417L\n",
      "--------------------------\n",
      "Samplerate = 4000, largo = (80182,)\n",
      "Iteración 208: 147_2b4_Pl_mc_AKGC417L\n",
      "--------------------------\n",
      "Samplerate = 4000, largo = (80182,)\n",
      "Iteración 209: 148_1b1_Al_sc_Meditron\n",
      "--------------------------\n",
      "Samplerate = 4000, largo = (80182,)\n",
      "Iteración 210: 149_1b1_Al_sc_Meditron\n",
      "--------------------------\n",
      "Samplerate = 4000, largo = (80182,)\n",
      "Iteración 211: 149_1b1_Lr_sc_Meditron\n",
      "--------------------------\n",
      "Samplerate = 4000, largo = (80182,)\n",
      "Iteración 212: 149_1b1_Pl_sc_Meditron\n",
      "--------------------------\n",
      "Samplerate = 4000, largo = (80182,)\n",
      "Iteración 213: 150_1b2_Al_sc_Meditron\n",
      "--------------------------\n",
      "Samplerate = 4000, largo = (80182,)\n",
      "Iteración 214: 151_2p2_Al_mc_AKGC417L\n",
      "--------------------------\n",
      "Samplerate = 4000, largo = (80182,)\n",
      "Iteración 215: 151_2p2_Ar_mc_AKGC417L\n",
      "--------------------------\n",
      "Samplerate = 4000, largo = (80182,)\n",
      "Iteración 216: 151_2p2_Ll_mc_AKGC417L\n",
      "--------------------------\n",
      "Samplerate = 4000, largo = (80182,)\n",
      "Iteración 217: 151_2p2_Lr_mc_AKGC417L\n",
      "--------------------------\n",
      "Samplerate = 4000, largo = (80182,)\n",
      "Iteración 218: 151_2p2_Pl_mc_AKGC417L\n",
      "--------------------------\n",
      "Samplerate = 4000, largo = (80182,)\n",
      "Iteración 219: 151_2p2_Pr_mc_AKGC417L\n",
      "--------------------------\n",
      "Samplerate = 4000, largo = (80182,)\n",
      "Iteración 220: 151_2p3_Al_mc_AKGC417L\n",
      "--------------------------\n",
      "Samplerate = 4000, largo = (80182,)\n",
      "Iteración 221: 151_2p3_Ar_mc_AKGC417L\n",
      "--------------------------\n",
      "Samplerate = 4000, largo = (80182,)\n",
      "Iteración 222: 151_2p3_Ll_mc_AKGC417L\n",
      "--------------------------\n",
      "Samplerate = 4000, largo = (80182,)\n",
      "Iteración 223: 151_2p3_Lr_mc_AKGC417L\n",
      "--------------------------\n",
      "Samplerate = 4000, largo = (80182,)\n",
      "Iteración 224: 151_2p3_Pl_mc_AKGC417L\n",
      "--------------------------\n",
      "Samplerate = 4000, largo = (80182,)\n",
      "Iteración 225: 151_2p3_Pr_mc_AKGC417L\n",
      "--------------------------\n",
      "Samplerate = 4000, largo = (80182,)\n",
      "Iteración 226: 151_2p4_Al_mc_AKGC417L\n",
      "--------------------------\n",
      "Samplerate = 4000, largo = (80182,)\n",
      "Iteración 227: 151_2p4_Ar_mc_AKGC417L\n",
      "--------------------------\n",
      "Samplerate = 4000, largo = (80182,)\n",
      "Iteración 228: 151_2p4_Ll_mc_AKGC417L\n",
      "--------------------------\n",
      "Samplerate = 4000, largo = (80182,)\n",
      "Iteración 229: 151_2p4_Lr_mc_AKGC417L\n",
      "--------------------------\n",
      "Samplerate = 4000, largo = (80182,)\n",
      "Iteración 230: 151_2p4_Pl_mc_AKGC417L\n",
      "--------------------------\n",
      "Samplerate = 4000, largo = (80182,)\n",
      "Iteración 231: 151_2p4_Pr_mc_AKGC417L\n",
      "--------------------------\n",
      "Samplerate = 4000, largo = (80182,)\n",
      "Iteración 232: 151_3p2_Al_mc_AKGC417L\n",
      "--------------------------\n",
      "Samplerate = 4000, largo = (80182,)\n",
      "Iteración 233: 151_3p2_Ar_mc_AKGC417L\n",
      "--------------------------\n",
      "Samplerate = 4000, largo = (80182,)\n",
      "Iteración 234: 151_3p2_Lr_mc_AKGC417L\n",
      "--------------------------\n",
      "Samplerate = 4000, largo = (80182,)\n",
      "Iteración 235: 151_3p2_Pl_mc_AKGC417L\n",
      "--------------------------\n",
      "Samplerate = 4000, largo = (80182,)\n",
      "Iteración 236: 151_3p2_Pr_mc_AKGC417L\n",
      "--------------------------\n",
      "Samplerate = 4000, largo = (80182,)\n",
      "Iteración 237: 151_3p3_Ll_mc_AKGC417L\n",
      "--------------------------\n",
      "Samplerate = 4000, largo = (80182,)\n",
      "Iteración 238: 152_1b1_Al_sc_Meditron\n",
      "--------------------------\n",
      "Samplerate = 4000, largo = (80182,)\n",
      "Iteración 239: 153_1b1_Al_sc_Meditron\n",
      "--------------------------\n",
      "Samplerate = 4000, largo = (80182,)\n",
      "Iteración 240: 154_1b3_Al_mc_AKGC417L\n",
      "--------------------------\n",
      "Samplerate = 4000, largo = (80182,)\n",
      "Iteración 241: 154_1b3_Ar_mc_AKGC417L\n",
      "--------------------------\n",
      "Samplerate = 4000, largo = (80182,)\n",
      "Iteración 242: 154_1b3_Ll_mc_AKGC417L\n",
      "--------------------------\n",
      "Samplerate = 4000, largo = (80182,)\n",
      "Iteración 243: 154_1b3_Lr_mc_AKGC417L\n",
      "--------------------------\n",
      "Samplerate = 4000, largo = (80182,)\n",
      "Iteración 244: 154_1b3_Pl_mc_AKGC417L\n",
      "--------------------------\n",
      "Samplerate = 4000, largo = (80182,)\n"
     ]
    },
    {
     "name": "stdout",
     "output_type": "stream",
     "text": [
      "Iteración 245: 154_1b3_Pr_mc_AKGC417L\n",
      "--------------------------\n",
      "Samplerate = 4000, largo = (80182,)\n",
      "Iteración 246: 154_2b4_Al_mc_AKGC417L\n",
      "--------------------------\n",
      "Samplerate = 4000, largo = (80182,)\n",
      "Iteración 247: 154_2b4_Ar_mc_AKGC417L\n",
      "--------------------------\n",
      "Samplerate = 4000, largo = (80182,)\n",
      "Iteración 248: 154_2b4_Ll_mc_AKGC417L\n",
      "--------------------------\n",
      "Samplerate = 4000, largo = (80182,)\n",
      "Iteración 249: 154_2b4_Lr_mc_AKGC417L\n",
      "--------------------------\n",
      "Samplerate = 4000, largo = (80182,)\n",
      "Iteración 250: 154_2b4_Pl_mc_AKGC417L\n",
      "--------------------------\n",
      "Samplerate = 4000, largo = (80182,)\n",
      "Iteración 251: 154_2b4_Pr_mc_AKGC417L\n",
      "--------------------------\n",
      "Samplerate = 4000, largo = (80182,)\n",
      "Iteración 252: 154_3b3_Al_mc_AKGC417L\n",
      "--------------------------\n",
      "Samplerate = 4000, largo = (80182,)\n",
      "Iteración 253: 154_3b3_Ar_mc_AKGC417L\n",
      "--------------------------\n",
      "Samplerate = 4000, largo = (80182,)\n",
      "Iteración 254: 154_3b3_Ll_mc_AKGC417L\n",
      "--------------------------\n",
      "Samplerate = 4000, largo = (80182,)\n",
      "Iteración 255: 154_4b4_Al_mc_AKGC417L\n",
      "--------------------------\n",
      "Samplerate = 4000, largo = (80182,)\n",
      "Iteración 256: 154_4b4_Ar_mc_AKGC417L\n",
      "--------------------------\n",
      "Samplerate = 4000, largo = (80182,)\n",
      "Iteración 257: 154_4b4_Ll_mc_AKGC417L\n",
      "--------------------------\n",
      "Samplerate = 4000, largo = (80182,)\n",
      "Iteración 258: 154_4b4_Lr_mc_AKGC417L\n",
      "--------------------------\n",
      "Samplerate = 4000, largo = (80182,)\n",
      "Iteración 259: 154_4b4_Pl_mc_AKGC417L\n",
      "--------------------------\n",
      "Samplerate = 4000, largo = (80182,)\n",
      "Iteración 260: 154_4b4_Pr_mc_AKGC417L\n",
      "--------------------------\n",
      "Samplerate = 4000, largo = (80182,)\n",
      "Iteración 261: 155_2b1_Al_mc_LittC2SE\n",
      "--------------------------\n",
      "Samplerate = 4000, largo = (80182,)\n",
      "Iteración 262: 156_2b3_Al_mc_AKGC417L\n",
      "--------------------------\n",
      "Samplerate = 4000, largo = (80182,)\n",
      "Iteración 263: 156_2b3_Ar_mc_AKGC417L\n",
      "--------------------------\n",
      "Samplerate = 4000, largo = (80182,)\n",
      "Iteración 264: 156_2b3_Ll_mc_AKGC417L\n",
      "--------------------------\n",
      "Samplerate = 4000, largo = (80182,)\n",
      "Iteración 265: 156_2b3_Lr_mc_AKGC417L\n",
      "--------------------------\n",
      "Samplerate = 4000, largo = (80182,)\n",
      "Iteración 266: 156_2b3_Pl_mc_AKGC417L\n",
      "--------------------------\n",
      "Samplerate = 4000, largo = (80182,)\n",
      "Iteración 267: 156_2b3_Pr_mc_AKGC417L\n",
      "--------------------------\n",
      "Samplerate = 4000, largo = (80182,)\n",
      "Iteración 268: 156_5b3_Al_mc_AKGC417L\n",
      "--------------------------\n",
      "Samplerate = 4000, largo = (80182,)\n",
      "Iteración 269: 156_5b3_Ar_mc_AKGC417L\n",
      "--------------------------\n",
      "Samplerate = 4000, largo = (80182,)\n",
      "Iteración 270: 156_5b3_Ll_mc_AKGC417L\n",
      "--------------------------\n",
      "Samplerate = 4000, largo = (80182,)\n",
      "Iteración 271: 156_5b3_Lr_mc_AKGC417L\n",
      "--------------------------\n",
      "Samplerate = 4000, largo = (80182,)\n",
      "Iteración 272: 156_5b3_Pl_mc_AKGC417L\n",
      "--------------------------\n",
      "Samplerate = 4000, largo = (80182,)\n",
      "Iteración 273: 156_5b3_Pr_mc_AKGC417L\n",
      "--------------------------\n",
      "Samplerate = 4000, largo = (80182,)\n",
      "Iteración 274: 156_8b3_Al_mc_AKGC417L\n",
      "--------------------------\n",
      "Samplerate = 4000, largo = (80182,)\n",
      "Iteración 275: 156_8b3_Ar_mc_AKGC417L\n",
      "--------------------------\n",
      "Samplerate = 4000, largo = (80182,)\n",
      "Iteración 276: 156_8b3_Ll_mc_AKGC417L\n",
      "--------------------------\n",
      "Samplerate = 4000, largo = (80182,)\n",
      "Iteración 277: 156_8b3_Lr_mc_AKGC417L\n",
      "--------------------------\n",
      "Samplerate = 4000, largo = (80182,)\n",
      "Iteración 278: 156_8b3_Pl_mc_AKGC417L\n",
      "--------------------------\n",
      "Samplerate = 4000, largo = (80182,)\n",
      "Iteración 279: 158_1b3_Ar_mc_LittC2SE\n",
      "--------------------------\n",
      "Samplerate = 4000, largo = (80182,)\n",
      "Iteración 280: 158_1p2_Al_mc_AKGC417L\n",
      "--------------------------\n",
      "Samplerate = 4000, largo = (80182,)\n",
      "Iteración 281: 158_1p2_Ar_mc_AKGC417L\n",
      "--------------------------\n",
      "Samplerate = 4000, largo = (80182,)\n",
      "Iteración 282: 158_1p2_Ll_mc_AKGC417L\n",
      "--------------------------\n",
      "Samplerate = 4000, largo = (80182,)\n",
      "Iteración 283: 158_1p2_Lr_mc_AKGC417L\n",
      "--------------------------\n",
      "Samplerate = 4000, largo = (80182,)\n",
      "Iteración 284: 158_1p2_Pl_mc_AKGC417L\n",
      "--------------------------\n",
      "Samplerate = 4000, largo = (80182,)\n",
      "Iteración 285: 158_1p2_Pr_mc_AKGC417L\n",
      "--------------------------\n",
      "Samplerate = 4000, largo = (80182,)\n",
      "Iteración 286: 158_1p3_Al_mc_AKGC417L\n",
      "--------------------------\n",
      "Samplerate = 4000, largo = (80182,)\n",
      "Iteración 287: 158_1p3_Ar_mc_AKGC417L\n",
      "--------------------------\n",
      "Samplerate = 4000, largo = (80182,)\n",
      "Iteración 288: 158_1p3_Ll_mc_AKGC417L\n",
      "--------------------------\n",
      "Samplerate = 4000, largo = (80182,)\n",
      "Iteración 289: 158_1p3_Lr_mc_AKGC417L\n",
      "--------------------------\n",
      "Samplerate = 4000, largo = (80182,)\n",
      "Iteración 290: 158_1p3_Pl_mc_AKGC417L\n",
      "--------------------------\n",
      "Samplerate = 4000, largo = (80182,)\n",
      "Iteración 291: 158_1p3_Pr_mc_AKGC417L\n",
      "--------------------------\n",
      "Samplerate = 4000, largo = (80182,)\n",
      "Iteración 292: 158_1p4_Al_mc_AKGC417L\n",
      "--------------------------\n",
      "Samplerate = 4000, largo = (80182,)\n",
      "Iteración 293: 158_1p4_Ar_mc_AKGC417L\n",
      "--------------------------\n",
      "Samplerate = 4000, largo = (80182,)\n",
      "Iteración 294: 158_1p4_Lr_mc_AKGC417L\n",
      "--------------------------\n",
      "Samplerate = 4000, largo = (80182,)\n",
      "Iteración 295: 158_1p4_Pl_mc_AKGC417L\n",
      "--------------------------\n",
      "Samplerate = 4000, largo = (80182,)\n",
      "Iteración 296: 158_1p4_Pr_mc_AKGC417L\n",
      "--------------------------\n",
      "Samplerate = 4000, largo = (80182,)\n",
      "Iteración 297: 158_2p2_Ar_mc_AKGC417L\n",
      "--------------------------\n",
      "Samplerate = 4000, largo = (80182,)\n",
      "Iteración 298: 158_2p3_Lr_mc_AKGC417L\n",
      "--------------------------\n",
      "Samplerate = 4000, largo = (80182,)\n",
      "Iteración 299: 159_1b1_Al_sc_Meditron\n",
      "--------------------------\n",
      "Samplerate = 4000, largo = (80182,)\n",
      "Iteración 300: 159_1b1_Ar_sc_Meditron\n",
      "--------------------------\n",
      "Samplerate = 4000, largo = (80182,)\n",
      "Iteración 301: 159_1b1_Ll_sc_Meditron\n",
      "--------------------------\n",
      "Samplerate = 4000, largo = (80182,)\n",
      "Iteración 302: 159_1b1_Pr_sc_Meditron\n",
      "--------------------------\n",
      "Samplerate = 4000, largo = (80182,)\n",
      "Iteración 303: 160_1b2_Al_mc_AKGC417L\n",
      "--------------------------\n",
      "Samplerate = 4000, largo = (80182,)\n",
      "Iteración 304: 160_1b2_Ar_mc_AKGC417L\n",
      "--------------------------\n",
      "Samplerate = 4000, largo = (80182,)\n",
      "Iteración 305: 160_1b2_Lr_mc_AKGC417L\n",
      "--------------------------\n",
      "Samplerate = 4000, largo = (80182,)\n",
      "Iteración 306: 160_1b2_Pl_mc_AKGC417L\n",
      "--------------------------\n",
      "Samplerate = 4000, largo = (80182,)\n",
      "Iteración 307: 160_1b2_Pr_mc_AKGC417L\n",
      "--------------------------\n",
      "Samplerate = 4000, largo = (80182,)\n",
      "Iteración 308: 160_1b3_Al_mc_AKGC417L\n",
      "--------------------------\n",
      "Samplerate = 4000, largo = (80182,)\n",
      "Iteración 309: 160_1b3_Ar_mc_AKGC417L\n",
      "--------------------------\n",
      "Samplerate = 4000, largo = (80182,)\n",
      "Iteración 310: 160_1b3_Lr_mc_AKGC417L\n",
      "--------------------------\n",
      "Samplerate = 4000, largo = (80182,)\n",
      "Iteración 311: 160_1b3_Pl_mc_AKGC417L\n",
      "--------------------------\n",
      "Samplerate = 4000, largo = (80182,)\n",
      "Iteración 312: 160_1b3_Pr_mc_AKGC417L\n",
      "--------------------------\n",
      "Samplerate = 4000, largo = (80182,)\n",
      "Iteración 313: 160_1b4_Al_mc_AKGC417L\n",
      "--------------------------\n",
      "Samplerate = 4000, largo = (80182,)\n",
      "Iteración 314: 160_1b4_Ar_mc_AKGC417L\n",
      "--------------------------\n",
      "Samplerate = 4000, largo = (80182,)\n",
      "Iteración 315: 160_1b4_Lr_mc_AKGC417L\n",
      "--------------------------\n",
      "Samplerate = 4000, largo = (80182,)\n",
      "Iteración 316: 160_1b4_Pl_mc_AKGC417L\n",
      "--------------------------\n",
      "Samplerate = 4000, largo = (80182,)\n",
      "Iteración 317: 160_1b4_Pr_mc_AKGC417L\n",
      "--------------------------\n",
      "Samplerate = 4000, largo = (80182,)\n",
      "Iteración 318: 160_2b3_Lr_mc_AKGC417L\n",
      "--------------------------\n",
      "Samplerate = 4000, largo = (80182,)\n",
      "Iteración 319: 160_2b4_Ar_mc_AKGC417L\n",
      "--------------------------\n",
      "Samplerate = 4000, largo = (80182,)\n",
      "Iteración 320: 160_2b4_Pl_mc_AKGC417L\n",
      "--------------------------\n",
      "Samplerate = 4000, largo = (80182,)\n",
      "Iteración 321: 160_2b4_Pr_mc_AKGC417L\n",
      "--------------------------\n",
      "Samplerate = 4000, largo = (80182,)\n",
      "Iteración 322: 161_1b1_Al_sc_Meditron\n",
      "--------------------------\n",
      "Samplerate = 4000, largo = (80182,)\n",
      "Iteración 323: 161_1b1_Pl_sc_Meditron\n",
      "--------------------------\n",
      "Samplerate = 4000, largo = (80182,)\n",
      "Iteración 324: 162_1b2_Al_mc_AKGC417L\n",
      "--------------------------\n",
      "Samplerate = 4000, largo = (80182,)\n",
      "Iteración 325: 162_1b2_Ar_mc_AKGC417L\n",
      "--------------------------\n",
      "Samplerate = 4000, largo = (80182,)\n"
     ]
    },
    {
     "name": "stdout",
     "output_type": "stream",
     "text": [
      "Iteración 326: 162_1b2_Ll_mc_AKGC417L\n",
      "--------------------------\n",
      "Samplerate = 4000, largo = (80182,)\n",
      "Iteración 327: 162_1b2_Lr_mc_AKGC417L\n",
      "--------------------------\n",
      "Samplerate = 4000, largo = (80182,)\n",
      "Iteración 328: 162_1b2_Pl_mc_AKGC417L\n",
      "--------------------------\n",
      "Samplerate = 4000, largo = (80182,)\n",
      "Iteración 329: 162_1b2_Pr_mc_AKGC417L\n",
      "--------------------------\n",
      "Samplerate = 4000, largo = (80182,)\n",
      "Iteración 330: 162_2b2_Al_mc_AKGC417L\n",
      "--------------------------\n",
      "Samplerate = 4000, largo = (80182,)\n",
      "Iteración 331: 162_2b2_Ar_mc_AKGC417L\n",
      "--------------------------\n",
      "Samplerate = 4000, largo = (80182,)\n",
      "Iteración 332: 162_2b2_Pl_mc_AKGC417L\n",
      "--------------------------\n",
      "Samplerate = 4000, largo = (80182,)\n",
      "Iteración 333: 162_2b2_Pr_mc_AKGC417L\n",
      "--------------------------\n",
      "Samplerate = 4000, largo = (80182,)\n",
      "Iteración 334: 162_2b3_Al_mc_AKGC417L\n",
      "--------------------------\n",
      "Samplerate = 4000, largo = (80182,)\n",
      "Iteración 335: 162_2b3_Ar_mc_AKGC417L\n",
      "--------------------------\n",
      "Samplerate = 4000, largo = (80182,)\n",
      "Iteración 336: 162_2b3_Lr_mc_AKGC417L\n",
      "--------------------------\n",
      "Samplerate = 4000, largo = (80182,)\n",
      "Iteración 337: 162_2b3_Pl_mc_AKGC417L\n",
      "--------------------------\n",
      "Samplerate = 4000, largo = (80182,)\n",
      "Iteración 338: 162_2b3_Pr_mc_AKGC417L\n",
      "--------------------------\n",
      "Samplerate = 4000, largo = (80182,)\n",
      "Iteración 339: 162_2b4_Al_mc_AKGC417L\n",
      "--------------------------\n",
      "Samplerate = 4000, largo = (80182,)\n",
      "Iteración 340: 162_2b4_Ar_mc_AKGC417L\n",
      "--------------------------\n",
      "Samplerate = 4000, largo = (80182,)\n",
      "Iteración 341: 162_2b4_Lr_mc_AKGC417L\n",
      "--------------------------\n",
      "Samplerate = 4000, largo = (80182,)\n",
      "Iteración 342: 162_2b4_Pl_mc_AKGC417L\n",
      "--------------------------\n",
      "Samplerate = 4000, largo = (80182,)\n",
      "Iteración 343: 162_2b4_Pr_mc_AKGC417L\n",
      "--------------------------\n",
      "Samplerate = 4000, largo = (80182,)\n",
      "Iteración 344: 163_2b2_Al_mc_AKGC417L\n",
      "--------------------------\n",
      "Samplerate = 4000, largo = (80182,)\n",
      "Iteración 345: 163_2b2_Ar_mc_AKGC417L\n",
      "--------------------------\n",
      "Samplerate = 4000, largo = (80182,)\n",
      "Iteración 346: 163_2b2_Ll_mc_AKGC417L\n",
      "--------------------------\n",
      "Samplerate = 4000, largo = (80182,)\n",
      "Iteración 347: 163_2b2_Lr_mc_AKGC417L\n",
      "--------------------------\n",
      "Samplerate = 4000, largo = (80182,)\n",
      "Iteración 348: 163_2b2_Pl_mc_AKGC417L\n",
      "--------------------------\n",
      "Samplerate = 4000, largo = (80182,)\n",
      "Iteración 349: 163_2b2_Pr_mc_AKGC417L\n",
      "--------------------------\n",
      "Samplerate = 4000, largo = (80182,)\n",
      "Iteración 350: 163_8b3_Al_mc_AKGC417L\n",
      "--------------------------\n",
      "Samplerate = 4000, largo = (80182,)\n",
      "Iteración 351: 163_8b3_Ar_mc_AKGC417L\n",
      "--------------------------\n",
      "Samplerate = 4000, largo = (80182,)\n",
      "Iteración 352: 163_8b3_Ll_mc_AKGC417L\n",
      "--------------------------\n",
      "Samplerate = 4000, largo = (80182,)\n",
      "Iteración 353: 163_8b3_Lr_mc_AKGC417L\n",
      "--------------------------\n",
      "Samplerate = 4000, largo = (80182,)\n",
      "Iteración 354: 163_8b3_Pl_mc_AKGC417L\n",
      "--------------------------\n",
      "Samplerate = 4000, largo = (80182,)\n",
      "Iteración 355: 163_8b3_Pr_mc_AKGC417L\n",
      "--------------------------\n",
      "Samplerate = 4000, largo = (80182,)\n",
      "Iteración 356: 164_1b1_Ll_sc_Meditron\n",
      "--------------------------\n",
      "Samplerate = 4000, largo = (80182,)\n",
      "Iteración 357: 165_1b1_Ar_sc_Meditron\n",
      "--------------------------\n",
      "Samplerate = 4000, largo = (79500,)\n",
      "Iteración 358: 165_1b1_Pl_sc_Meditron\n",
      "--------------------------\n",
      "Samplerate = 4000, largo = (80182,)\n",
      "Iteración 359: 165_1b1_Pr_sc_Meditron\n",
      "--------------------------\n",
      "Samplerate = 4000, largo = (80182,)\n",
      "Iteración 360: 167_1b1_Al_sc_Meditron\n",
      "--------------------------\n",
      "Samplerate = 4000, largo = (80182,)\n",
      "Iteración 361: 167_1b1_Pr_sc_Meditron\n",
      "--------------------------\n",
      "Samplerate = 4000, largo = (80182,)\n",
      "Iteración 362: 168_1b1_Al_sc_Meditron\n",
      "--------------------------\n",
      "Samplerate = 4000, largo = (80182,)\n",
      "Iteración 363: 169_1b1_Lr_sc_Meditron\n",
      "--------------------------\n",
      "Samplerate = 4000, largo = (80182,)\n",
      "Iteración 364: 169_1b2_Ll_sc_Meditron\n",
      "--------------------------\n",
      "Samplerate = 4000, largo = (80182,)\n",
      "Iteración 365: 170_1b2_Al_mc_AKGC417L\n",
      "--------------------------\n",
      "Samplerate = 4000, largo = (80182,)\n",
      "Iteración 366: 170_1b2_Ar_mc_AKGC417L\n",
      "--------------------------\n",
      "Samplerate = 4000, largo = (80182,)\n",
      "Iteración 367: 170_1b2_Lr_mc_AKGC417L\n",
      "--------------------------\n",
      "Samplerate = 4000, largo = (80182,)\n",
      "Iteración 368: 170_1b2_Pl_mc_AKGC417L\n",
      "--------------------------\n",
      "Samplerate = 4000, largo = (80182,)\n",
      "Iteración 369: 170_1b2_Pr_mc_AKGC417L\n",
      "--------------------------\n",
      "Samplerate = 4000, largo = (80182,)\n",
      "Iteración 370: 170_1b3_Al_mc_AKGC417L\n",
      "--------------------------\n",
      "Samplerate = 4000, largo = (80182,)\n",
      "Iteración 371: 170_1b3_Ar_mc_AKGC417L\n",
      "--------------------------\n",
      "Samplerate = 4000, largo = (80182,)\n",
      "Iteración 372: 170_1b3_Ll_mc_AKGC417L\n",
      "--------------------------\n",
      "Samplerate = 4000, largo = (80182,)\n",
      "Iteración 373: 170_1b3_Lr_mc_AKGC417L\n",
      "--------------------------\n",
      "Samplerate = 4000, largo = (80182,)\n",
      "Iteración 374: 170_1b3_Pl_mc_AKGC417L\n",
      "--------------------------\n",
      "Samplerate = 4000, largo = (80182,)\n",
      "Iteración 375: 170_1b3_Pr_mc_AKGC417L\n",
      "--------------------------\n",
      "Samplerate = 4000, largo = (80182,)\n",
      "Iteración 376: 170_1b4_Al_mc_AKGC417L\n",
      "--------------------------\n",
      "Samplerate = 4000, largo = (80182,)\n",
      "Iteración 377: 170_1b4_Ar_mc_AKGC417L\n",
      "--------------------------\n",
      "Samplerate = 4000, largo = (80182,)\n",
      "Iteración 378: 170_1b4_Lr_mc_AKGC417L\n",
      "--------------------------\n",
      "Samplerate = 4000, largo = (80182,)\n",
      "Iteración 379: 170_1b4_Pl_mc_AKGC417L\n",
      "--------------------------\n",
      "Samplerate = 4000, largo = (80182,)\n",
      "Iteración 380: 170_1b4_Pr_mc_AKGC417L\n",
      "--------------------------\n",
      "Samplerate = 4000, largo = (80182,)\n",
      "Iteración 381: 170_2b2_Al_mc_AKGC417L\n",
      "--------------------------\n",
      "Samplerate = 4000, largo = (80182,)\n",
      "Iteración 382: 170_2b2_Ar_mc_AKGC417L\n",
      "--------------------------\n",
      "Samplerate = 4000, largo = (80182,)\n",
      "Iteración 383: 170_2b2_Lr_mc_AKGC417L\n",
      "--------------------------\n",
      "Samplerate = 4000, largo = (80182,)\n",
      "Iteración 384: 170_2b2_Pl_mc_AKGC417L\n",
      "--------------------------\n",
      "Samplerate = 4000, largo = (80182,)\n",
      "Iteración 385: 170_2b2_Pr_mc_AKGC417L\n",
      "--------------------------\n",
      "Samplerate = 4000, largo = (80182,)\n",
      "Iteración 386: 171_1b1_Al_sc_Meditron\n",
      "--------------------------\n",
      "Samplerate = 4000, largo = (80182,)\n",
      "Iteración 387: 172_1b3_Al_mc_AKGC417L\n",
      "--------------------------\n",
      "Samplerate = 4000, largo = (80182,)\n",
      "Iteración 388: 172_1b3_Ar_mc_AKGC417L\n",
      "--------------------------\n",
      "Samplerate = 4000, largo = (80182,)\n",
      "Iteración 389: 172_1b3_Ll_mc_AKGC417L\n",
      "--------------------------\n",
      "Samplerate = 4000, largo = (80182,)\n",
      "Iteración 390: 172_1b3_Lr_mc_AKGC417L\n",
      "--------------------------\n",
      "Samplerate = 4000, largo = (80182,)\n",
      "Iteración 391: 172_1b3_Pl_mc_AKGC417L\n",
      "--------------------------\n",
      "Samplerate = 4000, largo = (80182,)\n",
      "Iteración 392: 172_1b3_Pr_mc_AKGC417L\n",
      "--------------------------\n",
      "Samplerate = 4000, largo = (80182,)\n",
      "Iteración 393: 172_1b4_Al_mc_AKGC417L\n",
      "--------------------------\n",
      "Samplerate = 4000, largo = (80182,)\n",
      "Iteración 394: 172_1b4_Ar_mc_AKGC417L\n",
      "--------------------------\n",
      "Samplerate = 4000, largo = (80182,)\n",
      "Iteración 395: 172_1b4_Ll_mc_AKGC417L\n",
      "--------------------------\n",
      "Samplerate = 4000, largo = (80182,)\n",
      "Iteración 396: 172_1b4_Lr_mc_AKGC417L\n",
      "--------------------------\n",
      "Samplerate = 4000, largo = (80182,)\n",
      "Iteración 397: 172_1b4_Pl_mc_AKGC417L\n",
      "--------------------------\n",
      "Samplerate = 4000, largo = (80182,)\n",
      "Iteración 398: 172_1b4_Pr_mc_AKGC417L\n",
      "--------------------------\n",
      "Samplerate = 4000, largo = (80182,)\n",
      "Iteración 399: 172_1b5_Al_mc_AKGC417L\n",
      "--------------------------\n",
      "Samplerate = 4000, largo = (80182,)\n",
      "Iteración 400: 172_1b5_Ar_mc_AKGC417L\n",
      "--------------------------\n",
      "Samplerate = 4000, largo = (80182,)\n",
      "Iteración 401: 172_1b5_Ll_mc_AKGC417L\n",
      "--------------------------\n",
      "Samplerate = 4000, largo = (80182,)\n",
      "Iteración 402: 172_1b5_Lr_mc_AKGC417L\n",
      "--------------------------\n",
      "Samplerate = 4000, largo = (80182,)\n",
      "Iteración 403: 172_1b5_Pl_mc_AKGC417L\n",
      "--------------------------\n",
      "Samplerate = 4000, largo = (80182,)\n",
      "Iteración 404: 172_1b5_Pr_mc_AKGC417L\n",
      "--------------------------\n",
      "Samplerate = 4000, largo = (80182,)\n",
      "Iteración 405: 172_2b5_Al_mc_AKGC417L\n",
      "--------------------------\n",
      "Samplerate = 4000, largo = (80182,)\n",
      "Iteración 406: 172_2b5_Ar_mc_AKGC417L\n",
      "--------------------------\n",
      "Samplerate = 4000, largo = (80182,)\n"
     ]
    },
    {
     "name": "stdout",
     "output_type": "stream",
     "text": [
      "Iteración 407: 172_2b5_Lr_mc_AKGC417L\n",
      "--------------------------\n",
      "Samplerate = 4000, largo = (80182,)\n",
      "Iteración 408: 172_2b5_Pl_mc_AKGC417L\n",
      "--------------------------\n",
      "Samplerate = 4000, largo = (80182,)\n",
      "Iteración 409: 172_2b5_Pr_mc_AKGC417L\n",
      "--------------------------\n",
      "Samplerate = 4000, largo = (80182,)\n",
      "Iteración 410: 173_1b1_Al_sc_Meditron\n",
      "--------------------------\n",
      "Samplerate = 4000, largo = (80182,)\n",
      "Iteración 411: 174_1p2_Ar_mc_AKGC417L\n",
      "--------------------------\n",
      "Samplerate = 4000, largo = (80182,)\n",
      "Iteración 412: 174_1p2_Ll_mc_AKGC417L\n",
      "--------------------------\n",
      "Samplerate = 4000, largo = (80182,)\n",
      "Iteración 413: 174_1p2_Lr_mc_AKGC417L\n",
      "--------------------------\n",
      "Samplerate = 4000, largo = (80182,)\n",
      "Iteración 414: 174_1p2_Pl_mc_AKGC417L\n",
      "--------------------------\n",
      "Samplerate = 4000, largo = (80182,)\n",
      "Iteración 415: 174_1p2_Pr_mc_AKGC417L\n",
      "--------------------------\n",
      "Samplerate = 4000, largo = (80182,)\n",
      "Iteración 416: 174_1p3_Ar_mc_AKGC417L\n",
      "--------------------------\n",
      "Samplerate = 4000, largo = (80182,)\n",
      "Iteración 417: 174_1p3_Ll_mc_AKGC417L\n",
      "--------------------------\n",
      "Samplerate = 4000, largo = (80182,)\n",
      "Iteración 418: 174_1p3_Lr_mc_AKGC417L\n",
      "--------------------------\n",
      "Samplerate = 4000, largo = (80182,)\n",
      "Iteración 419: 174_1p3_Pl_mc_AKGC417L\n",
      "--------------------------\n",
      "Samplerate = 4000, largo = (80182,)\n",
      "Iteración 420: 174_1p3_Pr_mc_AKGC417L\n",
      "--------------------------\n",
      "Samplerate = 4000, largo = (80182,)\n",
      "Iteración 421: 174_1p4_Ar_mc_AKGC417L\n",
      "--------------------------\n",
      "Samplerate = 4000, largo = (80182,)\n",
      "Iteración 422: 174_1p4_Ll_mc_AKGC417L\n",
      "--------------------------\n",
      "Samplerate = 4000, largo = (80182,)\n",
      "Iteración 423: 174_1p4_Lr_mc_AKGC417L\n",
      "--------------------------\n",
      "Samplerate = 4000, largo = (80182,)\n",
      "Iteración 424: 174_1p4_Pl_mc_AKGC417L\n",
      "--------------------------\n",
      "Samplerate = 4000, largo = (80182,)\n",
      "Iteración 425: 174_1p4_Pr_mc_AKGC417L\n",
      "--------------------------\n",
      "Samplerate = 4000, largo = (80182,)\n",
      "Iteración 426: 174_2p3_Al_mc_AKGC417L\n",
      "--------------------------\n",
      "Samplerate = 4000, largo = (80182,)\n",
      "Iteración 427: 174_2p3_Ar_mc_AKGC417L\n",
      "--------------------------\n",
      "Samplerate = 4000, largo = (80182,)\n",
      "Iteración 428: 174_2p3_Pl_mc_AKGC417L\n",
      "--------------------------\n",
      "Samplerate = 4000, largo = (80182,)\n",
      "Iteración 429: 174_2p3_Pr_mc_AKGC417L\n",
      "--------------------------\n",
      "Samplerate = 4000, largo = (80182,)\n",
      "Iteración 430: 176_1b3_Al_mc_AKGC417L\n",
      "--------------------------\n",
      "Samplerate = 4000, largo = (80182,)\n",
      "Iteración 431: 176_1b3_Ar_mc_AKGC417L\n",
      "--------------------------\n",
      "Samplerate = 4000, largo = (80182,)\n",
      "Iteración 432: 176_1b3_Ll_mc_AKGC417L\n",
      "--------------------------\n",
      "Samplerate = 4000, largo = (80182,)\n",
      "Iteración 433: 176_1b3_Lr_mc_AKGC417L\n",
      "--------------------------\n",
      "Samplerate = 4000, largo = (80182,)\n",
      "Iteración 434: 176_1b3_Pl_mc_AKGC417L\n",
      "--------------------------\n",
      "Samplerate = 4000, largo = (80182,)\n",
      "Iteración 435: 176_1b3_Pr_mc_AKGC417L\n",
      "--------------------------\n",
      "Samplerate = 4000, largo = (80182,)\n",
      "Iteración 436: 176_1b4_Al_mc_AKGC417L\n",
      "--------------------------\n",
      "Samplerate = 4000, largo = (80182,)\n",
      "Iteración 437: 176_1b4_Ar_mc_AKGC417L\n",
      "--------------------------\n",
      "Samplerate = 4000, largo = (80182,)\n",
      "Iteración 438: 176_1b4_Ll_mc_AKGC417L\n",
      "--------------------------\n",
      "Samplerate = 4000, largo = (80182,)\n",
      "Iteración 439: 176_1b4_Lr_mc_AKGC417L\n",
      "--------------------------\n",
      "Samplerate = 4000, largo = (80182,)\n",
      "Iteración 440: 176_1b4_Pl_mc_AKGC417L\n",
      "--------------------------\n",
      "Samplerate = 4000, largo = (80182,)\n",
      "Iteración 441: 176_1b4_Pr_mc_AKGC417L\n",
      "--------------------------\n",
      "Samplerate = 4000, largo = (80182,)\n",
      "Iteración 442: 176_2b3_Al_mc_AKGC417L\n",
      "--------------------------\n",
      "Samplerate = 4000, largo = (80182,)\n",
      "Iteración 443: 176_2b3_Ar_mc_AKGC417L\n",
      "--------------------------\n",
      "Samplerate = 4000, largo = (80182,)\n",
      "Iteración 444: 176_2b3_Ll_mc_AKGC417L\n",
      "--------------------------\n",
      "Samplerate = 4000, largo = (80182,)\n",
      "Iteración 445: 176_2b3_Lr_mc_AKGC417L\n",
      "--------------------------\n",
      "Samplerate = 4000, largo = (80182,)\n",
      "Iteración 446: 176_2b3_Pl_mc_AKGC417L\n",
      "--------------------------\n",
      "Samplerate = 4000, largo = (80182,)\n",
      "Iteración 447: 176_2b3_Pr_mc_AKGC417L\n",
      "--------------------------\n",
      "Samplerate = 4000, largo = (80182,)\n",
      "Iteración 448: 177_1b2_Al_mc_AKGC417L\n",
      "--------------------------\n",
      "Samplerate = 4000, largo = (80182,)\n",
      "Iteración 449: 177_1b2_Ar_mc_AKGC417L\n",
      "--------------------------\n",
      "Samplerate = 4000, largo = (80182,)\n",
      "Iteración 450: 177_1b2_Lr_mc_AKGC417L\n",
      "--------------------------\n",
      "Samplerate = 4000, largo = (80182,)\n",
      "Iteración 451: 177_1b2_Pl_mc_AKGC417L\n",
      "--------------------------\n",
      "Samplerate = 4000, largo = (80182,)\n",
      "Iteración 452: 177_1b2_Pr_mc_AKGC417L\n",
      "--------------------------\n",
      "Samplerate = 4000, largo = (80182,)\n",
      "Iteración 453: 177_1b4_Al_mc_AKGC417L\n",
      "--------------------------\n",
      "Samplerate = 4000, largo = (80182,)\n",
      "Iteración 454: 177_1b4_Ar_mc_AKGC417L\n",
      "--------------------------\n",
      "Samplerate = 4000, largo = (80182,)\n",
      "Iteración 455: 177_1b4_Lr_mc_AKGC417L\n",
      "--------------------------\n",
      "Samplerate = 4000, largo = (80182,)\n",
      "Iteración 456: 177_1b4_Pl_mc_AKGC417L\n",
      "--------------------------\n",
      "Samplerate = 4000, largo = (80182,)\n",
      "Iteración 457: 177_1b4_Pr_mc_AKGC417L\n",
      "--------------------------\n",
      "Samplerate = 4000, largo = (80182,)\n",
      "Iteración 458: 177_2b4_Al_mc_AKGC417L\n",
      "--------------------------\n",
      "Samplerate = 4000, largo = (80182,)\n",
      "Iteración 459: 177_2b4_Lr_mc_AKGC417L\n",
      "--------------------------\n",
      "Samplerate = 4000, largo = (80182,)\n",
      "Iteración 460: 177_2b4_Pl_mc_AKGC417L\n",
      "--------------------------\n",
      "Samplerate = 4000, largo = (80182,)\n",
      "Iteración 461: 177_2b4_Pr_mc_AKGC417L\n",
      "--------------------------\n",
      "Samplerate = 4000, largo = (80182,)\n",
      "Iteración 462: 178_1b2_Al_mc_AKGC417L\n",
      "--------------------------\n",
      "Samplerate = 4000, largo = (80182,)\n",
      "Iteración 463: 178_1b2_Ar_mc_AKGC417L\n",
      "--------------------------\n",
      "Samplerate = 4000, largo = (80182,)\n",
      "Iteración 464: 178_1b2_Lr_mc_AKGC417L\n",
      "--------------------------\n",
      "Samplerate = 4000, largo = (80182,)\n",
      "Iteración 465: 178_1b2_Pl_mc_AKGC417L\n",
      "--------------------------\n",
      "Samplerate = 4000, largo = (80182,)\n",
      "Iteración 466: 178_1b2_Pr_mc_AKGC417L\n",
      "--------------------------\n",
      "Samplerate = 4000, largo = (80182,)\n",
      "Iteración 467: 178_1b3_Al_mc_AKGC417L\n",
      "--------------------------\n",
      "Samplerate = 4000, largo = (80182,)\n",
      "Iteración 468: 178_1b3_Ar_mc_AKGC417L\n",
      "--------------------------\n",
      "Samplerate = 4000, largo = (80182,)\n",
      "Iteración 469: 178_1b3_Lr_mc_AKGC417L\n",
      "--------------------------\n",
      "Samplerate = 4000, largo = (80182,)\n",
      "Iteración 470: 178_1b3_Pl_mc_AKGC417L\n",
      "--------------------------\n",
      "Samplerate = 4000, largo = (80182,)\n",
      "Iteración 471: 178_1b3_Pr_mc_AKGC417L\n",
      "--------------------------\n",
      "Samplerate = 4000, largo = (80182,)\n",
      "Iteración 472: 178_1b6_Al_mc_AKGC417L\n",
      "--------------------------\n",
      "Samplerate = 4000, largo = (80182,)\n",
      "Iteración 473: 178_1b6_Ar_mc_AKGC417L\n",
      "--------------------------\n",
      "Samplerate = 4000, largo = (80182,)\n",
      "Iteración 474: 178_1b6_Ll_mc_AKGC417L\n",
      "--------------------------\n",
      "Samplerate = 4000, largo = (80182,)\n",
      "Iteración 475: 178_1b6_Lr_mc_AKGC417L\n",
      "--------------------------\n",
      "Samplerate = 4000, largo = (80182,)\n",
      "Iteración 476: 178_1b6_Pl_mc_AKGC417L\n",
      "--------------------------\n",
      "Samplerate = 4000, largo = (80182,)\n",
      "Iteración 477: 178_1b6_Pr_mc_AKGC417L\n",
      "--------------------------\n",
      "Samplerate = 4000, largo = (80182,)\n",
      "Iteración 478: 178_2b2_Al_mc_AKGC417L\n",
      "--------------------------\n",
      "Samplerate = 4000, largo = (80182,)\n",
      "Iteración 479: 178_2b2_Ar_mc_AKGC417L\n",
      "--------------------------\n",
      "Samplerate = 4000, largo = (80182,)\n",
      "Iteración 480: 178_2b2_Lr_mc_AKGC417L\n",
      "--------------------------\n",
      "Samplerate = 4000, largo = (80182,)\n",
      "Iteración 481: 178_2b2_Pr_mc_AKGC417L\n",
      "--------------------------\n",
      "Samplerate = 4000, largo = (80182,)\n",
      "Iteración 482: 179_1b1_Al_sc_Meditron\n",
      "--------------------------\n",
      "Samplerate = 4000, largo = (80182,)\n",
      "Iteración 483: 180_1b4_Al_mc_AKGC417L\n",
      "--------------------------\n",
      "Samplerate = 4000, largo = (80182,)\n",
      "Iteración 484: 180_1b4_Ar_mc_AKGC417L\n",
      "--------------------------\n",
      "Samplerate = 4000, largo = (80182,)\n",
      "Iteración 485: 180_1b4_Lr_mc_AKGC417L\n",
      "--------------------------\n",
      "Samplerate = 4000, largo = (80182,)\n",
      "Iteración 486: 180_1b4_Pl_mc_AKGC417L\n",
      "--------------------------\n",
      "Samplerate = 4000, largo = (80182,)\n",
      "Iteración 487: 180_1b4_Pr_mc_AKGC417L\n",
      "--------------------------\n",
      "Samplerate = 4000, largo = (80182,)\n"
     ]
    },
    {
     "name": "stdout",
     "output_type": "stream",
     "text": [
      "Iteración 488: 181_1b1_Ar_mc_LittC2SE\n",
      "--------------------------\n",
      "Samplerate = 4000, largo = (80182,)\n",
      "Iteración 489: 181_1b2_Ar_mc_LittC2SE\n",
      "--------------------------\n",
      "Samplerate = 4000, largo = (80182,)\n",
      "Iteración 490: 183_1b1_Pl_sc_Meditron\n",
      "--------------------------\n",
      "Samplerate = 4000, largo = (80182,)\n",
      "Iteración 491: 184_1b1_Ar_sc_Meditron\n",
      "--------------------------\n",
      "Samplerate = 4000, largo = (80182,)\n",
      "Iteración 492: 186_2b2_Al_mc_AKGC417L\n",
      "--------------------------\n",
      "Samplerate = 4000, largo = (80182,)\n",
      "Iteración 493: 186_2b2_Ar_mc_AKGC417L\n",
      "--------------------------\n",
      "Samplerate = 4000, largo = (80182,)\n",
      "Iteración 494: 186_2b2_Lr_mc_AKGC417L\n",
      "--------------------------\n",
      "Samplerate = 4000, largo = (80182,)\n",
      "Iteración 495: 186_2b2_Pl_mc_AKGC417L\n",
      "--------------------------\n",
      "Samplerate = 4000, largo = (80182,)\n",
      "Iteración 496: 186_2b2_Pr_mc_AKGC417L\n",
      "--------------------------\n",
      "Samplerate = 4000, largo = (80182,)\n",
      "Iteración 497: 186_2b3_Al_mc_AKGC417L\n",
      "--------------------------\n",
      "Samplerate = 4000, largo = (80182,)\n",
      "Iteración 498: 186_2b3_Ar_mc_AKGC417L\n",
      "--------------------------\n",
      "Samplerate = 4000, largo = (80182,)\n",
      "Iteración 499: 186_2b3_Lr_mc_AKGC417L\n",
      "--------------------------\n",
      "Samplerate = 4000, largo = (80182,)\n",
      "Iteración 500: 186_2b3_Pl_mc_AKGC417L\n",
      "--------------------------\n",
      "Samplerate = 4000, largo = (80182,)\n",
      "Iteración 501: 186_2b3_Pr_mc_AKGC417L\n",
      "--------------------------\n",
      "Samplerate = 4000, largo = (80182,)\n",
      "Iteración 502: 186_2b4_Al_mc_AKGC417L\n",
      "--------------------------\n",
      "Samplerate = 4000, largo = (80182,)\n",
      "Iteración 503: 186_2b4_Ar_mc_AKGC417L\n",
      "--------------------------\n",
      "Samplerate = 4000, largo = (80182,)\n",
      "Iteración 504: 186_2b4_Lr_mc_AKGC417L\n",
      "--------------------------\n",
      "Samplerate = 4000, largo = (80182,)\n",
      "Iteración 505: 186_2b4_Pl_mc_AKGC417L\n",
      "--------------------------\n",
      "Samplerate = 4000, largo = (80182,)\n",
      "Iteración 506: 186_2b4_Pr_mc_AKGC417L\n",
      "--------------------------\n",
      "Samplerate = 4000, largo = (80182,)\n",
      "Iteración 507: 186_3b3_Al_mc_AKGC417L\n",
      "--------------------------\n",
      "Samplerate = 4000, largo = (80182,)\n",
      "Iteración 508: 186_3b3_Ar_mc_AKGC417L\n",
      "--------------------------\n",
      "Samplerate = 4000, largo = (80182,)\n",
      "Iteración 509: 186_3b3_Lr_mc_AKGC417L\n",
      "--------------------------\n",
      "Samplerate = 4000, largo = (80182,)\n",
      "Iteración 510: 186_3b3_Pl_mc_AKGC417L\n",
      "--------------------------\n",
      "Samplerate = 4000, largo = (80182,)\n",
      "Iteración 511: 186_3b3_Pr_mc_AKGC417L\n",
      "--------------------------\n",
      "Samplerate = 4000, largo = (80182,)\n",
      "Iteración 512: 187_1b1_Ll_sc_Meditron\n",
      "--------------------------\n",
      "Samplerate = 4000, largo = (80182,)\n",
      "Iteración 513: 188_1b1_Al_sc_Meditron\n",
      "--------------------------\n",
      "Samplerate = 4000, largo = (80182,)\n",
      "Iteración 514: 188_1b1_Ar_sc_Meditron\n",
      "--------------------------\n",
      "Samplerate = 4000, largo = (80182,)\n",
      "Iteración 515: 188_1b1_Pl_sc_Meditron\n",
      "--------------------------\n",
      "Samplerate = 4000, largo = (80182,)\n",
      "Iteración 516: 189_1b2_Lr_mc_LittC2SE\n",
      "--------------------------\n",
      "Samplerate = 4000, largo = (80182,)\n",
      "Iteración 517: 191_2b1_Pl_mc_LittC2SE\n",
      "--------------------------\n",
      "Samplerate = 4000, largo = (80182,)\n",
      "Iteración 518: 191_2b1_Pr_mc_LittC2SE\n",
      "--------------------------\n",
      "Samplerate = 4000, largo = (80182,)\n",
      "Iteración 519: 192_2b1_Al_mc_LittC2SE\n",
      "--------------------------\n",
      "Samplerate = 4000, largo = (80182,)\n",
      "Iteración 520: 192_2b1_Ar_mc_LittC2SE\n",
      "--------------------------\n",
      "Samplerate = 4000, largo = (80182,)\n",
      "Iteración 521: 192_2b2_Al_mc_LittC2SE\n",
      "--------------------------\n",
      "Samplerate = 4000, largo = (80182,)\n",
      "Iteración 522: 192_2b2_Ar_mc_LittC2SE\n",
      "--------------------------\n",
      "Samplerate = 4000, largo = (80182,)\n",
      "Iteración 523: 192_2b3_Al_mc_LittC2SE\n",
      "--------------------------\n",
      "Samplerate = 4000, largo = (80182,)\n",
      "Iteración 524: 192_2b3_Ar_mc_LittC2SE\n",
      "--------------------------\n",
      "Samplerate = 4000, largo = (80182,)\n",
      "Iteración 525: 193_1b2_Al_mc_AKGC417L\n",
      "--------------------------\n",
      "Samplerate = 4000, largo = (80182,)\n",
      "Iteración 526: 193_1b2_Ar_mc_AKGC417L\n",
      "--------------------------\n",
      "Samplerate = 4000, largo = (80182,)\n",
      "Iteración 527: 193_1b2_Ll_mc_AKGC417L\n",
      "--------------------------\n",
      "Samplerate = 4000, largo = (80182,)\n",
      "Iteración 528: 193_1b2_Pl_mc_AKGC417L\n",
      "--------------------------\n",
      "Samplerate = 4000, largo = (80182,)\n",
      "Iteración 529: 193_1b2_Pr_mc_AKGC417L\n",
      "--------------------------\n",
      "Samplerate = 4000, largo = (80182,)\n",
      "Iteración 530: 193_1b4_Lr_mc_AKGC417L\n",
      "--------------------------\n",
      "Samplerate = 4000, largo = (80182,)\n",
      "Iteración 531: 193_7b3_Al_mc_AKGC417L\n",
      "--------------------------\n",
      "Samplerate = 4000, largo = (80182,)\n",
      "Iteración 532: 193_7b3_Ar_mc_AKGC417L\n",
      "--------------------------\n",
      "Samplerate = 4000, largo = (80182,)\n",
      "Iteración 533: 193_7b3_Ll_mc_AKGC417L\n",
      "--------------------------\n",
      "Samplerate = 4000, largo = (80182,)\n",
      "Iteración 534: 193_7b3_Lr_mc_AKGC417L\n",
      "--------------------------\n",
      "Samplerate = 4000, largo = (80182,)\n",
      "Iteración 535: 193_7b3_Pl_mc_AKGC417L\n",
      "--------------------------\n",
      "Samplerate = 4000, largo = (80182,)\n",
      "Iteración 536: 193_7b3_Pr_mc_AKGC417L\n",
      "--------------------------\n",
      "Samplerate = 4000, largo = (80182,)\n",
      "Iteración 537: 194_1b1_Lr_sc_Meditron\n",
      "--------------------------\n",
      "Samplerate = 4000, largo = (80182,)\n",
      "Iteración 538: 194_1b1_Pr_sc_Meditron\n",
      "--------------------------\n",
      "Samplerate = 4000, largo = (80182,)\n",
      "Iteración 539: 196_1b1_Pr_sc_Meditron\n",
      "--------------------------\n",
      "Samplerate = 4000, largo = (80182,)\n",
      "Iteración 540: 197_1b1_Al_sc_Meditron\n",
      "--------------------------\n",
      "Samplerate = 4000, largo = (80182,)\n",
      "Iteración 541: 198_1b5_Al_mc_AKGC417L\n",
      "--------------------------\n",
      "Samplerate = 4000, largo = (80182,)\n",
      "Iteración 542: 198_1b5_Ar_mc_AKGC417L\n",
      "--------------------------\n",
      "Samplerate = 4000, largo = (80182,)\n",
      "Iteración 543: 198_1b5_Ll_mc_AKGC417L\n",
      "--------------------------\n",
      "Samplerate = 4000, largo = (80182,)\n",
      "Iteración 544: 198_1b5_Lr_mc_AKGC417L\n",
      "--------------------------\n",
      "Samplerate = 4000, largo = (80182,)\n",
      "Iteración 545: 198_1b5_Pl_mc_AKGC417L\n",
      "--------------------------\n",
      "Samplerate = 4000, largo = (80182,)\n",
      "Iteración 546: 198_1b5_Pr_mc_AKGC417L\n",
      "--------------------------\n",
      "Samplerate = 4000, largo = (80182,)\n",
      "Iteración 547: 198_6p1_Al_mc_AKGC417L\n",
      "--------------------------\n",
      "Samplerate = 4000, largo = (80182,)\n",
      "Iteración 548: 198_6p1_Ar_mc_AKGC417L\n",
      "--------------------------\n",
      "Samplerate = 4000, largo = (80182,)\n",
      "Iteración 549: 198_6p1_Ll_mc_AKGC417L\n",
      "--------------------------\n",
      "Samplerate = 4000, largo = (80182,)\n",
      "Iteración 550: 198_6p1_Lr_mc_AKGC417L\n",
      "--------------------------\n",
      "Samplerate = 4000, largo = (80182,)\n",
      "Iteración 551: 198_6p1_Pl_mc_AKGC417L\n",
      "--------------------------\n",
      "Samplerate = 4000, largo = (80182,)\n",
      "Iteración 552: 198_6p1_Pr_mc_AKGC417L\n",
      "--------------------------\n",
      "Samplerate = 4000, largo = (80182,)\n",
      "Iteración 553: 199_2b1_Ll_mc_LittC2SE\n",
      "--------------------------\n",
      "Samplerate = 4000, largo = (80182,)\n",
      "Iteración 554: 199_2b3_Ll_mc_LittC2SE\n",
      "--------------------------\n",
      "Samplerate = 4000, largo = (80182,)\n",
      "Iteración 555: 200_2p2_Al_mc_AKGC417L\n",
      "--------------------------\n",
      "Samplerate = 4000, largo = (80182,)\n",
      "Iteración 556: 200_2p2_Ar_mc_AKGC417L\n",
      "--------------------------\n",
      "Samplerate = 4000, largo = (80182,)\n",
      "Iteración 557: 200_2p2_Lr_mc_AKGC417L\n",
      "--------------------------\n",
      "Samplerate = 4000, largo = (80182,)\n",
      "Iteración 558: 200_2p2_Pl_mc_AKGC417L\n",
      "--------------------------\n",
      "Samplerate = 4000, largo = (80182,)\n",
      "Iteración 559: 200_2p2_Pr_mc_AKGC417L\n",
      "--------------------------\n",
      "Samplerate = 4000, largo = (80182,)\n",
      "Iteración 560: 200_2p3_Al_mc_AKGC417L\n",
      "--------------------------\n",
      "Samplerate = 4000, largo = (80182,)\n",
      "Iteración 561: 200_2p3_Ar_mc_AKGC417L\n",
      "--------------------------\n",
      "Samplerate = 4000, largo = (80182,)\n",
      "Iteración 562: 200_2p3_Lr_mc_AKGC417L\n",
      "--------------------------\n",
      "Samplerate = 4000, largo = (80182,)\n",
      "Iteración 563: 200_2p3_Pl_mc_AKGC417L\n",
      "--------------------------\n",
      "Samplerate = 4000, largo = (80182,)\n",
      "Iteración 564: 200_2p3_Pr_mc_AKGC417L\n",
      "--------------------------\n",
      "Samplerate = 4000, largo = (80182,)\n",
      "Iteración 565: 200_2p4_Al_mc_AKGC417L\n",
      "--------------------------\n",
      "Samplerate = 4000, largo = (80182,)\n",
      "Iteración 566: 200_2p4_Ar_mc_AKGC417L\n",
      "--------------------------\n",
      "Samplerate = 4000, largo = (80182,)\n",
      "Iteración 567: 200_2p4_Lr_mc_AKGC417L\n",
      "--------------------------\n",
      "Samplerate = 4000, largo = (80182,)\n",
      "Iteración 568: 200_2p4_Pl_mc_AKGC417L\n",
      "--------------------------\n",
      "Samplerate = 4000, largo = (80182,)\n"
     ]
    },
    {
     "name": "stdout",
     "output_type": "stream",
     "text": [
      "Iteración 569: 200_2p4_Pr_mc_AKGC417L\n",
      "--------------------------\n",
      "Samplerate = 4000, largo = (80182,)\n",
      "Iteración 570: 200_3p4_Al_mc_AKGC417L\n",
      "--------------------------\n",
      "Samplerate = 4000, largo = (80182,)\n",
      "Iteración 571: 200_3p4_Ar_mc_AKGC417L\n",
      "--------------------------\n",
      "Samplerate = 4000, largo = (80182,)\n",
      "Iteración 572: 200_3p4_Pl_mc_AKGC417L\n",
      "--------------------------\n",
      "Samplerate = 4000, largo = (80182,)\n",
      "Iteración 573: 200_3p4_Pr_mc_AKGC417L\n",
      "--------------------------\n",
      "Samplerate = 4000, largo = (80182,)\n",
      "Iteración 574: 201_1b1_Al_sc_Meditron\n",
      "--------------------------\n",
      "Samplerate = 4000, largo = (80182,)\n",
      "Iteración 575: 201_1b1_Ar_sc_Meditron\n",
      "--------------------------\n",
      "Samplerate = 4000, largo = (80182,)\n",
      "Iteración 576: 201_1b2_Al_sc_Meditron\n",
      "--------------------------\n",
      "Samplerate = 4000, largo = (80182,)\n",
      "Iteración 577: 201_1b2_Ar_sc_Meditron\n",
      "--------------------------\n",
      "Samplerate = 4000, largo = (80182,)\n",
      "Iteración 578: 201_1b3_Al_sc_Meditron\n",
      "--------------------------\n",
      "Samplerate = 4000, largo = (80182,)\n",
      "Iteración 579: 201_1b3_Ar_sc_Meditron\n",
      "--------------------------\n",
      "Samplerate = 4000, largo = (80182,)\n",
      "Iteración 580: 202_1b1_Ar_sc_Meditron\n",
      "--------------------------\n",
      "Samplerate = 4000, largo = (79380,)\n",
      "Iteración 581: 203_1p2_Al_mc_AKGC417L\n",
      "--------------------------\n",
      "Samplerate = 4000, largo = (80182,)\n",
      "Iteración 582: 203_1p2_Ar_mc_AKGC417L\n",
      "--------------------------\n",
      "Samplerate = 4000, largo = (80182,)\n",
      "Iteración 583: 203_1p2_Lr_mc_AKGC417L\n",
      "--------------------------\n",
      "Samplerate = 4000, largo = (80182,)\n",
      "Iteración 584: 203_1p2_Pl_mc_AKGC417L\n",
      "--------------------------\n",
      "Samplerate = 4000, largo = (80182,)\n",
      "Iteración 585: 203_1p2_Pr_mc_AKGC417L\n",
      "--------------------------\n",
      "Samplerate = 4000, largo = (80182,)\n",
      "Iteración 586: 203_1p3_Al_mc_AKGC417L\n",
      "--------------------------\n",
      "Samplerate = 4000, largo = (80182,)\n",
      "Iteración 587: 203_1p3_Ar_mc_AKGC417L\n",
      "--------------------------\n",
      "Samplerate = 4000, largo = (80182,)\n",
      "Iteración 588: 203_1p3_Pl_mc_AKGC417L\n",
      "--------------------------\n",
      "Samplerate = 4000, largo = (80182,)\n",
      "Iteración 589: 203_1p3_Pr_mc_AKGC417L\n",
      "--------------------------\n",
      "Samplerate = 4000, largo = (80182,)\n",
      "Iteración 590: 203_1p4_Al_mc_AKGC417L\n",
      "--------------------------\n",
      "Samplerate = 4000, largo = (80182,)\n",
      "Iteración 591: 203_1p4_Ar_mc_AKGC417L\n",
      "--------------------------\n",
      "Samplerate = 4000, largo = (80182,)\n",
      "Iteración 592: 203_1p4_Pl_mc_AKGC417L\n",
      "--------------------------\n",
      "Samplerate = 4000, largo = (80182,)\n",
      "Iteración 593: 203_1p4_Pr_mc_AKGC417L\n",
      "--------------------------\n",
      "Samplerate = 4000, largo = (80182,)\n",
      "Iteración 594: 203_2p3_Al_mc_AKGC417L\n",
      "--------------------------\n",
      "Samplerate = 4000, largo = (80182,)\n",
      "Iteración 595: 203_2p3_Ar_mc_AKGC417L\n",
      "--------------------------\n",
      "Samplerate = 4000, largo = (80182,)\n",
      "Iteración 596: 203_2p3_Pl_mc_AKGC417L\n",
      "--------------------------\n",
      "Samplerate = 4000, largo = (80182,)\n",
      "Iteración 597: 203_2p3_Pr_mc_AKGC417L\n",
      "--------------------------\n",
      "Samplerate = 4000, largo = (80182,)\n",
      "Iteración 598: 204_2b5_Al_mc_AKGC417L\n",
      "--------------------------\n",
      "Samplerate = 4000, largo = (80182,)\n",
      "Iteración 599: 204_2b5_Ar_mc_AKGC417L\n",
      "--------------------------\n",
      "Samplerate = 4000, largo = (80182,)\n",
      "Iteración 600: 204_2b5_Ll_mc_AKGC417L\n",
      "--------------------------\n",
      "Samplerate = 4000, largo = (80182,)\n",
      "Iteración 601: 204_7p5_Al_mc_AKGC417L\n",
      "--------------------------\n",
      "Samplerate = 4000, largo = (80182,)\n",
      "Iteración 602: 204_7p5_Ar_mc_AKGC417L\n",
      "--------------------------\n",
      "Samplerate = 4000, largo = (80182,)\n",
      "Iteración 603: 204_7p5_Ll_mc_AKGC417L\n",
      "--------------------------\n",
      "Samplerate = 4000, largo = (80182,)\n",
      "Iteración 604: 204_7p5_Lr_mc_AKGC417L\n",
      "--------------------------\n",
      "Samplerate = 4000, largo = (80182,)\n",
      "Iteración 605: 204_7p5_Pr_mc_AKGC417L\n",
      "--------------------------\n",
      "Samplerate = 4000, largo = (80182,)\n",
      "Iteración 606: 205_1b3_Al_mc_AKGC417L\n",
      "--------------------------\n",
      "Samplerate = 4000, largo = (80182,)\n",
      "Iteración 607: 205_1b3_Ar_mc_AKGC417L\n",
      "--------------------------\n",
      "Samplerate = 4000, largo = (80182,)\n",
      "Iteración 608: 205_1b3_Ll_mc_AKGC417L\n",
      "--------------------------\n",
      "Samplerate = 4000, largo = (80182,)\n",
      "Iteración 609: 205_1b3_Lr_mc_AKGC417L\n",
      "--------------------------\n",
      "Samplerate = 4000, largo = (80182,)\n",
      "Iteración 610: 205_1b3_Pl_mc_AKGC417L\n",
      "--------------------------\n",
      "Samplerate = 4000, largo = (80182,)\n",
      "Iteración 611: 205_1b3_Pr_mc_AKGC417L\n",
      "--------------------------\n",
      "Samplerate = 4000, largo = (80182,)\n",
      "Iteración 612: 205_2b2_Pr_mc_AKGC417L\n",
      "--------------------------\n",
      "Samplerate = 4000, largo = (80182,)\n",
      "Iteración 613: 205_2b3_Al_mc_AKGC417L\n",
      "--------------------------\n",
      "Samplerate = 4000, largo = (80182,)\n",
      "Iteración 614: 205_2b3_Ar_mc_AKGC417L\n",
      "--------------------------\n",
      "Samplerate = 4000, largo = (80182,)\n",
      "Iteración 615: 205_2b3_Ll_mc_AKGC417L\n",
      "--------------------------\n",
      "Samplerate = 4000, largo = (80182,)\n",
      "Iteración 616: 205_2b4_Pl_mc_AKGC417L\n",
      "--------------------------\n",
      "Samplerate = 4000, largo = (80182,)\n",
      "Iteración 617: 205_3b4_Al_mc_AKGC417L\n",
      "--------------------------\n",
      "Samplerate = 4000, largo = (80182,)\n",
      "Iteración 618: 205_3b4_Ar_mc_AKGC417L\n",
      "--------------------------\n",
      "Samplerate = 4000, largo = (80182,)\n",
      "Iteración 619: 205_3b4_Pl_mc_AKGC417L\n",
      "--------------------------\n",
      "Samplerate = 4000, largo = (80182,)\n",
      "Iteración 620: 205_3b4_Pr_mc_AKGC417L\n",
      "--------------------------\n",
      "Samplerate = 4000, largo = (80182,)\n",
      "Iteración 621: 205_4b2_Al_mc_AKGC417L\n",
      "--------------------------\n",
      "Samplerate = 4000, largo = (80182,)\n",
      "Iteración 622: 205_4b2_Ar_mc_AKGC417L\n",
      "--------------------------\n",
      "Samplerate = 4000, largo = (80182,)\n",
      "Iteración 623: 205_4b2_Lr_mc_AKGC417L\n",
      "--------------------------\n",
      "Samplerate = 4000, largo = (80182,)\n",
      "Iteración 624: 205_4b2_Pl_mc_AKGC417L\n",
      "--------------------------\n",
      "Samplerate = 4000, largo = (80182,)\n",
      "Iteración 625: 205_4b2_Pr_mc_AKGC417L\n",
      "--------------------------\n",
      "Samplerate = 4000, largo = (80182,)\n",
      "Iteración 626: 206_1b1_Ar_sc_Meditron\n",
      "--------------------------\n",
      "Samplerate = 4000, largo = (80182,)\n",
      "Iteración 627: 206_1b1_Lr_sc_Meditron\n",
      "--------------------------\n",
      "Samplerate = 4000, largo = (80182,)\n",
      "Iteración 628: 206_1b1_Pl_sc_Meditron\n",
      "--------------------------\n",
      "Samplerate = 4000, largo = (80182,)\n",
      "Iteración 629: 207_2b2_Al_mc_AKGC417L\n",
      "--------------------------\n",
      "Samplerate = 4000, largo = (80182,)\n",
      "Iteración 630: 207_2b2_Ar_mc_AKGC417L\n",
      "--------------------------\n",
      "Samplerate = 4000, largo = (80182,)\n",
      "Iteración 631: 207_2b2_Pl_mc_AKGC417L\n",
      "--------------------------\n",
      "Samplerate = 4000, largo = (80182,)\n",
      "Iteración 632: 207_2b2_Pr_mc_AKGC417L\n",
      "--------------------------\n",
      "Samplerate = 4000, largo = (80182,)\n",
      "Iteración 633: 207_2b3_Al_mc_AKGC417L\n",
      "--------------------------\n",
      "Samplerate = 4000, largo = (80182,)\n",
      "Iteración 634: 207_2b3_Ar_mc_AKGC417L\n",
      "--------------------------\n",
      "Samplerate = 4000, largo = (80182,)\n",
      "Iteración 635: 207_2b3_Pl_mc_AKGC417L\n",
      "--------------------------\n",
      "Samplerate = 4000, largo = (80182,)\n",
      "Iteración 636: 207_2b3_Pr_mc_AKGC417L\n",
      "--------------------------\n",
      "Samplerate = 4000, largo = (80182,)\n",
      "Iteración 637: 207_2b4_Al_mc_AKGC417L\n",
      "--------------------------\n",
      "Samplerate = 4000, largo = (80182,)\n",
      "Iteración 638: 207_2b4_Ar_mc_AKGC417L\n",
      "--------------------------\n",
      "Samplerate = 4000, largo = (80182,)\n",
      "Iteración 639: 207_2b4_Pl_mc_AKGC417L\n",
      "--------------------------\n",
      "Samplerate = 4000, largo = (80182,)\n",
      "Iteración 640: 207_2b4_Pr_mc_AKGC417L\n",
      "--------------------------\n",
      "Samplerate = 4000, largo = (80182,)\n",
      "Iteración 641: 207_3b2_Al_mc_AKGC417L\n",
      "--------------------------\n",
      "Samplerate = 4000, largo = (80182,)\n",
      "Iteración 642: 207_3b2_Ar_mc_AKGC417L\n",
      "--------------------------\n",
      "Samplerate = 4000, largo = (80182,)\n",
      "Iteración 643: 207_3b2_Lr_mc_AKGC417L\n",
      "--------------------------\n",
      "Samplerate = 4000, largo = (80182,)\n",
      "Iteración 644: 207_3b2_Pl_mc_AKGC417L\n",
      "--------------------------\n",
      "Samplerate = 4000, largo = (80182,)\n",
      "Iteración 645: 207_3b2_Pr_mc_AKGC417L\n",
      "--------------------------\n",
      "Samplerate = 4000, largo = (80182,)\n",
      "Iteración 646: 208_1b1_Ll_sc_Meditron\n",
      "--------------------------\n",
      "Samplerate = 4000, largo = (79982,)\n",
      "Iteración 647: 210_1b1_Al_sc_Meditron\n",
      "--------------------------\n",
      "Samplerate = 4000, largo = (80182,)\n",
      "Iteración 648: 210_1b1_Ar_sc_Meditron\n",
      "--------------------------\n",
      "Samplerate = 4000, largo = (79460,)\n",
      "Iteración 649: 211_1p2_Ar_mc_AKGC417L\n",
      "--------------------------\n",
      "Samplerate = 4000, largo = (80182,)\n"
     ]
    },
    {
     "name": "stdout",
     "output_type": "stream",
     "text": [
      "Iteración 650: 211_1p2_Pl_mc_AKGC417L\n",
      "--------------------------\n",
      "Samplerate = 4000, largo = (80182,)\n",
      "Iteración 651: 211_1p2_Pr_mc_AKGC417L\n",
      "--------------------------\n",
      "Samplerate = 4000, largo = (80182,)\n",
      "Iteración 652: 211_1p3_Ar_mc_AKGC417L\n",
      "--------------------------\n",
      "Samplerate = 4000, largo = (80182,)\n",
      "Iteración 653: 211_1p5_Ar_mc_AKGC417L\n",
      "--------------------------\n",
      "Samplerate = 4000, largo = (80182,)\n",
      "Iteración 654: 213_1p2_Al_mc_AKGC417L\n",
      "--------------------------\n",
      "Samplerate = 4000, largo = (80182,)\n",
      "Iteración 655: 213_1p2_Ar_mc_AKGC417L\n",
      "--------------------------\n",
      "Samplerate = 4000, largo = (80182,)\n",
      "Iteración 656: 213_1p2_Lr_mc_AKGC417L\n",
      "--------------------------\n",
      "Samplerate = 4000, largo = (80182,)\n",
      "Iteración 657: 213_1p2_Pl_mc_AKGC417L\n",
      "--------------------------\n",
      "Samplerate = 4000, largo = (80182,)\n",
      "Iteración 658: 213_1p2_Pr_mc_AKGC417L\n",
      "--------------------------\n",
      "Samplerate = 4000, largo = (80182,)\n",
      "Iteración 659: 213_1p3_Al_mc_AKGC417L\n",
      "--------------------------\n",
      "Samplerate = 4000, largo = (80182,)\n",
      "Iteración 660: 213_1p3_Ar_mc_AKGC417L\n",
      "--------------------------\n",
      "Samplerate = 4000, largo = (80182,)\n",
      "Iteración 661: 213_1p3_Pl_mc_AKGC417L\n",
      "--------------------------\n",
      "Samplerate = 4000, largo = (80182,)\n",
      "Iteración 662: 213_1p3_Pr_mc_AKGC417L\n",
      "--------------------------\n",
      "Samplerate = 4000, largo = (80182,)\n",
      "Iteración 663: 213_1p5_Al_mc_AKGC417L\n",
      "--------------------------\n",
      "Samplerate = 4000, largo = (80182,)\n",
      "Iteración 664: 213_1p5_Ar_mc_AKGC417L\n",
      "--------------------------\n",
      "Samplerate = 4000, largo = (80182,)\n",
      "Iteración 665: 213_1p5_Pl_mc_AKGC417L\n",
      "--------------------------\n",
      "Samplerate = 4000, largo = (80182,)\n",
      "Iteración 666: 213_1p5_Pr_mc_AKGC417L\n",
      "--------------------------\n",
      "Samplerate = 4000, largo = (80182,)\n",
      "Iteración 667: 213_2p2_Al_mc_AKGC417L\n",
      "--------------------------\n",
      "Samplerate = 4000, largo = (80182,)\n",
      "Iteración 668: 213_2p2_Ar_mc_AKGC417L\n",
      "--------------------------\n",
      "Samplerate = 4000, largo = (80182,)\n",
      "Iteración 669: 213_2p2_Pl_mc_AKGC417L\n",
      "--------------------------\n",
      "Samplerate = 4000, largo = (80182,)\n",
      "Iteración 670: 213_2p2_Pr_mc_AKGC417L\n",
      "--------------------------\n",
      "Samplerate = 4000, largo = (80182,)\n",
      "Iteración 671: 214_1b1_Ar_sc_Meditron\n",
      "--------------------------\n",
      "Samplerate = 4000, largo = (79540,)\n",
      "Iteración 672: 215_1b2_Ar_sc_Meditron\n",
      "--------------------------\n",
      "Samplerate = 4000, largo = (80182,)\n",
      "Iteración 673: 216_1b1_Al_sc_Meditron\n",
      "--------------------------\n",
      "Samplerate = 4000, largo = (80182,)\n",
      "Iteración 674: 216_1b1_Pl_sc_Meditron\n",
      "--------------------------\n",
      "Samplerate = 4000, largo = (80182,)\n",
      "Iteración 675: 219_2b1_Ar_mc_LittC2SE\n",
      "--------------------------\n",
      "Samplerate = 4000, largo = (80182,)\n",
      "Iteración 676: 219_2b2_Ar_mc_LittC2SE\n",
      "--------------------------\n",
      "Samplerate = 4000, largo = (80182,)\n",
      "Iteración 677: 220_1b2_Al_mc_LittC2SE\n",
      "--------------------------\n",
      "Samplerate = 4000, largo = (80182,)\n",
      "Iteración 678: 221_2b1_Al_mc_LittC2SE\n",
      "--------------------------\n",
      "Samplerate = 4000, largo = (80182,)\n",
      "Iteración 679: 221_2b1_Ar_mc_LittC2SE\n",
      "--------------------------\n",
      "Samplerate = 4000, largo = (80182,)\n",
      "Iteración 680: 221_2b1_Lr_mc_LittC2SE\n",
      "--------------------------\n",
      "Samplerate = 4000, largo = (80182,)\n",
      "Iteración 681: 221_2b1_Pl_mc_LittC2SE\n",
      "--------------------------\n",
      "Samplerate = 4000, largo = (80182,)\n",
      "Iteración 682: 221_2b2_Al_mc_LittC2SE\n",
      "--------------------------\n",
      "Samplerate = 4000, largo = (80182,)\n",
      "Iteración 683: 221_2b2_Ar_mc_LittC2SE\n",
      "--------------------------\n",
      "Samplerate = 4000, largo = (80182,)\n",
      "Iteración 684: 221_2b2_Lr_mc_LittC2SE\n",
      "--------------------------\n",
      "Samplerate = 4000, largo = (80182,)\n",
      "Iteración 685: 221_2b2_Pl_mc_LittC2SE\n",
      "--------------------------\n",
      "Samplerate = 4000, largo = (80182,)\n",
      "Iteración 686: 221_2b3_Al_mc_LittC2SE\n",
      "--------------------------\n",
      "Samplerate = 4000, largo = (80182,)\n",
      "Iteración 687: 221_2b3_Ar_mc_LittC2SE\n",
      "--------------------------\n",
      "Samplerate = 4000, largo = (80182,)\n",
      "Iteración 688: 221_2b3_Lr_mc_LittC2SE\n",
      "--------------------------\n",
      "Samplerate = 4000, largo = (80182,)\n",
      "Iteración 689: 221_2b3_Pr_mc_LittC2SE\n",
      "--------------------------\n",
      "Samplerate = 4000, largo = (80182,)\n",
      "Iteración 690: 224_1b2_Al_sc_Meditron\n",
      "--------------------------\n",
      "Samplerate = 4000, largo = (80182,)\n",
      "Iteración 691: 225_1b1_Pl_sc_Meditron\n",
      "--------------------------\n",
      "Samplerate = 4000, largo = (80182,)\n",
      "Iteración 692: 226_1b1_Al_sc_Meditron\n",
      "--------------------------\n",
      "Samplerate = 4000, largo = (80182,)\n",
      "Iteración 693: 226_1b1_Ll_sc_Meditron\n",
      "--------------------------\n",
      "Samplerate = 4000, largo = (80182,)\n",
      "Iteración 694: 226_1b1_Pl_sc_LittC2SE\n",
      "--------------------------\n",
      "Samplerate = 4000, largo = (80182,)\n"
     ]
    }
   ],
   "source": [
    "%matplotlib notebook\n",
    "\n",
    "# Definición de los arrays donde se acumulará las características\n",
    "X_data_mean = list()\n",
    "X_data_max = list()\n",
    "X_segments = list()\n",
    "\n",
    "# Definición de los arrays donde se acumularán las etiquetas\n",
    "Y_wheeze = list()\n",
    "Y_crackl = list()\n",
    "\n",
    "# Diccionario que indica los segmentos que corresponden a cada paciente\n",
    "patient_register = defaultdict(list)\n",
    "\n",
    "# Contador de los segmentos\n",
    "seg_i = 0\n",
    "\n",
    "# Nombre del archivo .wav a utilizar\n",
    "for num, name in enumerate(filenames):\n",
    "    print(f'Iteración {num + 1}: {name}')\n",
    "    print(f'--------------------------')\n",
    "    \n",
    "    # Definición del paciente de interés\n",
    "    patient = name.split('_')[0]\n",
    "    \n",
    "    if preprocess:\n",
    "        filename = f'{db_folder}/{name}'\n",
    "    else:\n",
    "        filename = f'{db_original}/{name}'\n",
    "\n",
    "    # Cargando el archivo\n",
    "    try:\n",
    "        samplerate, resp_signal = wavfile.read(f'{filename}.wav')\n",
    "    except:\n",
    "        resp_signal, samplerate = sf.read(f'{filename}.wav')\n",
    "    \n",
    "    print(f'Samplerate = {samplerate}, largo = {resp_signal.shape}')\n",
    "    \n",
    "    # Normalizando\n",
    "    resp_signal = resp_signal / max(abs(resp_signal))\n",
    "    \n",
    "    \n",
    "    # Obteniendo la información de los segmentos de este archivo de audio\n",
    "    resp_list_info = get_resp_segments(resp_signal, samplerate, \n",
    "                                       filepath=f'{db_original}/{name}.txt')\n",
    "    \n",
    "    \n",
    "    # Para cada segmento, se obtiene la información de interés\n",
    "    for resp_info in resp_list_info:\n",
    "        # Registrando\n",
    "        patient_register[patient].append(seg_i)\n",
    "        seg_i += 1\n",
    "        \n",
    "        # Agregando a la lista el segmento\n",
    "        X_segments.append(resp_info[0])\n",
    "        \n",
    "        ### Calculando las características a partir del segmento ###\n",
    "        \n",
    "        # Cálculo del MFCC\n",
    "        mfcc_features = \\\n",
    "            get_cepstral_coefficients(resp_info[0], samplerate, \n",
    "                                      spectrogram_params=mfcc_params['spec_params'],\n",
    "                                      freq_lim=mfcc_params['freq_lim'], \n",
    "                                      n_filters=mfcc_params['n_filters'], \n",
    "                                      n_coefs=mfcc_params['n_mfcc'], \n",
    "                                      scale_type='mel', \n",
    "                                      filter_type='triangular', inverse_func='dct', \n",
    "                                      norm_filters=mfcc_params['norm_filters'], \n",
    "                                      plot_filterbank=False, \n",
    "                                      power=mfcc_params['power'])\n",
    "                \n",
    "        # Cálculo del LFCC\n",
    "        lfcc_features = \\\n",
    "            get_cepstral_coefficients(resp_info[0], samplerate, \n",
    "                                      spectrogram_params=lfcc_params['spec_params'],\n",
    "                                      freq_lim=lfcc_params['freq_lim'], \n",
    "                                      n_filters=lfcc_params['n_filters'], \n",
    "                                      n_coefs=lfcc_params['n_mfcc'], \n",
    "                                      scale_type='linear', \n",
    "                                      filter_type='triangular', inverse_func='dct', \n",
    "                                      norm_filters=lfcc_params['norm_filters'], \n",
    "                                      plot_filterbank=False, \n",
    "                                      power=lfcc_params['power'])\n",
    "        \n",
    "        # Cálculo de la energía por bandas\n",
    "        energy_S = \\\n",
    "            get_energy_bands(resp_info[0], samplerate,\n",
    "                             spectrogram_params=energy_params['spec_params'],\n",
    "                             fmin=energy_params['fmin'], \n",
    "                             fmax=energy_params['fmax'], \n",
    "                             fband=energy_params['fband'])\n",
    "        \n",
    "        # Colapsando la información\n",
    "        to_append_mean = np.concatenate((mfcc_features.mean(axis=1),\n",
    "                                         lfcc_features.mean(axis=1),\n",
    "                                         energy_S.mean(axis=1)), axis=0)\n",
    "        to_append_max = np.concatenate((mfcc_features.max(axis=1),\n",
    "                                        lfcc_features.max(axis=1),\n",
    "                                        energy_S.max(axis=1)), axis=0)\n",
    "        \n",
    "        # Agregando la información a cada arreglo\n",
    "        X_data_mean.append(to_append_mean)\n",
    "        X_data_max.append(to_append_max)\n",
    "        \n",
    "        Y_wheeze.append(resp_info[1])\n",
    "        Y_crackl.append(resp_info[2])\n",
    "\n",
    "\n",
    "# Transformando listas a arrays\n",
    "X_data_mean = np.array(X_data_mean)\n",
    "X_data_max = np.array(X_data_max)\n",
    "\n",
    "Y_wheeze = np.array(Y_wheeze)\n",
    "Y_crackl = np.array(Y_crackl)"
   ]
  },
  {
   "cell_type": "markdown",
   "metadata": {},
   "source": [
    "# Stratify"
   ]
  },
  {
   "cell_type": "code",
   "execution_count": 8,
   "metadata": {
    "ExecuteTime": {
     "end_time": "2021-04-18T18:11:06.068388Z",
     "start_time": "2021-04-18T18:11:06.040458Z"
    }
   },
   "outputs": [
    {
     "name": "stdout",
     "output_type": "stream",
     "text": [
      "Grupo 1: 485\n",
      "Grupo 2: 492\n",
      "Grupo 3: 491\n",
      "Grupo 4: 487\n",
      "Grupo 5: 494\n",
      "Grupo 6: 493\n",
      "Grupo 7: 490\n",
      "Grupo 8: 487\n",
      "Grupo 9: 491\n",
      "Grupo 10: 492\n",
      "Definidos 4902 de 4902\n",
      "new\n"
     ]
    }
   ],
   "source": [
    "# Definición de los grupos de pacientes\n",
    "patient_groups = {1: ['101', '102', '103', '106', '107', '108', '114', '115', '116', \n",
    "                      '119', '122', '123', '126', '127', '129', '162'],\n",
    "                  2: ['130', '131', '132', '165', '197'],\n",
    "                  3: ['133', '134', '135', '136', '137', '138', '140', '141', '142', \n",
    "                      '143', '169'],\n",
    "                  4: ['144', '145', '146', '147', '148', '149', '150', '151', '152',\n",
    "                      '153', '155', '159', '179'],\n",
    "                  5: ['154', '156', '160', '161', '167', '225', '226'],\n",
    "                  6: ['158', '163', '164', '168', '170', '171', '183', '216', '221',\n",
    "                      '224'],\n",
    "                  7: ['172', '173', '174', '176', '177', '180', '189', '191', '196'],\n",
    "                  8: ['178', '181', '184', '186', '187', '188', '192', '194', '202', \n",
    "                      '204'],\n",
    "                  9: ['193', '198', '199', '200', '201', '203'],\n",
    "                  10: ['205', '206', '207', '208', '210', '211', '213', '214', '215',\n",
    "                       '219', '220']}\n",
    "\n",
    "# Definición de variables de control\n",
    "segment_count = 0\n",
    "patients_reviewed = list()\n",
    "\n",
    "for i in patient_groups.keys():\n",
    "    segments_by_group = 0\n",
    "    \n",
    "    for j in patient_groups[i]:\n",
    "        # Sumando al contador de grupo\n",
    "        segments_by_group += len(patient_register[j])\n",
    "        \n",
    "    # Agregando a la lista de pacientes totales\n",
    "    patients_reviewed.extend(patient_groups[i])\n",
    "    \n",
    "    # Sumando al contador total \n",
    "    segment_count += segments_by_group\n",
    "    \n",
    "    # Print de sanidad\n",
    "    print(f'Grupo {i}: {segments_by_group}')\n",
    "\n",
    "print(f'Definidos {segment_count} de {Y_wheeze.shape[0]}')\n",
    "\n",
    "print('new')"
   ]
  },
  {
   "cell_type": "markdown",
   "metadata": {},
   "source": [
    "# Diseño del sistema de clasificación"
   ]
  },
  {
   "cell_type": "code",
   "execution_count": 94,
   "metadata": {
    "ExecuteTime": {
     "end_time": "2021-04-18T10:26:30.766501Z",
     "start_time": "2021-04-18T10:26:30.719564Z"
    },
    "code_folding": [
     0,
     117,
     260,
     278,
     351,
     369,
     392,
     476,
     539
    ]
   },
   "outputs": [],
   "source": [
    "def ML_classification_system(X_train, Y_train, X_test, Y_test, \n",
    "                             clean_params=None, sel_params=None, \n",
    "                             class_params=None):\n",
    "    '''Diseño del sistema de clasificación basado en Machine \n",
    "    Learning.\n",
    "    \n",
    "    Parameters\n",
    "    ----------\n",
    "    X_train : ndarray\n",
    "        Datos de entrenamiento.\n",
    "    Y_train : ndarray\n",
    "        Etiquetas de los datos de entrenamiento.\n",
    "    X_test : ndarray\n",
    "        Datos de testeo.\n",
    "    Y_test : ndarray\n",
    "        Etiquetas de los datos de testeo.\n",
    "    clean_params: dict or None, optional\n",
    "        Parámetros del proceso de limpieza de características. \n",
    "        Si es None se utilizan características por defecto: \n",
    "        'tol': 13-5, 'show': True. Por defecto es None.\n",
    "    sel_params: dict or None, optional\n",
    "        Parámetros del proceso de selección de características. \n",
    "        Si es None se utilizan características por defecto: \n",
    "        'n_features': 10, 'show': True. Por defecto es None.\n",
    "    class_params: dict or None, optional\n",
    "        Parámetros del proceso de clasificación. Si es None se \n",
    "        utilizan características por defecto: \n",
    "        'classifier': 'knn', 'k_neigh': 10. Por defecto es None. \n",
    "        En caso de usar 'svm', es posible modificar el 'kernel'.\n",
    "        \n",
    "    Returns\n",
    "    -------\n",
    "    classifier : class\n",
    "        Clasificador entrenado.\n",
    "    X_test : ndarray\n",
    "        Matriz de testeo modificada (en caso de que X_test no \n",
    "        sea None).\n",
    "    params_out : dict\n",
    "        Parámetros obtenidos a partir del entrenamiento del\n",
    "        sistema sobre los datos. Se entrega información de las\n",
    "        características del clean ('s_clean'), normalización\n",
    "        ('a_norm' y 'b_norm'), y de la selección de \n",
    "        características ('s_sfs').\n",
    "    Y_pred : ndarray or None\n",
    "        Predicción realizada por el sistema (en caso de que\n",
    "        Y_test no sea None). Si no se entrega Y_test, la salida\n",
    "        será None.\n",
    "    '''\n",
    "    # Parámetros por defecto\n",
    "    if clean_params is None:\n",
    "        clean_params = {'tol': 1e-5, 'show': True}\n",
    "    \n",
    "    if sel_params is None:\n",
    "        sel_params = {'n_features': 10, 'show': True}\n",
    "    \n",
    "    if class_params is None:\n",
    "        class_params = {'classifier': 'knn', 'k_neigh': 10}\n",
    "        \n",
    "    Y_pred = None\n",
    "    \n",
    "    \n",
    "    #### Pipeline de la etapa de clasificación ####\n",
    "    \n",
    "    ## 1) Limpieza de las características\n",
    "    s_clean = pybalu_clean(X_train, tol=clean_params['tol'], \n",
    "                           show=clean_params['show'])\n",
    "    \n",
    "    # Aplicando la limpieza\n",
    "    X_train = X_train[:, s_clean]\n",
    "    \n",
    "    \n",
    "    ## 2) Normalización de los datos\n",
    "    X_train, a_norm, b_norm = normalize(X_train)\n",
    "    \n",
    "    \n",
    "    ## 3) Selección de características\n",
    "    s_sfs = sfs(X_train, Y_train, show=sel_params['show'],\n",
    "                n_features=sel_params['n_features'])\n",
    "    \n",
    "    # Aplicando la selección\n",
    "    X_train = X_train[:, s_sfs]\n",
    "    \n",
    "    \n",
    "    ## 4) Proceso de clasificación   \n",
    "    if class_params['classifier'] == 'knn':\n",
    "        classifier = KNeighborsClassifier(n_neighbors=\\\n",
    "                                          class_params['k_neigh'])\n",
    "        \n",
    "    elif class_params['classifier'] == 'svm':\n",
    "        classifier = svm.SVC(kernel=class_params['kernel'])\n",
    "    \n",
    "    else:\n",
    "        raise Exception('Opción de clasificador no definida '\n",
    "                        'correctamente.')\n",
    "    \n",
    "    # Ajustando el clasificador\n",
    "    classifier.fit(X_train, Y_train)\n",
    "    \n",
    "    \n",
    "    # Aplicando todo el proceso a los datos de testeo\n",
    "    if X_test is not None:\n",
    "        X_test = X_test[:, s_clean]         # 1) Clean\n",
    "        X_test = a_norm * X_test + b_norm   # 2) Normalización\n",
    "        X_test = X_test[:, s_sfs]           # 3) Selección\n",
    "        \n",
    "        # Aplicando el clasificador\n",
    "        if Y_test is not None:\n",
    "            Y_pred = classifier.predict(X_test)\n",
    "\n",
    "    \n",
    "    # Definición del diccionario de parámetros\n",
    "    params_out = {'a_norm': a_norm, 'b_norm': b_norm, 's_clean': s_clean,\n",
    "                  's_sfs': s_sfs}\n",
    "        \n",
    "    return classifier, X_test, params_out, Y_pred\n",
    "\n",
    "\n",
    "def NN_MLP_classification_system(X_train, Y_train, X_test, Y_test, \n",
    "                                 clean_params=None, sel_params=None, \n",
    "                                 mlp_params=None):\n",
    "    '''Diseño del sistema de clasificación basado en Redes Neuronales\n",
    "    Multicapas.\n",
    "    \n",
    "    Parameters\n",
    "    ----------\n",
    "    X_train : ndarray\n",
    "        Datos de entrenamiento.\n",
    "    Y_train : ndarray\n",
    "        Etiquetas de los datos de entrenamiento.\n",
    "    X_test : ndarray\n",
    "        Datos de testeo.\n",
    "    Y_test : ndarray\n",
    "        Etiquetas de los datos de testeo.\n",
    "    clean_params: dict or None, optional\n",
    "        Parámetros del proceso de limpieza de características. \n",
    "        Si es None se utilizan características por defecto: \n",
    "        {'tol': 13-5, 'show': True}. Por defecto es None.\n",
    "    sel_params: dict or None, optional\n",
    "        Parámetros del proceso de selección de características. \n",
    "        Si es None se utilizan características por defecto: \n",
    "        {'n_features': 10, 'show': True}. Por defecto es None.\n",
    "    mlp_params : dict or None, optional\n",
    "        Parámetros del preoceso de clasificación con MLP. Si es\n",
    "        None se utilizan las características por defecto:\n",
    "        {'optimizer': 'Adam', 'loss': 'binary_crossentropy',\n",
    "         'batch_size': None, 'epochs': 100, 'verbose': 1, \n",
    "         'metrics': ['accuracy', tf.keras.metrics.Recall(), \n",
    "                      tf.keras.metrics.Precision()],\n",
    "         'out_layer': 'sigmoid', 'preprocessing': True}\n",
    "        \n",
    "    Returns\n",
    "    -------\n",
    "    classifier : class\n",
    "        Clasificador entrenado.\n",
    "    X_test : ndarray\n",
    "        Matriz de testeo modificada (en caso de que X_test no \n",
    "        sea None).\n",
    "    params_out : dict\n",
    "        Parámetros obtenidos a partir del entrenamiento del\n",
    "        sistema sobre los datos. Se entrega información de las\n",
    "        características del clean ('s_clean'), normalización\n",
    "        ('a_norm' y 'b_norm'), y de la selección de \n",
    "        características ('s_sfs').\n",
    "    Y_pred : ndarray or None\n",
    "        Predicción realizada por el sistema (en caso de que\n",
    "        Y_test no sea None). Si no se entrega Y_test, la salida\n",
    "        será None.\n",
    "    '''\n",
    "    # Parámetros por defecto\n",
    "    if clean_params is None:\n",
    "        clean_params = {'tol': 1e-5, 'show': True}\n",
    "    \n",
    "    if sel_params is None:\n",
    "        sel_params = {'n_features': 10, 'show': True}\n",
    "        \n",
    "    if mlp_params is None:\n",
    "        mlp_params = {'optimizer': 'Adam', 'loss': 'binary_crossentropy',\n",
    "                      'batch_size': None, 'epochs': 100, 'verbose': 1, \n",
    "                      'metrics': ['accuracy', tf.keras.metrics.Recall(), \n",
    "                                  tf.keras.metrics.Precision()],\n",
    "                      'out_layer': 'sigmoid', 'preprocessing': True}\n",
    "    \n",
    "    Y_pred = None\n",
    "    \n",
    "    \n",
    "    #### Pipeline de la etapa de clasificación ####\n",
    "    \n",
    "    # Rutina de preprocesamiento\n",
    "    if mlp_params['preprocessing']:\n",
    "        ## 1) Limpieza de las características\n",
    "        s_clean = pybalu_clean(X_train, tol=clean_params['tol'], \n",
    "                               show=clean_params['show'])\n",
    "\n",
    "        # Aplicando la limpieza\n",
    "        X_train = X_train[:, s_clean]\n",
    "\n",
    "\n",
    "        ## 2) Normalización de los datos\n",
    "        X_train, a_norm, b_norm = normalize(X_train)\n",
    "\n",
    "\n",
    "        ## 3) Selección de características\n",
    "        s_sfs = sfs(X_train, Y_train, show=sel_params['show'],\n",
    "                    n_features=sel_params['n_features'])\n",
    "\n",
    "        # Aplicando la selección\n",
    "        X_train = X_train[:, s_sfs]\n",
    "\n",
    "    \n",
    "    \n",
    "    ## 4) Proceso de clasificación\n",
    "    \n",
    "    # Definición del modelo\n",
    "    model = MLP_network(input_shape=(X_train.shape[1],),\n",
    "                        out_layer=mlp_params['out_layer'])\n",
    "    \n",
    "    # Compilando modelos\n",
    "    model.compile(optimizer=mlp_params['optimizer'], \n",
    "                  loss=mlp_params['loss'],\n",
    "                  metrics=mlp_params['metrics'])\n",
    "    \n",
    "    \n",
    "    # Definición de los vectores\n",
    "    if mlp_params['out_layer'] == 'softmax':\n",
    "        # One-Hot\n",
    "        Y_train_to = \\\n",
    "            np.array([Y_train, np.ones(len(Y_train)) - Y_train]).T\n",
    "    \n",
    "    elif mlp_params['out_layer'] == 'sigmoid':\n",
    "        # Normal\n",
    "        Y_train_to = Y_train\n",
    "    \n",
    "    \n",
    "    # Ajustando el Modelo\n",
    "    history = model.fit(x=X_train, y=Y_train_to, \n",
    "                        batch_size=mlp_params['batch_size'],\n",
    "                        epochs=mlp_params['epochs'],\n",
    "                        verbose=mlp_params['verbose'])\n",
    "    \n",
    "    \n",
    "    # Aplicando todo el proceso a los datos de testeo\n",
    "    if X_test is not None:\n",
    "        # Si se realizó el preprocesamiento, se actualiza\n",
    "        if preprocessing:\n",
    "            X_test = X_test[:, s_clean]         # 1) Clean\n",
    "            X_test = X_test * a_norm + b_norm   # 2) Normalización\n",
    "            X_test = X_test[:, s_sfs]           # 3) Selección\n",
    "        \n",
    "        # Aplicando el clasificador\n",
    "        if Y_test is not None:\n",
    "            Y_pred = model.predict(X_test)\n",
    "\n",
    "    \n",
    "    # Definición del diccionario de parámetros\n",
    "    params_out = {'a_norm': a_norm, 'b_norm': b_norm, 's_clean': s_clean,\n",
    "                  's_sfs': s_sfs, 'history': history}\n",
    "        \n",
    "    return model, X_test, params_out, Y_pred\n",
    "\n",
    "\n",
    "def MLP_network(input_shape, out_layer='sigmoid'):\n",
    "    '''Función que define una red de perceptrones multicapas para \n",
    "    clasificar.\n",
    "    \n",
    "    Parameters\n",
    "    ----------\n",
    "    input_shape : list or ndarray\n",
    "        Dimensión de la información de entrada.\n",
    "    out_layer : {'sigmoid', 'softmax'}, optional\n",
    "        Función a usar en la capa de salida de la red. Por defecto\n",
    "        es 'sigmoid'.\n",
    "    \n",
    "    Returns\n",
    "    -------\n",
    "    model: tensorflow.keras.Model\n",
    "        Modelo del sistema.\n",
    "    '''\n",
    "    \n",
    "    def _layer(input_layer, units, kernel_initializer, \n",
    "               bias_initializer, name):\n",
    "        '''Función auxiliar que modela las capas Dense + batchnorm +\n",
    "        Activation ReLU'''\n",
    "        # Aplicando la concatenación de capas\n",
    "        x_dense = tf.keras.layers.Dense(units=units, \n",
    "                                        bias_initializer=bias_initializer,\n",
    "                                        kernel_initializer=kernel_initializer,\n",
    "                                        name=f'Dense_{name}')(input_layer)\n",
    "        x_dense = \\\n",
    "            tf.keras.layers.BatchNormalization(name=f'BatchNorm_{name}')(x_dense)\n",
    "        x_dense = \\\n",
    "            tf.keras.layers.Activation('relu', name=f'Activation_{name}')(x_dense)\n",
    "\n",
    "        return x_dense\n",
    "    \n",
    "    \n",
    "    # Definición de la entrada\n",
    "    x_in = tf.keras.Input(shape=input_shape, dtype='float32')\n",
    "    \n",
    "    \n",
    "    # Definición de la red misma\n",
    "    x_layer = _layer(x_in, units=500, kernel_initializer='he_normal', \n",
    "                     bias_initializer='he_normal', name='Layer_1')\n",
    "    x_layer = _layer(x_layer, units=200, kernel_initializer='he_normal', \n",
    "                     bias_initializer='he_normal', name='Layer_2')\n",
    "    x_layer = _layer(x_layer, units=100, kernel_initializer='he_normal', \n",
    "                     bias_initializer='he_normal', name='Layer_3')\n",
    "    x_layer = _layer(x_layer, units=80, kernel_initializer='he_normal', \n",
    "                     bias_initializer='he_normal', name='Layer_4')\n",
    "    x_layer = _layer(x_layer, units=30, kernel_initializer='he_normal', \n",
    "                     bias_initializer='he_normal', name='Layer_5')\n",
    "    x_layer = _layer(x_layer, units=10, kernel_initializer='he_normal', \n",
    "                     bias_initializer='he_normal', name='Layer_6')\n",
    "    x_layer = _layer(x_layer, units=5, kernel_initializer='he_normal', \n",
    "                     bias_initializer='he_normal', name='Layer_7')\n",
    "    \n",
    "    # Definición de la salida\n",
    "    if out_layer == 'softmax':\n",
    "        x_out = tf.keras.layers.Dense(2, activation='softmax', \n",
    "                                      kernel_initializer='he_normal', \n",
    "                                      bias_initializer='he_normal')(x_layer)\n",
    "    elif out_layer == 'sigmoid':\n",
    "        x_out = tf.keras.layers.Dense(1, activation='sigmoid', \n",
    "                                      kernel_initializer='he_normal', \n",
    "                                      bias_initializer='he_normal')(x_layer)\n",
    "    else:\n",
    "        raise Exception(f'Opción de parámetro \"out_layer\"={out_layer} '\n",
    "                        f'no válido.')\n",
    "    \n",
    "    # Definir el modelo\n",
    "    model = tf.keras.Model(inputs=x_in, outputs=x_out, name='Red_MLP')\n",
    "    \n",
    "    return model\n",
    "\n",
    "\n",
    "def CNN_network(input_shape, padding_value, out_layer='sigmoid'):\n",
    "    '''Función que define una red CNN para extraer características y \n",
    "    clasificar.\n",
    "    \n",
    "    Parameters\n",
    "    ----------\n",
    "    input_shape : list or ndarray\n",
    "        Dimensión de la información de entrada.\n",
    "    out_layer : {'sigmoid', 'softmax'}, optional\n",
    "        Función a usar en la capa de salida de la red. Por defecto\n",
    "        es 'sigmoid'.\n",
    "    \n",
    "    Returns\n",
    "    -------\n",
    "    model: tensorflow.keras.Model\n",
    "        Modelo del sistema.\n",
    "    '''\n",
    "    def _conv_bn_act_layer(input_layer, filters, kernel_size, padding,\n",
    "                           kernel_initializer, bias_initializaer, name):\n",
    "        '''Función auxiliar que modela las capas azules conv + batchnorm +\n",
    "        Activation ReLU para realizar el ENCODING.'''\n",
    "        # Aplicando la concatenación de capas\n",
    "        x_conv = tf.keras.layers.Conv1D(filters=filters, kernel_size=kernel_size, \n",
    "                                        kernel_initializer=kernel_initializer,\n",
    "                                        bias_initializaer=bias_initializaer,\n",
    "                                        padding=padding, \n",
    "                                        name=f'Conv_{name}')(input_layer)\n",
    "        x_conv = \\\n",
    "            tf.keras.layers.BatchNormalization(name=f'BatchNorm_{name}')(x_conv)\n",
    "        x_conv = \\\n",
    "            tf.keras.layers.Activation('relu', name=f'Activation_{name}')(x_conv)\n",
    "\n",
    "        return x_conv\n",
    "    \n",
    "    \n",
    "    def _cnn_layers(input_layer, n_layers_conv, layer_params):\n",
    "        '''Función auxiliar que permite modelar \"n_layers_conv\" capas CNN seguida de \n",
    "        una capa de Maxpooling.  \n",
    "        '''\n",
    "        # Definición de la salida de este bloque\n",
    "        x_enc = input_layer\n",
    "        \n",
    "        # Aplicando \"n_layers_conv\" capas convolucionales de codificación\n",
    "        for i in range(n_layers_conv):\n",
    "            x_enc = _conv_bn_act_layer(x_enc, filters=layer_params['filters'], \n",
    "                                       kernel_size=layer_params['kernel_size'], \n",
    "                                       padding=layer_params['padding'],\n",
    "                                       kernel_initializer=layer_params['kernel_initializer'],\n",
    "                                       bias_initializer=layer_params['bias_initializer'],\n",
    "                                       name=f\"{layer_params['name']}_{i}\")\n",
    "\n",
    "        # Finalmente la capa de MaxPooling\n",
    "        x_enc = tf.keras.layers.MaxPooling1D(pool_size=2, strides=2, \n",
    "                                             padding='valid',\n",
    "                                             name=f\"MaxPool_Conv_{layer_params['name']}\")(x_enc)\n",
    "        return x_enc\n",
    "    \n",
    "    \n",
    "    def _mlp_layers(input_layer, units, kernel_initializer, \n",
    "               bias_initializer, name):\n",
    "        '''Función auxiliar que modela las capas Dense + batchnorm +\n",
    "        Activation ReLU'''\n",
    "        # Aplicando la concatenación de capas\n",
    "        x_dense = tf.keras.layers.Dense(units=units, \n",
    "                                        bias_initializer=bias_initializer,\n",
    "                                        kernel_initializer=kernel_initializer,\n",
    "                                        name=f'Dense_{name}')(input_layer)\n",
    "        x_dense = \\\n",
    "            tf.keras.layers.BatchNormalization(name=f'BatchNorm_{name}')(x_dense)\n",
    "        x_dense = \\\n",
    "            tf.keras.layers.Activation('relu', name=f'Activation_{name}')(x_dense)\n",
    "\n",
    "        return x_dense\n",
    "    \n",
    "    \n",
    "    # Definición de la entrada\n",
    "    x_in = tf.keras.Input(shape=input_shape, dtype='float32')\n",
    "    \n",
    "    # Definición de la capa de máscara\n",
    "    x_masked = tf.keras.layers.Masking(mask_value=padding_value)(x_in)\n",
    "                                             \n",
    "    # Definición de la CNN\n",
    "    layer_params_1 = {'filters': 64, 'kernel_size': 100, 'padding': 'same',\n",
    "                      'kernel_initializer': 'he_normal',\n",
    "                      'bias_initializer': 'he_normal', 'name': 'cnn_1'}\n",
    "    x_layer = _cnn_layers(x_masked, n_layers_conv=2, layer_params=layer_params_1)\n",
    "                                             \n",
    "    layer_params_2 = {'filters': 128, 'kernel_size': 100, 'padding': 'same',\n",
    "                      'kernel_initializer': 'he_normal',\n",
    "                      'bias_initializer': 'he_normal', 'name': 'cnn_2'}\n",
    "    x_layer = _cnn_layers(x_layer, n_layers_conv=2, layer_params=layer_params_2)\n",
    "                                             \n",
    "    layer_params_3 = {'filters': 256, 'kernel_size': 100, 'padding': 'same',\n",
    "                      'kernel_initializer': 'he_normal',\n",
    "                      'bias_initializer': 'he_normal', 'name': 'cnn_3'}\n",
    "    x_layer = _cnn_layers(x_layer, n_layers_conv=3, layer_params=layer_params_3)\n",
    "                                             \n",
    "    layer_params_4 = {'filters': 512, 'kernel_size': 100, 'padding': 'same',\n",
    "                      'kernel_initializer': 'he_normal',\n",
    "                      'bias_initializer': 'he_normal', 'name': 'cnn_4'}\n",
    "    x_layer = _cnn_layers(x_layer, n_layers_conv=3, layer_params=layer_params_4)\n",
    "                      \n",
    "    \n",
    "    # Definición de la capa de aplanamiento para conectar la CNN con la FCL \n",
    "    x_layer = tf.keras.layers.Flatten()(x_layer)                                     \n",
    "    \n",
    "    \n",
    "    # Definición de la red misma\n",
    "    x_layer = _layer(x_layer, units=500, kernel_initializer='he_normal', \n",
    "                     bias_initializer='he_normal', name='Layer_1')\n",
    "    x_layer = _layer(x_layer, units=200, kernel_initializer='he_normal', \n",
    "                     bias_initializer='he_normal', name='Layer_2')\n",
    "    x_layer = _layer(x_layer, units=100, kernel_initializer='he_normal', \n",
    "                     bias_initializer='he_normal', name='Layer_3')\n",
    "    x_layer = _layer(x_layer, units=80, kernel_initializer='he_normal', \n",
    "                     bias_initializer='he_normal', name='Layer_4')\n",
    "    x_layer = _layer(x_layer, units=30, kernel_initializer='he_normal', \n",
    "                     bias_initializer='he_normal', name='Layer_5')\n",
    "    x_layer = _layer(x_layer, units=10, kernel_initializer='he_normal', \n",
    "                     bias_initializer='he_normal', name='Layer_6')\n",
    "    x_layer = _layer(x_layer, units=5, kernel_initializer='he_normal', \n",
    "                     bias_initializer='he_normal', name='Layer_7')\n",
    "    \n",
    "    # Definición de la salida\n",
    "    if out_layer == 'softmax':\n",
    "        x_out = tf.keras.layers.Dense(2, activation='softmax', \n",
    "                                      kernel_initializer='he_normal', \n",
    "                                      bias_initializer='he_normal')(x_layer)\n",
    "    elif out_layer == 'sigmoid':\n",
    "        x_out = tf.keras.layers.Dense(1, activation='sigmoid', \n",
    "                                      kernel_initializer='he_normal', \n",
    "                                      bias_initializer='he_normal')(x_layer)\n",
    "    else:\n",
    "        raise Exception(f'Opción de parámetro \"out_layer\"={out_layer} '\n",
    "                        f'no válido.')\n",
    "    \n",
    "    # Definir el modelo\n",
    "    model = tf.keras.Model(inputs=x_in, outputs=x_out, name='Red_MLP')\n",
    "    \n",
    "    return model\n",
    "\n",
    "\n",
    "\n",
    "def train_test_definition(X_data, Y_data, index_test, patient_groups,\n",
    "                          patient_register, kfold=10):\n",
    "    '''Función que permite retornar los conjuntos de entrenamiento\n",
    "    y testeo en base a la división de la base de datos realizada \n",
    "    previamente para hacer una validación cruzada.\n",
    "    \n",
    "    Parameters\n",
    "    ----------\n",
    "    X_data : ndarray\n",
    "        Matriz de características.\n",
    "    Y_data : ndarray\n",
    "        Etiquetas de la matriz de características.\n",
    "    index_test : int\n",
    "        Índice del grupo de testeo en la validación cruzada.\n",
    "    patient_gropus : dict\n",
    "        Diccionario que contiene los pacientes que corresponden\n",
    "        a cada grupo de la validación cruzada.\n",
    "    patient_register : dict\n",
    "        Diccionario que contiene las entradas de cada paciente\n",
    "        en la matriz de características.\n",
    "    kfold : int, optional\n",
    "        k de la validación cruzada que se realiza. Por defecto \n",
    "        es 10.\n",
    "    \n",
    "    Returns\n",
    "    -------\n",
    "    X_train : ndarray\n",
    "        Datos de entrenamiento.\n",
    "    Y_train : ndarray\n",
    "        Etiquetas de los datos de entrenamiento.\n",
    "    X_test : ndarray\n",
    "        Datos de testeo.\n",
    "    Y_test : ndarray\n",
    "        Etiquetas de los datos de testeo.\n",
    "    '''\n",
    "    # Definición de los pacientes de testeo \n",
    "    test_patients = patient_groups[index_test]\n",
    "    \n",
    "    # Y entrenamiento\n",
    "    train_patients = list()\n",
    "    for i in range(1, kfold + 1):\n",
    "        if i != index_test:\n",
    "            train_patients.extend(patient_groups[i])\n",
    "            \n",
    "    # Definición de las entradas de entrenamiento y testeo\n",
    "    train_indexes = list()\n",
    "    test_indexes = list()\n",
    "    \n",
    "    for i in train_patients:\n",
    "        train_indexes.extend(patient_register[str(i)])\n",
    "    \n",
    "    for i in test_patients:\n",
    "        test_indexes.extend(patient_register[str(i)])\n",
    "\n",
    "    # Aplicando los indices sobre los datos\n",
    "    X_train = X_data[train_indexes]\n",
    "    Y_train = Y_data[train_indexes]\n",
    "    X_test  = X_data[test_indexes]\n",
    "    Y_test  = Y_data[test_indexes]\n",
    "    \n",
    "    return X_train, Y_train, X_test, Y_test\n",
    "    \n",
    "    \n",
    "def crossval_results(X_data, Y_data, experiment_type='ML', clean_params=None, \n",
    "                     sel_params=None, class_params=None, mlp_params=None,\n",
    "                     kfold=10):\n",
    "    '''Función que permite calcular el desempeño del clasificador\n",
    "    mediante una validación cruzada de los datos.\n",
    "    \n",
    "    Parameters\n",
    "    ----------\n",
    "    X_data : ndarray\n",
    "        Matriz de características.\n",
    "    Y_data : ndarray\n",
    "        Etiquetas de la matriz de características.\n",
    "    experiment_type : {'ML', 'NN-MLP' 'CNN'}, optional\n",
    "        Tipo de sistema a estudiar. 'ML' corresponde a un diseño\n",
    "        estilo Machine-Learning (Rec. de Patrones). 'NN-MLP'\n",
    "        corresponde a un diseño que utiliza como salida un \n",
    "        clasificador de perceptrones multicapas. 'CNN' es un\n",
    "        diseño que utiliza una CNN con arquitectura clásica\n",
    "        (AlexNet o VGG-16) para clasificar cada segmento.\n",
    "        Por defecto es 'ML'.\n",
    "    clean_params: dict or None, optional\n",
    "        Parámetros del proceso de limpieza de características. \n",
    "        Si es None se utilizan características por defecto: \n",
    "        'tol': 13-5, 'show': True. Por defecto es None.\n",
    "    sel_params: dict or None, optional\n",
    "        Parámetros del proceso de selección de características. \n",
    "        Si es None se utilizan características por defecto: \n",
    "        'n_features': 10, 'show': True. Por defecto es None.\n",
    "    class_params: dict or None, optional\n",
    "        Parámetros del proceso de clasificación. Si es None se \n",
    "        utilizan características por defecto: \n",
    "        'classifier': 'knn', 'k_neigh': 10. Por defecto es None. \n",
    "        En caso de usar 'svm', es posible modificar el 'kernel'.\n",
    "    mlp_params : dict or None, optional\n",
    "        Parámetros del preoceso de clasificación con MLP. Si es\n",
    "        None se utilizan las características por defecto:\n",
    "        {'optimizer': 'Adam', 'loss': 'binary_crossentropy',\n",
    "         'batch_size': None, 'epochs': 100, 'verbose': 1, \n",
    "         'metrics': ['accuracy', tf.keras.metrics.Recall(), \n",
    "                      tf.keras.metrics.Precision()],\n",
    "         'out_layer': 'sigmoid', 'preprocessing': True}\n",
    "    kfold : int, optional\n",
    "        k de las repeticiones de la validación cruzada k-fold.\n",
    "        Por defecto es 10.\n",
    "    \n",
    "    Returns\n",
    "    -------\n",
    "    confmat_list: list\n",
    "        Lista de las matrices de confusión para cada iteración.\n",
    "    accuracy_list : list\n",
    "        Lista de las accuracys para cada iteración.\n",
    "    '''\n",
    "    # Definición de la lista de matrices de confusión\n",
    "    confmat_list = list()\n",
    "    \n",
    "    # Iteraciónes del k-fold cross validation\n",
    "    for index in range(1, kfold + 1):\n",
    "        # Definición de la base de datos\n",
    "        X_train, Y_train, X_test, Y_test = \\\n",
    "            train_test_definition(X_data, Y_data, index_test=index, \n",
    "                                  patient_groups=patient_groups,\n",
    "                                  patient_register=patient_register)\n",
    "\n",
    "        # Aplicando el clasificador\n",
    "        if experiment_type == 'ML':\n",
    "            classifier, X_test, params_out, Y_pred = \\\n",
    "                    ML_classification_system(X_train, Y_train, X_test, Y_test, \n",
    "                                             clean_params=clean_params, \n",
    "                                             sel_params=sel_params, \n",
    "                                             class_params=class_params)\n",
    "            \n",
    "        elif experiment_type == 'NN-MLP':\n",
    "            model, X_test, params_out, Y_pred = \\\n",
    "                NN_MLP_classification_system(X_train, Y_train, X_test, Y_test, \n",
    "                                             clean_params=clean_params, \n",
    "                                             sel_params=sel_params, \n",
    "                                             mlp_params=mlp_params)\n",
    "            \n",
    "            # Modificar el Y_pred\n",
    "            Y_pred = np.where(Y_pred < 0.5, 0, 1)[:, 0]\n",
    "\n",
    "        elif experiment_type == 'CNN':\n",
    "            pass\n",
    "    \n",
    "        else:\n",
    "            raise Exception('Opción no válida para \"experiment_type\".')\n",
    "    \n",
    "        # Obteniendo la matriz de confusión\n",
    "        conf_mat = confusion_matrix(Y_pred, Y_test)\n",
    "        \n",
    "        # Agregando a la lista\n",
    "        confmat_list.append(conf_mat)\n",
    "    \n",
    "    # Cálculo de los resultados finales\n",
    "    accuracy_list = list()\n",
    "    \n",
    "    for cmat in confmat_list:\n",
    "        accuracy_i = np.sum(np.diag(cmat)) / np.sum(cmat)\n",
    "        accuracy_list.append(accuracy_i)\n",
    "        \n",
    "    print(f'Accuracy {kfold}-fold CV: {np.mean(accuracy_list)} +- '\n",
    "          f'{np.std(accuracy_list)}')\n",
    "    \n",
    "    return confmat_list, accuracy_list"
   ]
  },
  {
   "cell_type": "code",
   "execution_count": 95,
   "metadata": {
    "ExecuteTime": {
     "end_time": "2021-04-18T10:26:31.454098Z",
     "start_time": "2021-04-18T10:26:31.436151Z"
    }
   },
   "outputs": [],
   "source": [
    "# Parámetros generales\n",
    "clean_params = {'tol': 1e-5, 'show': True}\n",
    "sel_params = {'n_features': 60, 'show': True}"
   ]
  },
  {
   "cell_type": "markdown",
   "metadata": {},
   "source": [
    "# kNN"
   ]
  },
  {
   "cell_type": "code",
   "execution_count": 72,
   "metadata": {
    "ExecuteTime": {
     "end_time": "2021-04-18T08:42:16.537056Z",
     "start_time": "2021-04-18T08:30:13.088393Z"
    },
    "scrolled": true
   },
   "outputs": [
    {
     "name": "stdout",
     "output_type": "stream",
     "text": [
      "Clean: number of features reduced from 149 to 121.\n"
     ]
    },
    {
     "name": "stderr",
     "output_type": "stream",
     "text": [
      "Selecting Features: 100%|████████████████████████████████████████████████████| 60.0/60.0 [00:14<00:00, 4.10 features/s]\n"
     ]
    },
    {
     "name": "stdout",
     "output_type": "stream",
     "text": [
      "Clean: number of features reduced from 149 to 126.\n"
     ]
    },
    {
     "name": "stderr",
     "output_type": "stream",
     "text": [
      "Selecting Features: 100%|████████████████████████████████████████████████████| 60.0/60.0 [00:15<00:00, 3.88 features/s]\n"
     ]
    },
    {
     "name": "stdout",
     "output_type": "stream",
     "text": [
      "Clean: number of features reduced from 149 to 126.\n"
     ]
    },
    {
     "name": "stderr",
     "output_type": "stream",
     "text": [
      "Selecting Features: 100%|████████████████████████████████████████████████████| 60.0/60.0 [00:15<00:00, 3.97 features/s]\n"
     ]
    },
    {
     "name": "stdout",
     "output_type": "stream",
     "text": [
      "Clean: number of features reduced from 149 to 126.\n"
     ]
    },
    {
     "name": "stderr",
     "output_type": "stream",
     "text": [
      "Selecting Features: 100%|████████████████████████████████████████████████████| 60.0/60.0 [00:15<00:00, 3.97 features/s]\n"
     ]
    },
    {
     "name": "stdout",
     "output_type": "stream",
     "text": [
      "Clean: number of features reduced from 149 to 126.\n"
     ]
    },
    {
     "name": "stderr",
     "output_type": "stream",
     "text": [
      "Selecting Features: 100%|████████████████████████████████████████████████████| 60.0/60.0 [00:15<00:00, 3.93 features/s]\n"
     ]
    },
    {
     "name": "stdout",
     "output_type": "stream",
     "text": [
      "Clean: number of features reduced from 149 to 126.\n"
     ]
    },
    {
     "name": "stderr",
     "output_type": "stream",
     "text": [
      "Selecting Features: 100%|████████████████████████████████████████████████████| 60.0/60.0 [00:15<00:00, 3.90 features/s]\n"
     ]
    },
    {
     "name": "stdout",
     "output_type": "stream",
     "text": [
      "Clean: number of features reduced from 149 to 126.\n"
     ]
    },
    {
     "name": "stderr",
     "output_type": "stream",
     "text": [
      "Selecting Features: 100%|████████████████████████████████████████████████████| 60.0/60.0 [00:15<00:00, 3.88 features/s]\n"
     ]
    },
    {
     "name": "stdout",
     "output_type": "stream",
     "text": [
      "Clean: number of features reduced from 149 to 124.\n"
     ]
    },
    {
     "name": "stderr",
     "output_type": "stream",
     "text": [
      "Selecting Features: 100%|████████████████████████████████████████████████████| 60.0/60.0 [00:15<00:00, 3.97 features/s]\n"
     ]
    },
    {
     "name": "stdout",
     "output_type": "stream",
     "text": [
      "Clean: number of features reduced from 149 to 126.\n"
     ]
    },
    {
     "name": "stderr",
     "output_type": "stream",
     "text": [
      "Selecting Features: 100%|████████████████████████████████████████████████████| 60.0/60.0 [00:15<00:00, 3.75 features/s]\n"
     ]
    },
    {
     "name": "stdout",
     "output_type": "stream",
     "text": [
      "Clean: number of features reduced from 149 to 124.\n"
     ]
    },
    {
     "name": "stderr",
     "output_type": "stream",
     "text": [
      "Selecting Features: 100%|████████████████████████████████████████████████████| 60.0/60.0 [00:15<00:00, 3.96 features/s]\n"
     ]
    },
    {
     "name": "stdout",
     "output_type": "stream",
     "text": [
      "Accuracy 10-fold CV: 0.5510293314947965 +- 0.07420473223452298\n",
      "Clean: number of features reduced from 149 to 121.\n"
     ]
    },
    {
     "name": "stderr",
     "output_type": "stream",
     "text": [
      "Selecting Features: 100%|████████████████████████████████████████████████████| 60.0/60.0 [00:15<00:00, 3.98 features/s]\n"
     ]
    },
    {
     "name": "stdout",
     "output_type": "stream",
     "text": [
      "Clean: number of features reduced from 149 to 126.\n"
     ]
    },
    {
     "name": "stderr",
     "output_type": "stream",
     "text": [
      "Selecting Features: 100%|████████████████████████████████████████████████████| 60.0/60.0 [00:16<00:00, 3.66 features/s]\n"
     ]
    },
    {
     "name": "stdout",
     "output_type": "stream",
     "text": [
      "Clean: number of features reduced from 149 to 126.\n"
     ]
    },
    {
     "name": "stderr",
     "output_type": "stream",
     "text": [
      "Selecting Features: 100%|████████████████████████████████████████████████████| 60.0/60.0 [00:16<00:00, 3.72 features/s]\n"
     ]
    },
    {
     "name": "stdout",
     "output_type": "stream",
     "text": [
      "Clean: number of features reduced from 149 to 126.\n"
     ]
    },
    {
     "name": "stderr",
     "output_type": "stream",
     "text": [
      "Selecting Features: 100%|████████████████████████████████████████████████████| 60.0/60.0 [00:16<00:00, 3.69 features/s]\n"
     ]
    },
    {
     "name": "stdout",
     "output_type": "stream",
     "text": [
      "Clean: number of features reduced from 149 to 126.\n"
     ]
    },
    {
     "name": "stderr",
     "output_type": "stream",
     "text": [
      "Selecting Features: 100%|████████████████████████████████████████████████████| 60.0/60.0 [00:16<00:00, 3.70 features/s]\n"
     ]
    },
    {
     "name": "stdout",
     "output_type": "stream",
     "text": [
      "Clean: number of features reduced from 149 to 126.\n"
     ]
    },
    {
     "name": "stderr",
     "output_type": "stream",
     "text": [
      "Selecting Features: 100%|████████████████████████████████████████████████████| 60.0/60.0 [00:16<00:00, 3.71 features/s]\n"
     ]
    },
    {
     "name": "stdout",
     "output_type": "stream",
     "text": [
      "Clean: number of features reduced from 149 to 126.\n"
     ]
    },
    {
     "name": "stderr",
     "output_type": "stream",
     "text": [
      "Selecting Features: 100%|████████████████████████████████████████████████████| 60.0/60.0 [00:16<00:00, 3.70 features/s]\n"
     ]
    },
    {
     "name": "stdout",
     "output_type": "stream",
     "text": [
      "Clean: number of features reduced from 149 to 124.\n"
     ]
    },
    {
     "name": "stderr",
     "output_type": "stream",
     "text": [
      "Selecting Features: 100%|████████████████████████████████████████████████████| 60.0/60.0 [00:15<00:00, 3.76 features/s]\n"
     ]
    },
    {
     "name": "stdout",
     "output_type": "stream",
     "text": [
      "Clean: number of features reduced from 149 to 126.\n"
     ]
    },
    {
     "name": "stderr",
     "output_type": "stream",
     "text": [
      "Selecting Features: 100%|████████████████████████████████████████████████████| 60.0/60.0 [00:16<00:00, 3.73 features/s]\n"
     ]
    },
    {
     "name": "stdout",
     "output_type": "stream",
     "text": [
      "Clean: number of features reduced from 149 to 124.\n"
     ]
    },
    {
     "name": "stderr",
     "output_type": "stream",
     "text": [
      "Selecting Features: 100%|████████████████████████████████████████████████████| 60.0/60.0 [00:15<00:00, 3.79 features/s]\n"
     ]
    },
    {
     "name": "stdout",
     "output_type": "stream",
     "text": [
      "Accuracy 10-fold CV: 0.7616261834350369 +- 0.06144312405586361\n",
      "Clean: number of features reduced from 149 to 149.\n"
     ]
    },
    {
     "name": "stderr",
     "output_type": "stream",
     "text": [
      "Selecting Features: 100%|████████████████████████████████████████████████████| 60.0/60.0 [00:19<00:00, 3.08 features/s]\n"
     ]
    },
    {
     "name": "stdout",
     "output_type": "stream",
     "text": [
      "Clean: number of features reduced from 149 to 149.\n"
     ]
    },
    {
     "name": "stderr",
     "output_type": "stream",
     "text": [
      "Selecting Features: 100%|████████████████████████████████████████████████████| 60.0/60.0 [00:19<00:00, 3.06 features/s]\n"
     ]
    },
    {
     "name": "stdout",
     "output_type": "stream",
     "text": [
      "Clean: number of features reduced from 149 to 149.\n"
     ]
    },
    {
     "name": "stderr",
     "output_type": "stream",
     "text": [
      "Selecting Features: 100%|████████████████████████████████████████████████████| 60.0/60.0 [00:19<00:00, 3.14 features/s]\n"
     ]
    },
    {
     "name": "stdout",
     "output_type": "stream",
     "text": [
      "Clean: number of features reduced from 149 to 149.\n"
     ]
    },
    {
     "name": "stderr",
     "output_type": "stream",
     "text": [
      "Selecting Features: 100%|████████████████████████████████████████████████████| 60.0/60.0 [00:19<00:00, 3.09 features/s]\n"
     ]
    },
    {
     "name": "stdout",
     "output_type": "stream",
     "text": [
      "Clean: number of features reduced from 149 to 149.\n"
     ]
    },
    {
     "name": "stderr",
     "output_type": "stream",
     "text": [
      "Selecting Features: 100%|████████████████████████████████████████████████████| 60.0/60.0 [00:20<00:00, 2.95 features/s]\n"
     ]
    },
    {
     "name": "stdout",
     "output_type": "stream",
     "text": [
      "Clean: number of features reduced from 149 to 149.\n"
     ]
    },
    {
     "name": "stderr",
     "output_type": "stream",
     "text": [
      "Selecting Features: 100%|████████████████████████████████████████████████████| 60.0/60.0 [00:19<00:00, 3.14 features/s]\n"
     ]
    },
    {
     "name": "stdout",
     "output_type": "stream",
     "text": [
      "Clean: number of features reduced from 149 to 149.\n"
     ]
    },
    {
     "name": "stderr",
     "output_type": "stream",
     "text": [
      "Selecting Features: 100%|████████████████████████████████████████████████████| 60.0/60.0 [00:19<00:00, 3.05 features/s]\n"
     ]
    },
    {
     "name": "stdout",
     "output_type": "stream",
     "text": [
      "Clean: number of features reduced from 149 to 149.\n"
     ]
    },
    {
     "name": "stderr",
     "output_type": "stream",
     "text": [
      "Selecting Features: 100%|████████████████████████████████████████████████████| 60.0/60.0 [00:19<00:00, 3.08 features/s]\n"
     ]
    },
    {
     "name": "stdout",
     "output_type": "stream",
     "text": [
      "Clean: number of features reduced from 149 to 149.\n"
     ]
    },
    {
     "name": "stderr",
     "output_type": "stream",
     "text": [
      "Selecting Features: 100%|████████████████████████████████████████████████████| 60.0/60.0 [00:19<00:00, 3.08 features/s]\n"
     ]
    },
    {
     "name": "stdout",
     "output_type": "stream",
     "text": [
      "Clean: number of features reduced from 149 to 149.\n"
     ]
    },
    {
     "name": "stderr",
     "output_type": "stream",
     "text": [
      "Selecting Features: 100%|████████████████████████████████████████████████████| 60.0/60.0 [00:19<00:00, 3.15 features/s]\n"
     ]
    },
    {
     "name": "stdout",
     "output_type": "stream",
     "text": [
      "Accuracy 10-fold CV: 0.5407881704969874 +- 0.06759986120558278\n",
      "Clean: number of features reduced from 149 to 149.\n"
     ]
    },
    {
     "name": "stderr",
     "output_type": "stream",
     "text": [
      "Selecting Features: 100%|████████████████████████████████████████████████████| 60.0/60.0 [00:20<00:00, 2.94 features/s]\n"
     ]
    },
    {
     "name": "stdout",
     "output_type": "stream",
     "text": [
      "Clean: number of features reduced from 149 to 149.\n"
     ]
    },
    {
     "name": "stderr",
     "output_type": "stream",
     "text": [
      "Selecting Features: 100%|████████████████████████████████████████████████████| 60.0/60.0 [00:20<00:00, 2.92 features/s]\n"
     ]
    },
    {
     "name": "stdout",
     "output_type": "stream",
     "text": [
      "Clean: number of features reduced from 149 to 149.\n"
     ]
    },
    {
     "name": "stderr",
     "output_type": "stream",
     "text": [
      "Selecting Features: 100%|████████████████████████████████████████████████████| 60.0/60.0 [00:20<00:00, 2.98 features/s]\n"
     ]
    },
    {
     "name": "stdout",
     "output_type": "stream",
     "text": [
      "Clean: number of features reduced from 149 to 149.\n"
     ]
    },
    {
     "name": "stderr",
     "output_type": "stream",
     "text": [
      "Selecting Features: 100%|████████████████████████████████████████████████████| 60.0/60.0 [00:20<00:00, 2.94 features/s]\n"
     ]
    },
    {
     "name": "stdout",
     "output_type": "stream",
     "text": [
      "Clean: number of features reduced from 149 to 149.\n"
     ]
    },
    {
     "name": "stderr",
     "output_type": "stream",
     "text": [
      "Selecting Features: 100%|████████████████████████████████████████████████████| 60.0/60.0 [00:20<00:00, 2.92 features/s]\n"
     ]
    },
    {
     "name": "stdout",
     "output_type": "stream",
     "text": [
      "Clean: number of features reduced from 149 to 149.\n"
     ]
    },
    {
     "name": "stderr",
     "output_type": "stream",
     "text": [
      "Selecting Features: 100%|████████████████████████████████████████████████████| 60.0/60.0 [00:20<00:00, 2.95 features/s]\n"
     ]
    },
    {
     "name": "stdout",
     "output_type": "stream",
     "text": [
      "Clean: number of features reduced from 149 to 149.\n"
     ]
    },
    {
     "name": "stderr",
     "output_type": "stream",
     "text": [
      "Selecting Features: 100%|████████████████████████████████████████████████████| 60.0/60.0 [00:20<00:00, 2.94 features/s]\n"
     ]
    },
    {
     "name": "stdout",
     "output_type": "stream",
     "text": [
      "Clean: number of features reduced from 149 to 149.\n"
     ]
    },
    {
     "name": "stderr",
     "output_type": "stream",
     "text": [
      "Selecting Features: 100%|████████████████████████████████████████████████████| 60.0/60.0 [00:24<00:00, 2.48 features/s]\n"
     ]
    },
    {
     "name": "stdout",
     "output_type": "stream",
     "text": [
      "Clean: number of features reduced from 149 to 149.\n"
     ]
    },
    {
     "name": "stderr",
     "output_type": "stream",
     "text": [
      "Selecting Features: 100%|████████████████████████████████████████████████████| 60.0/60.0 [00:21<00:00, 2.76 features/s]\n"
     ]
    },
    {
     "name": "stdout",
     "output_type": "stream",
     "text": [
      "Clean: number of features reduced from 149 to 149.\n"
     ]
    },
    {
     "name": "stderr",
     "output_type": "stream",
     "text": [
      "Selecting Features: 100%|████████████████████████████████████████████████████| 60.0/60.0 [00:23<00:00, 2.54 features/s]\n"
     ]
    },
    {
     "name": "stdout",
     "output_type": "stream",
     "text": [
      "Accuracy 10-fold CV: 0.7961227283418719 +- 0.06840567558223988\n"
     ]
    }
   ],
   "source": [
    "class_params = {'classifier': 'knn', 'k_neigh': 3}\n",
    "\n",
    "# Diseño de los clasificadores y resultados\n",
    "confmat_wheeze_mean, accuracy_wheeze_mean = \\\n",
    "        crossval_results(X_data_mean, Y_wheeze, \n",
    "                         experiment_type='ML', \n",
    "                         clean_params=clean_params, \n",
    "                         sel_params=sel_params, \n",
    "                         class_params=class_params)\n",
    "\n",
    "confmat_crackl_mean, accuracy_crackl_mean = \\\n",
    "        crossval_results(X_data_mean, Y_crackl, \n",
    "                         experiment_type='ML', \n",
    "                         clean_params=clean_params, \n",
    "                         sel_params=sel_params, \n",
    "                         class_params=class_params)\n",
    "\n",
    "confmat_wheeze_max, accuracy_wheeze_max = \\\n",
    "        crossval_results(X_data_max, Y_wheeze, \n",
    "                         experiment_type='ML', \n",
    "                         clean_params=clean_params, \n",
    "                         sel_params=sel_params, \n",
    "                         class_params=class_params)\n",
    "\n",
    "confmat_crackl_max, accuracy_crackl_max = \\\n",
    "        crossval_results(X_data_max, Y_crackl, \n",
    "                         experiment_type='ML', \n",
    "                         clean_params=clean_params, \n",
    "                         sel_params=sel_params, \n",
    "                         class_params=class_params)"
   ]
  },
  {
   "cell_type": "markdown",
   "metadata": {},
   "source": [
    "# SVM"
   ]
  },
  {
   "cell_type": "code",
   "execution_count": 91,
   "metadata": {
    "ExecuteTime": {
     "end_time": "2021-04-18T10:22:07.931398Z",
     "start_time": "2021-04-18T10:08:35.246521Z"
    },
    "scrolled": true
   },
   "outputs": [
    {
     "name": "stdout",
     "output_type": "stream",
     "text": [
      "Clean: number of features reduced from 149 to 121.\n"
     ]
    },
    {
     "name": "stderr",
     "output_type": "stream",
     "text": [
      "Selecting Features: 100%|████████████████████████████████████████████████████| 60.0/60.0 [00:14<00:00, 4.27 features/s]\n"
     ]
    },
    {
     "name": "stdout",
     "output_type": "stream",
     "text": [
      "Clean: number of features reduced from 149 to 126.\n"
     ]
    },
    {
     "name": "stderr",
     "output_type": "stream",
     "text": [
      "Selecting Features: 100%|████████████████████████████████████████████████████| 60.0/60.0 [00:15<00:00, 3.92 features/s]\n"
     ]
    },
    {
     "name": "stdout",
     "output_type": "stream",
     "text": [
      "Clean: number of features reduced from 149 to 126.\n"
     ]
    },
    {
     "name": "stderr",
     "output_type": "stream",
     "text": [
      "Selecting Features: 100%|████████████████████████████████████████████████████| 60.0/60.0 [00:16<00:00, 3.72 features/s]\n"
     ]
    },
    {
     "name": "stdout",
     "output_type": "stream",
     "text": [
      "Clean: number of features reduced from 149 to 126.\n"
     ]
    },
    {
     "name": "stderr",
     "output_type": "stream",
     "text": [
      "Selecting Features: 100%|████████████████████████████████████████████████████| 60.0/60.0 [00:16<00:00, 3.65 features/s]\n"
     ]
    },
    {
     "name": "stdout",
     "output_type": "stream",
     "text": [
      "Clean: number of features reduced from 149 to 126.\n"
     ]
    },
    {
     "name": "stderr",
     "output_type": "stream",
     "text": [
      "Selecting Features: 100%|████████████████████████████████████████████████████| 60.0/60.0 [00:15<00:00, 3.77 features/s]\n"
     ]
    },
    {
     "name": "stdout",
     "output_type": "stream",
     "text": [
      "Clean: number of features reduced from 149 to 126.\n"
     ]
    },
    {
     "name": "stderr",
     "output_type": "stream",
     "text": [
      "Selecting Features: 100%|████████████████████████████████████████████████████| 60.0/60.0 [00:16<00:00, 3.69 features/s]\n"
     ]
    },
    {
     "name": "stdout",
     "output_type": "stream",
     "text": [
      "Clean: number of features reduced from 149 to 126.\n"
     ]
    },
    {
     "name": "stderr",
     "output_type": "stream",
     "text": [
      "Selecting Features: 100%|████████████████████████████████████████████████████| 60.0/60.0 [00:15<00:00, 3.80 features/s]\n"
     ]
    },
    {
     "name": "stdout",
     "output_type": "stream",
     "text": [
      "Clean: number of features reduced from 149 to 124.\n"
     ]
    },
    {
     "name": "stderr",
     "output_type": "stream",
     "text": [
      "Selecting Features: 100%|████████████████████████████████████████████████████| 60.0/60.0 [00:15<00:00, 3.93 features/s]\n"
     ]
    },
    {
     "name": "stdout",
     "output_type": "stream",
     "text": [
      "Clean: number of features reduced from 149 to 126.\n"
     ]
    },
    {
     "name": "stderr",
     "output_type": "stream",
     "text": [
      "Selecting Features: 100%|████████████████████████████████████████████████████| 60.0/60.0 [00:16<00:00, 3.68 features/s]\n"
     ]
    },
    {
     "name": "stdout",
     "output_type": "stream",
     "text": [
      "Clean: number of features reduced from 149 to 124.\n"
     ]
    },
    {
     "name": "stderr",
     "output_type": "stream",
     "text": [
      "Selecting Features: 100%|████████████████████████████████████████████████████| 60.0/60.0 [00:15<00:00, 3.87 features/s]\n"
     ]
    },
    {
     "name": "stdout",
     "output_type": "stream",
     "text": [
      "Accuracy 10-fold CV: 0.5660187439489475 +- 0.1290230327118345\n",
      "Clean: number of features reduced from 149 to 121.\n"
     ]
    },
    {
     "name": "stderr",
     "output_type": "stream",
     "text": [
      "Selecting Features: 100%|████████████████████████████████████████████████████| 60.0/60.0 [00:16<00:00, 3.70 features/s]\n"
     ]
    },
    {
     "name": "stdout",
     "output_type": "stream",
     "text": [
      "Clean: number of features reduced from 149 to 126.\n"
     ]
    },
    {
     "name": "stderr",
     "output_type": "stream",
     "text": [
      "Selecting Features: 100%|████████████████████████████████████████████████████| 60.0/60.0 [00:17<00:00, 3.43 features/s]\n"
     ]
    },
    {
     "name": "stdout",
     "output_type": "stream",
     "text": [
      "Clean: number of features reduced from 149 to 126.\n"
     ]
    },
    {
     "name": "stderr",
     "output_type": "stream",
     "text": [
      "Selecting Features: 100%|████████████████████████████████████████████████████| 60.0/60.0 [00:17<00:00, 3.42 features/s]\n"
     ]
    },
    {
     "name": "stdout",
     "output_type": "stream",
     "text": [
      "Clean: number of features reduced from 149 to 126.\n"
     ]
    },
    {
     "name": "stderr",
     "output_type": "stream",
     "text": [
      "Selecting Features: 100%|████████████████████████████████████████████████████| 60.0/60.0 [00:17<00:00, 3.47 features/s]\n"
     ]
    },
    {
     "name": "stdout",
     "output_type": "stream",
     "text": [
      "Clean: number of features reduced from 149 to 126.\n"
     ]
    },
    {
     "name": "stderr",
     "output_type": "stream",
     "text": [
      "Selecting Features: 100%|████████████████████████████████████████████████████| 60.0/60.0 [00:17<00:00, 3.43 features/s]\n"
     ]
    },
    {
     "name": "stdout",
     "output_type": "stream",
     "text": [
      "Clean: number of features reduced from 149 to 126.\n"
     ]
    },
    {
     "name": "stderr",
     "output_type": "stream",
     "text": [
      "Selecting Features: 100%|████████████████████████████████████████████████████| 60.0/60.0 [00:18<00:00, 3.17 features/s]\n"
     ]
    },
    {
     "name": "stdout",
     "output_type": "stream",
     "text": [
      "Clean: number of features reduced from 149 to 126.\n"
     ]
    },
    {
     "name": "stderr",
     "output_type": "stream",
     "text": [
      "Selecting Features: 100%|████████████████████████████████████████████████████| 60.0/60.0 [00:18<00:00, 3.28 features/s]\n"
     ]
    },
    {
     "name": "stdout",
     "output_type": "stream",
     "text": [
      "Clean: number of features reduced from 149 to 124.\n"
     ]
    },
    {
     "name": "stderr",
     "output_type": "stream",
     "text": [
      "Selecting Features: 100%|████████████████████████████████████████████████████| 60.0/60.0 [00:18<00:00, 3.32 features/s]\n"
     ]
    },
    {
     "name": "stdout",
     "output_type": "stream",
     "text": [
      "Clean: number of features reduced from 149 to 126.\n"
     ]
    },
    {
     "name": "stderr",
     "output_type": "stream",
     "text": [
      "Selecting Features: 100%|████████████████████████████████████████████████████| 60.0/60.0 [00:18<00:00, 3.24 features/s]\n"
     ]
    },
    {
     "name": "stdout",
     "output_type": "stream",
     "text": [
      "Clean: number of features reduced from 149 to 124.\n"
     ]
    },
    {
     "name": "stderr",
     "output_type": "stream",
     "text": [
      "Selecting Features: 100%|████████████████████████████████████████████████████| 60.0/60.0 [00:17<00:00, 3.39 features/s]\n"
     ]
    },
    {
     "name": "stdout",
     "output_type": "stream",
     "text": [
      "Accuracy 10-fold CV: 0.7971965833752551 +- 0.07703200750850601\n",
      "Clean: number of features reduced from 149 to 149.\n"
     ]
    },
    {
     "name": "stderr",
     "output_type": "stream",
     "text": [
      "Selecting Features: 100%|████████████████████████████████████████████████████| 60.0/60.0 [00:21<00:00, 2.73 features/s]\n"
     ]
    },
    {
     "name": "stdout",
     "output_type": "stream",
     "text": [
      "Clean: number of features reduced from 149 to 149.\n"
     ]
    },
    {
     "name": "stderr",
     "output_type": "stream",
     "text": [
      "Selecting Features: 100%|████████████████████████████████████████████████████| 60.0/60.0 [00:21<00:00, 2.74 features/s]\n"
     ]
    },
    {
     "name": "stdout",
     "output_type": "stream",
     "text": [
      "Clean: number of features reduced from 149 to 149.\n"
     ]
    },
    {
     "name": "stderr",
     "output_type": "stream",
     "text": [
      "Selecting Features: 100%|████████████████████████████████████████████████████| 60.0/60.0 [00:21<00:00, 2.86 features/s]\n"
     ]
    },
    {
     "name": "stdout",
     "output_type": "stream",
     "text": [
      "Clean: number of features reduced from 149 to 149.\n"
     ]
    },
    {
     "name": "stderr",
     "output_type": "stream",
     "text": [
      "Selecting Features: 100%|████████████████████████████████████████████████████| 60.0/60.0 [00:20<00:00, 2.93 features/s]\n"
     ]
    },
    {
     "name": "stdout",
     "output_type": "stream",
     "text": [
      "Clean: number of features reduced from 149 to 149.\n"
     ]
    },
    {
     "name": "stderr",
     "output_type": "stream",
     "text": [
      "Selecting Features: 100%|████████████████████████████████████████████████████| 60.0/60.0 [00:22<00:00, 2.65 features/s]\n"
     ]
    },
    {
     "name": "stdout",
     "output_type": "stream",
     "text": [
      "Clean: number of features reduced from 149 to 149.\n"
     ]
    },
    {
     "name": "stderr",
     "output_type": "stream",
     "text": [
      "Selecting Features: 100%|████████████████████████████████████████████████████| 60.0/60.0 [00:22<00:00, 2.72 features/s]\n"
     ]
    },
    {
     "name": "stdout",
     "output_type": "stream",
     "text": [
      "Clean: number of features reduced from 149 to 149.\n"
     ]
    },
    {
     "name": "stderr",
     "output_type": "stream",
     "text": [
      "Selecting Features: 100%|████████████████████████████████████████████████████| 60.0/60.0 [00:20<00:00, 2.89 features/s]\n"
     ]
    },
    {
     "name": "stdout",
     "output_type": "stream",
     "text": [
      "Clean: number of features reduced from 149 to 149.\n"
     ]
    },
    {
     "name": "stderr",
     "output_type": "stream",
     "text": [
      "Selecting Features: 100%|████████████████████████████████████████████████████| 60.0/60.0 [00:20<00:00, 2.92 features/s]\n"
     ]
    },
    {
     "name": "stdout",
     "output_type": "stream",
     "text": [
      "Clean: number of features reduced from 149 to 149.\n"
     ]
    },
    {
     "name": "stderr",
     "output_type": "stream",
     "text": [
      "Selecting Features: 100%|████████████████████████████████████████████████████| 60.0/60.0 [00:21<00:00, 2.82 features/s]\n"
     ]
    },
    {
     "name": "stdout",
     "output_type": "stream",
     "text": [
      "Clean: number of features reduced from 149 to 149.\n"
     ]
    },
    {
     "name": "stderr",
     "output_type": "stream",
     "text": [
      "Selecting Features: 100%|████████████████████████████████████████████████████| 60.0/60.0 [00:20<00:00, 2.86 features/s]\n"
     ]
    },
    {
     "name": "stdout",
     "output_type": "stream",
     "text": [
      "Accuracy 10-fold CV: 0.5643193513719288 +- 0.13877708534888913\n",
      "Clean: number of features reduced from 149 to 149.\n"
     ]
    },
    {
     "name": "stderr",
     "output_type": "stream",
     "text": [
      "Selecting Features: 100%|████████████████████████████████████████████████████| 60.0/60.0 [00:21<00:00, 2.85 features/s]\n"
     ]
    },
    {
     "name": "stdout",
     "output_type": "stream",
     "text": [
      "Clean: number of features reduced from 149 to 149.\n"
     ]
    },
    {
     "name": "stderr",
     "output_type": "stream",
     "text": [
      "Selecting Features: 100%|████████████████████████████████████████████████████| 60.0/60.0 [00:22<00:00, 2.68 features/s]\n"
     ]
    },
    {
     "name": "stdout",
     "output_type": "stream",
     "text": [
      "Clean: number of features reduced from 149 to 149.\n"
     ]
    },
    {
     "name": "stderr",
     "output_type": "stream",
     "text": [
      "Selecting Features: 100%|████████████████████████████████████████████████████| 60.0/60.0 [00:21<00:00, 2.84 features/s]\n"
     ]
    },
    {
     "name": "stdout",
     "output_type": "stream",
     "text": [
      "Clean: number of features reduced from 149 to 149.\n"
     ]
    },
    {
     "name": "stderr",
     "output_type": "stream",
     "text": [
      "Selecting Features: 100%|████████████████████████████████████████████████████| 60.0/60.0 [00:24<00:00, 2.43 features/s]\n"
     ]
    },
    {
     "name": "stdout",
     "output_type": "stream",
     "text": [
      "Clean: number of features reduced from 149 to 149.\n"
     ]
    },
    {
     "name": "stderr",
     "output_type": "stream",
     "text": [
      "Selecting Features: 100%|████████████████████████████████████████████████████| 60.0/60.0 [00:23<00:00, 2.61 features/s]\n"
     ]
    },
    {
     "name": "stdout",
     "output_type": "stream",
     "text": [
      "Clean: number of features reduced from 149 to 149.\n"
     ]
    },
    {
     "name": "stderr",
     "output_type": "stream",
     "text": [
      "Selecting Features: 100%|████████████████████████████████████████████████████| 60.0/60.0 [00:27<00:00, 2.19 features/s]\n"
     ]
    },
    {
     "name": "stdout",
     "output_type": "stream",
     "text": [
      "Clean: number of features reduced from 149 to 149.\n"
     ]
    },
    {
     "name": "stderr",
     "output_type": "stream",
     "text": [
      "Selecting Features: 100%|████████████████████████████████████████████████████| 60.0/60.0 [00:24<00:00, 2.49 features/s]\n"
     ]
    },
    {
     "name": "stdout",
     "output_type": "stream",
     "text": [
      "Clean: number of features reduced from 149 to 149.\n"
     ]
    },
    {
     "name": "stderr",
     "output_type": "stream",
     "text": [
      "Selecting Features: 100%|████████████████████████████████████████████████████| 60.0/60.0 [00:23<00:00, 2.57 features/s]\n"
     ]
    },
    {
     "name": "stdout",
     "output_type": "stream",
     "text": [
      "Clean: number of features reduced from 149 to 149.\n"
     ]
    },
    {
     "name": "stderr",
     "output_type": "stream",
     "text": [
      "Selecting Features: 100%|████████████████████████████████████████████████████| 60.0/60.0 [00:22<00:00, 2.62 features/s]\n"
     ]
    },
    {
     "name": "stdout",
     "output_type": "stream",
     "text": [
      "Clean: number of features reduced from 149 to 149.\n"
     ]
    },
    {
     "name": "stderr",
     "output_type": "stream",
     "text": [
      "Selecting Features: 100%|████████████████████████████████████████████████████| 60.0/60.0 [00:21<00:00, 2.74 features/s]\n"
     ]
    },
    {
     "name": "stdout",
     "output_type": "stream",
     "text": [
      "Accuracy 10-fold CV: 0.8138678363810097 +- 0.07293877920007519\n"
     ]
    }
   ],
   "source": [
    "class_params = {'classifier': 'svm', 'kernel': 'poly'}\n",
    "\n",
    "# Diseño de los clasificadores y resultados\n",
    "confmat_wheeze_mean, accuracy_wheeze_mean = \\\n",
    "        crossval_results(X_data_mean, Y_wheeze, \n",
    "                         experiment_type='ML', \n",
    "                         clean_params=clean_params, \n",
    "                         sel_params=sel_params, \n",
    "                         class_params=class_params)\n",
    "\n",
    "confmat_crackl_mean, accuracy_crackl_mean = \\\n",
    "        crossval_results(X_data_mean, Y_crackl, \n",
    "                         experiment_type='ML', \n",
    "                         clean_params=clean_params, \n",
    "                         sel_params=sel_params, \n",
    "                         class_params=class_params)\n",
    "\n",
    "confmat_wheeze_max, accuracy_wheeze_max = \\\n",
    "        crossval_results(X_data_max, Y_wheeze, \n",
    "                         experiment_type='ML', \n",
    "                         clean_params=clean_params, \n",
    "                         sel_params=sel_params, \n",
    "                         class_params=class_params)\n",
    "\n",
    "confmat_crackl_max, accuracy_crackl_max = \\\n",
    "        crossval_results(X_data_max, Y_crackl, \n",
    "                         experiment_type='ML', \n",
    "                         clean_params=clean_params, \n",
    "                         sel_params=sel_params, \n",
    "                         class_params=class_params)"
   ]
  },
  {
   "cell_type": "markdown",
   "metadata": {},
   "source": [
    "# Redes Neuronales MLP"
   ]
  },
  {
   "cell_type": "code",
   "execution_count": 97,
   "metadata": {
    "ExecuteTime": {
     "end_time": "2021-04-18T11:10:21.039483Z",
     "start_time": "2021-04-18T10:39:53.344360Z"
    },
    "code_folding": [
     0
    ],
    "scrolled": false
   },
   "outputs": [
    {
     "name": "stdout",
     "output_type": "stream",
     "text": [
      "Clean: number of features reduced from 149 to 121.\n"
     ]
    },
    {
     "name": "stderr",
     "output_type": "stream",
     "text": [
      "Selecting Features: 100%|████████████████████████████████████████████████████| 60.0/60.0 [00:15<00:00, 4.00 features/s]\n"
     ]
    },
    {
     "name": "stdout",
     "output_type": "stream",
     "text": [
      "Clean: number of features reduced from 149 to 126.\n"
     ]
    },
    {
     "name": "stderr",
     "output_type": "stream",
     "text": [
      "Selecting Features: 100%|████████████████████████████████████████████████████| 60.0/60.0 [00:16<00:00, 3.72 features/s]\n"
     ]
    },
    {
     "name": "stdout",
     "output_type": "stream",
     "text": [
      "Clean: number of features reduced from 149 to 126.\n"
     ]
    },
    {
     "name": "stderr",
     "output_type": "stream",
     "text": [
      "Selecting Features: 100%|████████████████████████████████████████████████████| 60.0/60.0 [00:17<00:00, 3.53 features/s]\n"
     ]
    },
    {
     "name": "stdout",
     "output_type": "stream",
     "text": [
      "Clean: number of features reduced from 149 to 126.\n"
     ]
    },
    {
     "name": "stderr",
     "output_type": "stream",
     "text": [
      "Selecting Features: 100%|████████████████████████████████████████████████████| 60.0/60.0 [00:19<00:00, 3.07 features/s]\n"
     ]
    },
    {
     "name": "stdout",
     "output_type": "stream",
     "text": [
      "Clean: number of features reduced from 149 to 126.\n"
     ]
    },
    {
     "name": "stderr",
     "output_type": "stream",
     "text": [
      "Selecting Features: 100%|████████████████████████████████████████████████████| 60.0/60.0 [00:17<00:00, 3.37 features/s]\n"
     ]
    },
    {
     "name": "stdout",
     "output_type": "stream",
     "text": [
      "Clean: number of features reduced from 149 to 126.\n"
     ]
    },
    {
     "name": "stderr",
     "output_type": "stream",
     "text": [
      "Selecting Features: 100%|████████████████████████████████████████████████████| 60.0/60.0 [00:15<00:00, 3.77 features/s]\n"
     ]
    },
    {
     "name": "stdout",
     "output_type": "stream",
     "text": [
      "Clean: number of features reduced from 149 to 126.\n"
     ]
    },
    {
     "name": "stderr",
     "output_type": "stream",
     "text": [
      "Selecting Features: 100%|████████████████████████████████████████████████████| 60.0/60.0 [00:16<00:00, 3.69 features/s]\n"
     ]
    },
    {
     "name": "stdout",
     "output_type": "stream",
     "text": [
      "Clean: number of features reduced from 149 to 124.\n"
     ]
    },
    {
     "name": "stderr",
     "output_type": "stream",
     "text": [
      "Selecting Features: 100%|████████████████████████████████████████████████████| 60.0/60.0 [00:16<00:00, 3.71 features/s]\n"
     ]
    },
    {
     "name": "stdout",
     "output_type": "stream",
     "text": [
      "Clean: number of features reduced from 149 to 126.\n"
     ]
    },
    {
     "name": "stderr",
     "output_type": "stream",
     "text": [
      "Selecting Features: 100%|████████████████████████████████████████████████████| 60.0/60.0 [00:16<00:00, 3.65 features/s]\n"
     ]
    },
    {
     "name": "stdout",
     "output_type": "stream",
     "text": [
      "Clean: number of features reduced from 149 to 124.\n"
     ]
    },
    {
     "name": "stderr",
     "output_type": "stream",
     "text": [
      "Selecting Features: 100%|████████████████████████████████████████████████████| 60.0/60.0 [00:17<00:00, 3.51 features/s]\n"
     ]
    },
    {
     "name": "stdout",
     "output_type": "stream",
     "text": [
      "Accuracy 10-fold CV: 0.5547237580848834 +- 0.08159031973013899\n",
      "Clean: number of features reduced from 149 to 121.\n"
     ]
    },
    {
     "name": "stderr",
     "output_type": "stream",
     "text": [
      "Selecting Features: 100%|████████████████████████████████████████████████████| 60.0/60.0 [00:16<00:00, 3.66 features/s]\n"
     ]
    },
    {
     "name": "stdout",
     "output_type": "stream",
     "text": [
      "Clean: number of features reduced from 149 to 126.\n"
     ]
    },
    {
     "name": "stderr",
     "output_type": "stream",
     "text": [
      "Selecting Features: 100%|████████████████████████████████████████████████████| 60.0/60.0 [00:17<00:00, 3.36 features/s]\n"
     ]
    },
    {
     "name": "stdout",
     "output_type": "stream",
     "text": [
      "Clean: number of features reduced from 149 to 126.\n"
     ]
    },
    {
     "name": "stderr",
     "output_type": "stream",
     "text": [
      "Selecting Features: 100%|████████████████████████████████████████████████████| 60.0/60.0 [00:18<00:00, 3.30 features/s]\n"
     ]
    },
    {
     "name": "stdout",
     "output_type": "stream",
     "text": [
      "Clean: number of features reduced from 149 to 126.\n"
     ]
    },
    {
     "name": "stderr",
     "output_type": "stream",
     "text": [
      "Selecting Features: 100%|████████████████████████████████████████████████████| 60.0/60.0 [00:19<00:00, 3.10 features/s]\n"
     ]
    },
    {
     "name": "stdout",
     "output_type": "stream",
     "text": [
      "Clean: number of features reduced from 149 to 126.\n"
     ]
    },
    {
     "name": "stderr",
     "output_type": "stream",
     "text": [
      "Selecting Features: 100%|████████████████████████████████████████████████████| 60.0/60.0 [00:17<00:00, 3.43 features/s]\n"
     ]
    },
    {
     "name": "stdout",
     "output_type": "stream",
     "text": [
      "Clean: number of features reduced from 149 to 126.\n"
     ]
    },
    {
     "name": "stderr",
     "output_type": "stream",
     "text": [
      "Selecting Features: 100%|████████████████████████████████████████████████████| 60.0/60.0 [00:17<00:00, 3.43 features/s]\n"
     ]
    },
    {
     "name": "stdout",
     "output_type": "stream",
     "text": [
      "Clean: number of features reduced from 149 to 126.\n"
     ]
    },
    {
     "name": "stderr",
     "output_type": "stream",
     "text": [
      "Selecting Features: 100%|████████████████████████████████████████████████████| 60.0/60.0 [00:18<00:00, 3.27 features/s]\n"
     ]
    },
    {
     "name": "stdout",
     "output_type": "stream",
     "text": [
      "Clean: number of features reduced from 149 to 124.\n"
     ]
    },
    {
     "name": "stderr",
     "output_type": "stream",
     "text": [
      "Selecting Features: 100%|████████████████████████████████████████████████████| 60.0/60.0 [00:18<00:00, 3.23 features/s]\n"
     ]
    },
    {
     "name": "stdout",
     "output_type": "stream",
     "text": [
      "Clean: number of features reduced from 149 to 126.\n"
     ]
    },
    {
     "name": "stderr",
     "output_type": "stream",
     "text": [
      "Selecting Features: 100%|████████████████████████████████████████████████████| 60.0/60.0 [00:17<00:00, 3.41 features/s]\n"
     ]
    },
    {
     "name": "stdout",
     "output_type": "stream",
     "text": [
      "Clean: number of features reduced from 149 to 124.\n"
     ]
    },
    {
     "name": "stderr",
     "output_type": "stream",
     "text": [
      "Selecting Features: 100%|████████████████████████████████████████████████████| 60.0/60.0 [00:17<00:00, 3.47 features/s]\n"
     ]
    },
    {
     "name": "stdout",
     "output_type": "stream",
     "text": [
      "Accuracy 10-fold CV: 0.7507860071542727 +- 0.07070154593320024\n",
      "Clean: number of features reduced from 149 to 149.\n"
     ]
    },
    {
     "name": "stderr",
     "output_type": "stream",
     "text": [
      "Selecting Features: 100%|████████████████████████████████████████████████████| 60.0/60.0 [00:21<00:00, 2.81 features/s]\n"
     ]
    },
    {
     "name": "stdout",
     "output_type": "stream",
     "text": [
      "Clean: number of features reduced from 149 to 149.\n"
     ]
    },
    {
     "name": "stderr",
     "output_type": "stream",
     "text": [
      "Selecting Features: 100%|████████████████████████████████████████████████████| 60.0/60.0 [00:21<00:00, 2.86 features/s]\n"
     ]
    },
    {
     "name": "stdout",
     "output_type": "stream",
     "text": [
      "Clean: number of features reduced from 149 to 149.\n"
     ]
    },
    {
     "name": "stderr",
     "output_type": "stream",
     "text": [
      "Selecting Features: 100%|████████████████████████████████████████████████████| 60.0/60.0 [00:22<00:00, 2.63 features/s]\n"
     ]
    },
    {
     "name": "stdout",
     "output_type": "stream",
     "text": [
      "Clean: number of features reduced from 149 to 149.\n"
     ]
    },
    {
     "name": "stderr",
     "output_type": "stream",
     "text": [
      "Selecting Features: 100%|████████████████████████████████████████████████████| 60.0/60.0 [00:21<00:00, 2.84 features/s]\n"
     ]
    },
    {
     "name": "stdout",
     "output_type": "stream",
     "text": [
      "Clean: number of features reduced from 149 to 149.\n"
     ]
    },
    {
     "name": "stderr",
     "output_type": "stream",
     "text": [
      "Selecting Features: 100%|████████████████████████████████████████████████████| 60.0/60.0 [00:20<00:00, 2.86 features/s]\n"
     ]
    },
    {
     "name": "stdout",
     "output_type": "stream",
     "text": [
      "Clean: number of features reduced from 149 to 149.\n"
     ]
    },
    {
     "name": "stderr",
     "output_type": "stream",
     "text": [
      "Selecting Features: 100%|████████████████████████████████████████████████████| 60.0/60.0 [00:21<00:00, 2.82 features/s]\n"
     ]
    },
    {
     "name": "stdout",
     "output_type": "stream",
     "text": [
      "Clean: number of features reduced from 149 to 149.\n"
     ]
    },
    {
     "name": "stderr",
     "output_type": "stream",
     "text": [
      "Selecting Features: 100%|████████████████████████████████████████████████████| 60.0/60.0 [00:21<00:00, 2.79 features/s]\n"
     ]
    },
    {
     "name": "stdout",
     "output_type": "stream",
     "text": [
      "Clean: number of features reduced from 149 to 149.\n"
     ]
    },
    {
     "name": "stderr",
     "output_type": "stream",
     "text": [
      "Selecting Features: 100%|████████████████████████████████████████████████████| 60.0/60.0 [00:21<00:00, 2.76 features/s]\n"
     ]
    },
    {
     "name": "stdout",
     "output_type": "stream",
     "text": [
      "Clean: number of features reduced from 149 to 149.\n"
     ]
    },
    {
     "name": "stderr",
     "output_type": "stream",
     "text": [
      "Selecting Features: 100%|████████████████████████████████████████████████████| 60.0/60.0 [00:21<00:00, 2.76 features/s]\n"
     ]
    },
    {
     "name": "stdout",
     "output_type": "stream",
     "text": [
      "Clean: number of features reduced from 149 to 149.\n"
     ]
    },
    {
     "name": "stderr",
     "output_type": "stream",
     "text": [
      "Selecting Features: 100%|████████████████████████████████████████████████████| 60.0/60.0 [00:21<00:00, 2.81 features/s]\n"
     ]
    },
    {
     "name": "stdout",
     "output_type": "stream",
     "text": [
      "Accuracy 10-fold CV: 0.5655197838280108 +- 0.07584921945477313\n",
      "Clean: number of features reduced from 149 to 149.\n"
     ]
    },
    {
     "name": "stderr",
     "output_type": "stream",
     "text": [
      "Selecting Features: 100%|████████████████████████████████████████████████████| 60.0/60.0 [00:22<00:00, 2.65 features/s]\n"
     ]
    },
    {
     "name": "stdout",
     "output_type": "stream",
     "text": [
      "Clean: number of features reduced from 149 to 149.\n"
     ]
    },
    {
     "name": "stderr",
     "output_type": "stream",
     "text": [
      "Selecting Features: 100%|████████████████████████████████████████████████████| 60.0/60.0 [00:22<00:00, 2.67 features/s]\n"
     ]
    },
    {
     "name": "stdout",
     "output_type": "stream",
     "text": [
      "Clean: number of features reduced from 149 to 149.\n"
     ]
    },
    {
     "name": "stderr",
     "output_type": "stream",
     "text": [
      "Selecting Features: 100%|████████████████████████████████████████████████████| 60.0/60.0 [00:22<00:00, 2.68 features/s]\n"
     ]
    },
    {
     "name": "stdout",
     "output_type": "stream",
     "text": [
      "Clean: number of features reduced from 149 to 149.\n"
     ]
    },
    {
     "name": "stderr",
     "output_type": "stream",
     "text": [
      "Selecting Features: 100%|████████████████████████████████████████████████████| 60.0/60.0 [00:23<00:00, 2.57 features/s]\n"
     ]
    },
    {
     "name": "stdout",
     "output_type": "stream",
     "text": [
      "Clean: number of features reduced from 149 to 149.\n"
     ]
    },
    {
     "name": "stderr",
     "output_type": "stream",
     "text": [
      "Selecting Features: 100%|████████████████████████████████████████████████████| 60.0/60.0 [00:23<00:00, 2.61 features/s]\n"
     ]
    },
    {
     "name": "stdout",
     "output_type": "stream",
     "text": [
      "Clean: number of features reduced from 149 to 149.\n"
     ]
    },
    {
     "name": "stderr",
     "output_type": "stream",
     "text": [
      "Selecting Features: 100%|████████████████████████████████████████████████████| 60.0/60.0 [00:22<00:00, 2.64 features/s]\n"
     ]
    },
    {
     "name": "stdout",
     "output_type": "stream",
     "text": [
      "Clean: number of features reduced from 149 to 149.\n"
     ]
    },
    {
     "name": "stderr",
     "output_type": "stream",
     "text": [
      "Selecting Features: 100%|████████████████████████████████████████████████████| 60.0/60.0 [00:22<00:00, 2.65 features/s]\n"
     ]
    },
    {
     "name": "stdout",
     "output_type": "stream",
     "text": [
      "Clean: number of features reduced from 149 to 149.\n"
     ]
    },
    {
     "name": "stderr",
     "output_type": "stream",
     "text": [
      "Selecting Features: 100%|████████████████████████████████████████████████████| 60.0/60.0 [00:22<00:00, 2.67 features/s]\n"
     ]
    },
    {
     "name": "stdout",
     "output_type": "stream",
     "text": [
      "Clean: number of features reduced from 149 to 149.\n"
     ]
    },
    {
     "name": "stderr",
     "output_type": "stream",
     "text": [
      "Selecting Features: 100%|████████████████████████████████████████████████████| 60.0/60.0 [00:22<00:00, 2.69 features/s]\n"
     ]
    },
    {
     "name": "stdout",
     "output_type": "stream",
     "text": [
      "Clean: number of features reduced from 149 to 149.\n"
     ]
    },
    {
     "name": "stderr",
     "output_type": "stream",
     "text": [
      "Selecting Features: 100%|████████████████████████████████████████████████████| 60.0/60.0 [00:23<00:00, 2.52 features/s]\n"
     ]
    },
    {
     "name": "stdout",
     "output_type": "stream",
     "text": [
      "Accuracy 10-fold CV: 0.7933760009183782 +- 0.055980745332417696\n"
     ]
    }
   ],
   "source": [
    "preprocessing = True\n",
    "mlp_params = {'optimizer': 'Adam', 'loss': 'binary_crossentropy',\n",
    "              'batch_size': None, 'epochs': 30, 'verbose': 0, \n",
    "              'metrics': ['accuracy', tf.keras.metrics.Recall(), \n",
    "                          tf.keras.metrics.Precision()],\n",
    "              'out_layer': 'sigmoid', 'preprocessing': True}\n",
    "\n",
    "# Diseño de los clasificadores y resultados\n",
    "confmat_wheeze_mean, accuracy_wheeze_mean = \\\n",
    "        crossval_results(X_data_mean, Y_wheeze, \n",
    "                         experiment_type='NN-MLP', \n",
    "                         clean_params=clean_params, \n",
    "                         sel_params=sel_params, \n",
    "                         mlp_params=mlp_params)\n",
    "\n",
    "confmat_crackl_mean, accuracy_crackl_mean = \\\n",
    "        crossval_results(X_data_mean, Y_crackl, \n",
    "                         experiment_type='NN-MLP', \n",
    "                         clean_params=clean_params, \n",
    "                         sel_params=sel_params, \n",
    "                         mlp_params=mlp_params)\n",
    "\n",
    "confmat_wheeze_max, accuracy_wheeze_max = \\\n",
    "        crossval_results(X_data_max, Y_wheeze, \n",
    "                         experiment_type='NN-MLP', \n",
    "                         clean_params=clean_params, \n",
    "                         sel_params=sel_params, \n",
    "                         mlp_params=mlp_params)\n",
    "\n",
    "confmat_crackl_max, accuracy_crackl_max = \\\n",
    "        crossval_results(X_data_max, Y_crackl, \n",
    "                         experiment_type='NN-MLP', \n",
    "                         clean_params=clean_params, \n",
    "                         sel_params=sel_params, \n",
    "                         mlp_params=mlp_params)"
   ]
  },
  {
   "cell_type": "markdown",
   "metadata": {},
   "source": [
    "# Redes neuronales CNN"
   ]
  },
  {
   "cell_type": "code",
   "execution_count": null,
   "metadata": {},
   "outputs": [],
   "source": []
  },
  {
   "cell_type": "code",
   "execution_count": 86,
   "metadata": {
    "ExecuteTime": {
     "end_time": "2021-04-18T09:52:42.894138Z",
     "start_time": "2021-04-18T09:52:42.888149Z"
    }
   },
   "outputs": [
    {
     "name": "stdout",
     "output_type": "stream",
     "text": [
      "[0 0 0 0 0 1 0 0 1 1 0 0 0 0 0 0 0 0 0 0 0 0 0 0 0 0 0 0 0 0 1 0 0 0 0 0 0\n",
      " 0 0 0 0 0 0 0 0 0 0 0 0 0 0 0 0 0 0 0 0 0 0 0 0 0 0 0 0 0 0 0 0 0 0 0 0 0\n",
      " 1 0 0 0 0 0 0 0 0 1 1 1 1 0 0 0 0 0 0 1 0 0 0 0 0 0 0 0 0 0 1 1 0 0 0 0 0\n",
      " 0 0 0 0 0 0 0 0 0 0 0 0 0 0 0 0 0 0 0 0 0 0 0 1 0 0 0 0 0 0 0 1 1 1 1 0 0\n",
      " 0 0 1 0 0 0 0 1 0 0 0 0 0 0 0 0 0 0 0 0 0 1 0 1 0 0 0 0 0 0 1 0 0 0 0 1 0\n",
      " 1 0 0 1 0 0 1 1 1 0 1 1 0 1 1 1 1 0 0 0 1 0 0 0 0 0 0 0 0 0 0 0 0 0 0 0 0\n",
      " 1 1 1 1 1 1 1 1 0 0 0 1 0 1 0 1 0 1 1 0 0 0 0 0 0 0 0 0 0 0 0 0 0 0 0 0 0\n",
      " 0 0 0 0 0 0 0 1 0 1 0 0 0 0 0 0 0 0 0 0 0 0 0 0 0 0 0 0 0 0 0 0 0 1 1 1 0\n",
      " 1 0 0 0 0 0 0 0 0 0 0 0 0 0 0 0 0 0 0 0 0 0 0 0 0 0 0 0 0 0 0 0 0 0 0 0 0\n",
      " 0 0 0 0 0 0 0 0 0 0 0 1 0 1 1 1 0 0 0 0 0 0 0 0 0 0 0 0 1 1 0 1 1 1 1 0 0\n",
      " 0 0 0 0 0 0 0 0 0 0 0 0 1 1 0 0 0 0 0 0 0 0 0 0 0 0 0 0 0 0 0 1 1 1 1 1 1\n",
      " 0 0 0 0 0 0 0 0 0 0 0 0 0 0 0 0 0 0 0 0 0 0 0 0 0 0 0 0 0 0 0 0 0 0 0 0 1\n",
      " 0 0 0 0 0 0 0 1 1 1 1 1 1 1 1 1 0 1 1 1 1 1 1 0 0 0 0 0 0 0 0 0 0 0 0 0 0\n",
      " 1 1 0 0 0 0 0 1 0 0 0 0 0 0 0 0 1 0 0 0 0 0 0 0 0 0 0 0 0 0 0 0 0 0 0 0 0\n",
      " 0 1 0 0 0 1 0 0 0 0 0 0 0 0 0 0 0 0 0 0 0 0 1 0 0 0 0 0 1 0 0 1 0 0 1 0 0\n",
      " 0 1 0 0 1 0 1 0 0 0 0 0 0 0 0 0 0 0 0 0 0 0 0 0 0 0 0 0 0 0 0 0 0 0 0 0 0\n",
      " 0 0 0 0 1 0 0 0 0 0 0 0 0 0 0 0 0 0 0 0 0 0 0 0 0 0 0 0 0 0 0 0 0 1 0 0 1\n",
      " 1 1 1 1 1 0 0 0 1 1 1 1 0 1 0 1 0 1 1 0 1 1 1 1 1 1 1 1 1 1 1 1 1 1 1 0 0\n",
      " 1 0 1 1 0 0 0 0 0 0 0 0 0 0 1 0 0 0 0 0 0 0 0 0 0 0 0 0 1 0 0 0 0 0 0 0 0\n",
      " 0 0 0 0 0 0 0 0 0 0 0 1 0 0 0 0 0 1 0 0 0 0 0 0 0 1 0 0 1 0 0 0 0 0 0 0 0\n",
      " 0 0 0 0 0 0 0 0 1 0 0 0 0 0 0 0 0 0 0 0 0 0 0 0 0 0 0 0 0 0 0 0 0 0 0 0 0\n",
      " 0 0 0 0 0 0 0 0 0 0 1 0 1 0 0 0 0 0 0 0 0 0 0 0 0 0 0 0 0 0 0 0 0 0 0 0 1\n",
      " 0 0 0 1 0 1 0 1 1 1 1 0 0 0 0 0 0 0 0 0 1 0 0 0 0 0 0 0 0 0 0 0 1 1 1 0 1\n",
      " 1 0 0 0 1 0 0 0 0 1 1 0 0 0 0 1 0 0 1 1 0 1 1 1 1 1 0 0 1 0 0 1 0 1 0 0 0\n",
      " 0 1 1 1 1 1 0 0 1 1 0 0 0 0 1 0 1 0 0 0 0 1 1 0 0 0 0 0 0 0 0 0 0 0 0 0 0\n",
      " 1 0 0 0 0 0 0 0 1 0 0 1 0 0 0 0 0 0 0 0 0 0 1 1 1 1 1 1 1 0 1 0 0 0 0 0 0\n",
      " 0 0 0 0 0]\n"
     ]
    }
   ],
   "source": [
    "print(np.where(ypred_crackl_mean < 0.5, 0, 1)[:, 0])"
   ]
  }
 ],
 "metadata": {
  "kernelspec": {
   "display_name": "Python 3",
   "language": "python",
   "name": "python3"
  },
  "language_info": {
   "codemirror_mode": {
    "name": "ipython",
    "version": 3
   },
   "file_extension": ".py",
   "mimetype": "text/x-python",
   "name": "python",
   "nbconvert_exporter": "python",
   "pygments_lexer": "ipython3",
   "version": "3.7.4"
  },
  "varInspector": {
   "cols": {
    "lenName": 16,
    "lenType": 16,
    "lenVar": 40
   },
   "kernels_config": {
    "python": {
     "delete_cmd_postfix": "",
     "delete_cmd_prefix": "del ",
     "library": "var_list.py",
     "varRefreshCmd": "print(var_dic_list())"
    },
    "r": {
     "delete_cmd_postfix": ") ",
     "delete_cmd_prefix": "rm(",
     "library": "var_list.r",
     "varRefreshCmd": "cat(var_dic_list()) "
    }
   },
   "position": {
    "height": "494px",
    "left": "1299px",
    "right": "20px",
    "top": "125px",
    "width": "550px"
   },
   "types_to_exclude": [
    "module",
    "function",
    "builtin_function_or_method",
    "instance",
    "_Feature"
   ],
   "window_display": false
  }
 },
 "nbformat": 4,
 "nbformat_minor": 2
}
