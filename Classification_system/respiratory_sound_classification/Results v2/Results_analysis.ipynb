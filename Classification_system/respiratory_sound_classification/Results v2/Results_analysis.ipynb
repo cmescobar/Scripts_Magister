{
 "cells": [
  {
   "cell_type": "code",
   "execution_count": 1,
   "metadata": {
    "ExecuteTime": {
     "end_time": "2021-05-22T23:49:34.485127Z",
     "start_time": "2021-05-22T23:49:34.473073Z"
    }
   },
   "outputs": [],
   "source": [
    "from ast import literal_eval"
   ]
  },
  {
   "cell_type": "code",
   "execution_count": 16,
   "metadata": {
    "ExecuteTime": {
     "end_time": "2021-05-24T14:46:49.438721Z",
     "start_time": "2021-05-24T14:46:49.397744Z"
    }
   },
   "outputs": [
    {
     "name": "stdout",
     "output_type": "stream",
     "text": [
      "mlp_True_wheeze_unpreprocessed_results.txt\n",
      "Accuracy: 0.9365 +- 0.0249\n",
      "Precision: 0.4474 +- 0.1822\n",
      "Recall: 0.1693 +- 0.0194\n",
      "\n",
      "mlp_True_crackle_unpreprocessed_results.txt\n",
      "Accuracy: 0.9375 +- 0.0262\n",
      "Precision: 0.4873 +- 0.1984\n",
      "Recall: 0.1656 +- 0.04\n",
      "\n",
      "knn_3_crackle_unpreprocessed_results.txt\n",
      "Accuracy: 0.9274 +- 0.0264\n",
      "Precision: 0.2438 +- 0.1413\n",
      "Recall: 0.0852 +- 0.0058\n",
      "\n",
      "knn_5_crackle_unpreprocessed_results.txt\n",
      "Accuracy: 0.9329 +- 0.0275\n",
      "Precision: 0.3005 +- 0.1668\n",
      "Recall: 0.0679 +- 0.0051\n",
      "\n",
      "knn_3_wheeze_unpreprocessed_results.txt\n",
      "Accuracy: 0.9274 +- 0.0264\n",
      "Precision: 0.2438 +- 0.1413\n",
      "Recall: 0.0852 +- 0.0058\n",
      "\n",
      "knn_5_wheeze_unpreprocessed_results.txt\n",
      "Accuracy: 0.9329 +- 0.0275\n",
      "Precision: 0.3005 +- 0.1668\n",
      "Recall: 0.0679 +- 0.0051\n",
      "\n",
      "svm_poly_crackle_unpreprocessed_results.txt\n",
      "Accuracy: 0.9375 +- 0.0262\n",
      "Precision: 0.4893 +- 0.2035\n",
      "Recall: 0.1439 +- 0.0266\n",
      "\n"
     ]
    }
   ],
   "source": [
    "filenames = ['mlp_True_wheeze_unpreprocessed_results.txt', \n",
    "             'mlp_True_crackle_unpreprocessed_results.txt',\n",
    "             'knn_3_crackle_unpreprocessed_results.txt',\n",
    "             'knn_5_crackle_unpreprocessed_results.txt',\n",
    "             'knn_3_wheeze_unpreprocessed_results.txt',\n",
    "             'knn_5_wheeze_unpreprocessed_results.txt',\n",
    "             'svm_poly_crackle_unpreprocessed_results.txt']\n",
    "\n",
    "for filename in filenames: \n",
    "    with open(filename, 'r', encoding='utf8') as file:\n",
    "        confmat = np.array(literal_eval(file.readline()))\n",
    "\n",
    "    acc_list = list()\n",
    "    pre_list = list()\n",
    "    rec_list = list()\n",
    "\n",
    "    # Calculando las métricas\n",
    "    for conf_i in confmat:\n",
    "        # Obtener los elementos de cada componente\n",
    "        tp = conf_i[1][1]\n",
    "        tn = conf_i[0][0]\n",
    "        fp = conf_i[0][1]\n",
    "        fn = conf_i[1][0]\n",
    "\n",
    "        # Calculando los valores de interés\n",
    "        accuracy  = (tp + tn) / (tp + tn + fp + fn)\n",
    "        precision = tp / (tp + fp)\n",
    "        recall    = tp / (tp + fn)\n",
    "\n",
    "        acc_list.append(accuracy)\n",
    "        pre_list.append(precision)\n",
    "        rec_list.append(recall)\n",
    "\n",
    "    print(filename)\n",
    "    print(f'Accuracy: {round(np.mean(acc_list), 4)} +- {round(np.std(acc_list), 4)}')\n",
    "    print(f'Precision: {round(np.mean(pre_list), 4)} +- {round(np.std(pre_list), 4)}')\n",
    "    print(f'Recall: {round(np.mean(rec_list), 4)} +- {round(np.std(rec_list), 4)}')\n",
    "    print()"
   ]
  },
  {
   "cell_type": "code",
   "execution_count": null,
   "metadata": {},
   "outputs": [],
   "source": []
  }
 ],
 "metadata": {
  "kernelspec": {
   "display_name": "Python 3.7.4 64-bit",
   "language": "python",
   "name": "python37464bitab4ed06c875e4946b81a767f6fb6a233"
  },
  "language_info": {
   "codemirror_mode": {
    "name": "ipython",
    "version": 3
   },
   "file_extension": ".py",
   "mimetype": "text/x-python",
   "name": "python",
   "nbconvert_exporter": "python",
   "pygments_lexer": "ipython3",
   "version": "3.7.4"
  },
  "varInspector": {
   "cols": {
    "lenName": 16,
    "lenType": 16,
    "lenVar": 40
   },
   "kernels_config": {
    "python": {
     "delete_cmd_postfix": "",
     "delete_cmd_prefix": "del ",
     "library": "var_list.py",
     "varRefreshCmd": "print(var_dic_list())"
    },
    "r": {
     "delete_cmd_postfix": ") ",
     "delete_cmd_prefix": "rm(",
     "library": "var_list.r",
     "varRefreshCmd": "cat(var_dic_list()) "
    }
   },
   "types_to_exclude": [
    "module",
    "function",
    "builtin_function_or_method",
    "instance",
    "_Feature"
   ],
   "window_display": false
  }
 },
 "nbformat": 4,
 "nbformat_minor": 2
}
