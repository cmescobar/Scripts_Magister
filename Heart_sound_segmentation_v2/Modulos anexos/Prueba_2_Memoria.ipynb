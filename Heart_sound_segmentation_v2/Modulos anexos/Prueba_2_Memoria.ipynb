{
 "cells": [
  {
   "cell_type": "code",
   "execution_count": 6,
   "metadata": {
    "ExecuteTime": {
     "end_time": "2020-12-17T22:25:38.344970Z",
     "start_time": "2020-12-17T22:25:37.841782Z"
    }
   },
   "outputs": [
    {
     "name": "stdout",
     "output_type": "stream",
     "text": [
      "65724416\n",
      "144924672\n",
      "64897024\n"
     ]
    }
   ],
   "source": [
    "import os\n",
    "import gc\n",
    "import psutil\n",
    "\n",
    "proc = psutil.Process(os.getpid())\n",
    "gc.collect()\n",
    "mem0 = proc.memory_info().rss\n",
    "print(mem0)\n",
    "\n",
    "# create approx. 10**7 int objects and pointers\n",
    "foo = ['abc' for x in range(10**7)]\n",
    "mem1 = proc.memory_info().rss\n",
    "print(mem1)\n",
    "\n",
    "# unreference, including x == 9999999\n",
    "del foo\n",
    "mem2 = proc.memory_info().rss\n",
    "print(mem2)"
   ]
  }
 ],
 "metadata": {
  "kernelspec": {
   "display_name": "Python 3.7.4 64-bit",
   "language": "python",
   "name": "python37464bitab4ed06c875e4946b81a767f6fb6a233"
  },
  "language_info": {
   "codemirror_mode": {
    "name": "ipython",
    "version": 3
   },
   "file_extension": ".py",
   "mimetype": "text/x-python",
   "name": "python",
   "nbconvert_exporter": "python",
   "pygments_lexer": "ipython3",
   "version": "3.7.4"
  },
  "varInspector": {
   "cols": {
    "lenName": 16,
    "lenType": 16,
    "lenVar": 40
   },
   "kernels_config": {
    "python": {
     "delete_cmd_postfix": "",
     "delete_cmd_prefix": "del ",
     "library": "var_list.py",
     "varRefreshCmd": "print(var_dic_list())"
    },
    "r": {
     "delete_cmd_postfix": ") ",
     "delete_cmd_prefix": "rm(",
     "library": "var_list.r",
     "varRefreshCmd": "cat(var_dic_list()) "
    }
   },
   "types_to_exclude": [
    "module",
    "function",
    "builtin_function_or_method",
    "instance",
    "_Feature"
   ],
   "window_display": false
  }
 },
 "nbformat": 4,
 "nbformat_minor": 2
}
